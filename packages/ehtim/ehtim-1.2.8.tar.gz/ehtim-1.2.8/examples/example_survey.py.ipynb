{
 "cells": [
  {
   "cell_type": "code",
   "execution_count": null,
   "metadata": {
    "pycharm": {
     "name": "#%%\n"
    }
   },
   "outputs": [],
   "source": [
    "import ehtim as eh\n",
    "import os"
   ]
  },
  {
   "cell_type": "code",
   "execution_count": null,
   "metadata": {},
   "outputs": [],
   "source": [
    "os.environ[\"OMP_NUM_THREADS\"] = \"1\"\n",
    "os.getenv(\"OMP_NUM_THREADS\")"
   ]
  },
  {
   "cell_type": "code",
   "execution_count": null,
   "metadata": {
    "pycharm": {
     "name": "#%%\n"
    }
   },
   "outputs": [],
   "source": [
    "# Load in example image and array\n",
    "im = eh.image.load_txt('../models/avery_sgra_eofn.txt')\n",
    "eht = eh.array.load_txt('../arrays/EHT2017.txt')"
   ]
  },
  {
   "cell_type": "code",
   "execution_count": null,
   "metadata": {
    "pycharm": {
     "name": "#%%\n"
    }
   },
   "outputs": [],
   "source": [
    "# create example observation uvfits file\n",
    "tint_sec = 5\n",
    "tadv_sec = 600\n",
    "tstart_hr = 0\n",
    "tstop_hr = 24\n",
    "bw_hz = 4e9\n",
    "obs = im.observe(eht, tint_sec, tadv_sec, tstart_hr, tstop_hr, bw_hz,\n",
    "                 sgrscat=False, ampcal=True, phasecal=False)\n",
    "obs.save_uvfits('../../example_survey_obs.uvfits')"
   ]
  },
  {
   "cell_type": "code",
   "execution_count": null,
   "metadata": {
    "pycharm": {
     "name": "#%%\n"
    }
   },
   "outputs": [],
   "source": [
    "# create a mock SEFD error budget for this array\n",
    "sites = list(obs.tkey.keys())\n",
    "SEFD_errs = {}\n",
    "for site in sites:\n",
    "    SEFD_errs[site] = 0.1\n",
    "\n",
    "print(SEFD_errs)"
   ]
  },
  {
   "cell_type": "code",
   "execution_count": null,
   "metadata": {
    "pycharm": {
     "name": "#%%\n"
    }
   },
   "outputs": [],
   "source": [
    "# create a dict of non-varying imaging parameters, such as filenames\n",
    "# see a full list of fixed parameters in the docs\n",
    "params_fixed = eh.survey.create_params_fixed(infile='../../example_survey_obs.uvfits',\n",
    "                                             outfile_base='example_survey',\n",
    "                                             outpath='../../example_survey_output/',\n",
    "                                             nproc=-1, #se all available cores, can be changed\n",
    "                                             overwrite=True,\n",
    "                                             niter_static=2,\n",
    "                                             SEFD_error_budget= SEFD_errs,\n",
    "                                             ttype='nfft')\n",
    "\n",
    "print(params_fixed)"
   ]
  },
  {
   "cell_type": "code",
   "execution_count": null,
   "metadata": {
    "pycharm": {
     "name": "#%%\n"
    }
   },
   "outputs": [],
   "source": [
    "# create a DataFrame of parameters to be surveyed over\n",
    "psets = eh.survey.create_survey_psets(zbl=[0.6,0.7], sys_noise=[0,0.01], prior_fwhm=[50])\n",
    "#psets = eh.survey.create_survey_psets(zbl=[0.6], sys_noise=[0], prior_fwhm=[50])\n",
    "\n",
    "display(psets)"
   ]
  },
  {
   "cell_type": "code",
   "execution_count": null,
   "metadata": {
    "pycharm": {
     "name": "#%%\n"
    }
   },
   "outputs": [],
   "source": [
    "# to run only a single pset, create an instance of the ParameterSet class and use the function run()\n",
    "# should take ~1 minute to run\n",
    "\n",
    "#pset = dict(psets.iloc[0])\n",
    "#ps = eh.survey.ParameterSet(pset, params_fixed)\n"
   ]
  },
  {
   "cell_type": "code",
   "execution_count": null,
   "metadata": {},
   "outputs": [],
   "source": [
    "#ps.run()"
   ]
  },
  {
   "cell_type": "code",
   "execution_count": null,
   "metadata": {
    "pycharm": {
     "name": "#%%\n"
    }
   },
   "outputs": [],
   "source": [
    "# display output image\n",
    "# won't necessarily be good as the default selection of hyperparameters is not optimized for anything\n",
    "#ps.im_out.display();"
   ]
  },
  {
   "cell_type": "code",
   "execution_count": null,
   "metadata": {
    "pycharm": {
     "name": "#%%\n"
    },
    "scrolled": true
   },
   "outputs": [],
   "source": [
    "# to run all parameter sets, use the run_survey function\n",
    "# should take ~1-2 minutes to run\n",
    "eh.survey.run_survey(psets, params_fixed)"
   ]
  },
  {
   "cell_type": "code",
   "execution_count": null,
   "metadata": {
    "pycharm": {
     "name": "#%%\n"
    }
   },
   "outputs": [],
   "source": [
    "ps.ttype"
   ]
  },
  {
   "cell_type": "code",
   "execution_count": null,
   "metadata": {},
   "outputs": [],
   "source": []
  }
 ],
 "metadata": {
  "kernelspec": {
   "display_name": "Python 3",
   "language": "python",
   "name": "python3"
  },
  "language_info": {
   "codemirror_mode": {
    "name": "ipython",
    "version": 3
   },
   "file_extension": ".py",
   "mimetype": "text/x-python",
   "name": "python",
   "nbconvert_exporter": "python",
   "pygments_lexer": "ipython3",
   "version": "3.8.3"
  }
 },
 "nbformat": 4,
 "nbformat_minor": 1
}
