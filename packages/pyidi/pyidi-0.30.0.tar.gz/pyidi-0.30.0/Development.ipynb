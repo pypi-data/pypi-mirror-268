{
 "cells": [
  {
   "cell_type": "code",
   "execution_count": 1,
   "metadata": {},
   "outputs": [],
   "source": [
    "%load_ext autoreload\n",
    "%autoreload 2"
   ]
  },
  {
   "cell_type": "code",
   "execution_count": 2,
   "metadata": {},
   "outputs": [],
   "source": [
    "%matplotlib widget"
   ]
  },
  {
   "cell_type": "code",
   "execution_count": 3,
   "metadata": {},
   "outputs": [],
   "source": [
    "import os\n",
    "import sys\n",
    "sys.path.insert(0, os.path.realpath('__file__'))\n",
    "\n",
    "import numpy as np\n",
    "import matplotlib.pyplot as plt\n",
    "import pickle\n",
    "import pyidi"
   ]
  },
  {
   "cell_type": "code",
   "execution_count": 4,
   "metadata": {},
   "outputs": [
    {
     "name": "stdout",
     "output_type": "stream",
     "text": [
      "Defining points...\n"
     ]
    }
   ],
   "source": [
    "filename_2 = 'data/data_synthetic.cih'\n",
    "video_2 = pyidi.pyIDI(filename_2)\n",
    "\n",
    "if os.path.exists(r\"D:\\phdpy\\pyIDI\\data\\temp_file\\points.pkl\"):\n",
    "    print('Loading points...')\n",
    "    inds_2 = pickle.load(open(r\"D:\\phdpy\\pyIDI\\data\\temp_file\\points.pkl\", 'rb'))\n",
    "else:\n",
    "    print('Defining points...')\n",
    "    inds_2 = np.array([\n",
    "        [ 31,  35],\n",
    "        [ 91,  35],\n",
    "        [ 31, 215],\n",
    "        [ 91, 215],\n",
    "        [ 31, 126],\n",
    "        [ 91, 126],\n",
    "        [ 66,  71],\n",
    "        [ 35,  71],\n",
    "        [ 95,  71],\n",
    "        [ 66, 191],\n",
    "        [ 35, 191],\n",
    "        [ 95, 191]\n",
    "    ])\n",
    "\n",
    "\n",
    "video_2.set_method('lk')\n",
    "video_2.set_points(points=inds_2)\n",
    "\n",
    "video_2.method.configure(int_order=1, roi_size=(25, 25), pbar_type='atpbar', multi_type='mantichora')"
   ]
  },
  {
   "cell_type": "code",
   "execution_count": 6,
   "metadata": {},
   "outputs": [
    {
     "name": "stdout",
     "output_type": "stream",
     "text": [
      "-- Resuming last analysis ---\n",
      " \n",
      "Computation start: 2020-03-09 12:03:55.260511\n"
     ]
    },
    {
     "data": {
      "application/vnd.jupyter.widget-view+json": {
       "model_id": "20e724de004448788aaae0b9e29e8487",
       "version_major": 2,
       "version_minor": 0
      },
      "text/plain": [
       "VBox()"
      ]
     },
     "metadata": {},
     "output_type": "display_data"
    },
    {
     "name": "stdout",
     "output_type": "stream",
     "text": [
      "Computation duration: 00:00:2.84\n"
     ]
    }
   ],
   "source": [
    "disp_multi = video_2.get_displacements(processes=2)"
   ]
  },
  {
   "cell_type": "code",
   "execution_count": 7,
   "metadata": {},
   "outputs": [
    {
     "data": {
      "application/vnd.jupyter.widget-view+json": {
       "model_id": "0e608e8fd4ae4478a9745d8354745fe4",
       "version_major": 2,
       "version_minor": 0
      },
      "text/plain": [
       "Canvas(toolbar=Toolbar(toolitems=[('Home', 'Reset original view', 'home', 'home'), ('Back', 'Back to previous …"
      ]
     },
     "metadata": {},
     "output_type": "display_data"
    },
    {
     "data": {
      "text/plain": [
       "<matplotlib.legend.Legend at 0x1bac50ee908>"
      ]
     },
     "execution_count": 7,
     "metadata": {},
     "output_type": "execute_result"
    }
   ],
   "source": [
    "plt.figure()\n",
    "plt.plot(disp_multi[0, :, 1] - disp_multi[0, 0, 1], label='calc')\n",
    "plt.plot(disp_multi[0, :, 0] - disp_multi[0, 0, 0], label='calc')\n",
    "plt.legend()"
   ]
  },
  {
   "cell_type": "code",
   "execution_count": null,
   "metadata": {},
   "outputs": [],
   "source": []
  }
 ],
 "metadata": {
  "kernelspec": {
   "display_name": "Python 3",
   "language": "python",
   "name": "python3"
  },
  "language_info": {
   "codemirror_mode": {
    "name": "ipython",
    "version": 3
   },
   "file_extension": ".py",
   "mimetype": "text/x-python",
   "name": "python",
   "nbconvert_exporter": "python",
   "pygments_lexer": "ipython3",
   "version": "3.7.4"
  }
 },
 "nbformat": 4,
 "nbformat_minor": 4
}
