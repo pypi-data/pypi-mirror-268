{
 "cells": [
  {
   "cell_type": "code",
   "execution_count": 5,
   "id": "8d7bae54-e858-410c-a574-da1aa325d90a",
   "metadata": {
    "execution": {
     "iopub.execute_input": "2024-04-12T16:17:09.795316Z",
     "iopub.status.busy": "2024-04-12T16:17:09.794504Z",
     "iopub.status.idle": "2024-04-12T16:17:09.803346Z",
     "shell.execute_reply": "2024-04-12T16:17:09.802625Z",
     "shell.execute_reply.started": "2024-04-12T16:17:09.795259Z"
    }
   },
   "outputs": [],
   "source": [
    "import os; os.environ[\"POLARS_VERBOSE\"] = \"1\"\n",
    "\n",
    "import polars as pl\n",
    "import polars_ols as pls\n",
    "import numpy as np"
   ]
  },
  {
   "cell_type": "code",
   "execution_count": 6,
   "id": "35076da5-137a-4d90-a671-ed1e9d650930",
   "metadata": {
    "execution": {
     "iopub.execute_input": "2024-04-12T16:17:10.415486Z",
     "iopub.status.busy": "2024-04-12T16:17:10.414948Z",
     "iopub.status.idle": "2024-04-12T16:17:10.423544Z",
     "shell.execute_reply": "2024-04-12T16:17:10.422534Z",
     "shell.execute_reply.started": "2024-04-12T16:17:10.415447Z"
    }
   },
   "outputs": [],
   "source": [
    "def _make_data(n_samples: int = 2_000, \n",
    "               n_features: int = 5,\n",
    "               n_groups: int = 5,\n",
    "               noise: float = 0.1,\n",
    "              ) -> pl.DataFrame:\n",
    "    rng = np.random.default_rng(0)\n",
    "    x = rng.normal(size=(n_samples, n_features))\n",
    "    eps = rng.normal(size=n_samples, scale=noise)\n",
    "    return pl.DataFrame(data=x, schema=[f\"x{i + 1}\" for i in range(n_features)]).with_columns(\n",
    "        y=pl.lit(-1 * x.sum(1) + eps),\n",
    "        group=pl.lit(rng.integers(0, n_groups, size=n_samples)),\n",
    "        sample_weights=pl.lit(rng.uniform(0, 1, size=n_samples)),\n",
    "    )"
   ]
  },
  {
   "cell_type": "code",
   "execution_count": 3,
   "id": "5ad1869e-d884-48e2-8f37-f790057ada1a",
   "metadata": {
    "execution": {
     "iopub.execute_input": "2024-04-12T15:34:32.207343Z",
     "iopub.status.busy": "2024-04-12T15:34:32.205424Z",
     "iopub.status.idle": "2024-04-12T15:34:32.225894Z",
     "shell.execute_reply": "2024-04-12T15:34:32.223622Z",
     "shell.execute_reply.started": "2024-04-12T15:34:32.207301Z"
    }
   },
   "outputs": [],
   "source": [
    "df = _make_data(n_samples=2_000, n_features=3, n_groups=5)"
   ]
  },
  {
   "cell_type": "markdown",
   "id": "8c0702e4-ba92-4042-ab48-2044e137c52e",
   "metadata": {},
   "source": [
    "### 1. Basic Usage: OLS / WLS\n",
    "- You can use `pls.compute_least_squares` or `least_squares.ols` from the registered namespace. They are equivalent. You need to pass (at least) a target and some features to either, see below for examples.\n",
    "- Features can be specified in any of the following ways:\n",
    "    - a variable number of column (string) names. E.g. `\"x1\", \"x2\", \"x3\"`\n",
    "    - a variable number of polars expressions. E.g. `pl.col(\"x1\"), pl.col(\"x2\"), pl.col(\"x3\")`)\n",
    "    - a wildcard / regex multi-expression. E.g. `pl.selectors.starts_with(\"x\"))`\n",
    "- Simply pass an expression producing strictly positive sample weights to `sample_weights` argument to perform WLS"
   ]
  },
  {
   "cell_type": "code",
   "execution_count": 4,
   "id": "c7748165-bc22-4c0d-98d0-a7813d211449",
   "metadata": {
    "execution": {
     "iopub.execute_input": "2024-04-12T15:34:32.227140Z",
     "iopub.status.busy": "2024-04-12T15:34:32.226879Z",
     "iopub.status.idle": "2024-04-12T15:34:32.238677Z",
     "shell.execute_reply": "2024-04-12T15:34:32.233393Z",
     "shell.execute_reply.started": "2024-04-12T15:34:32.227116Z"
    }
   },
   "outputs": [],
   "source": [
    "ols_expr = pls.compute_least_squares(pl.col(\"y\"),  # target\n",
    "                          pl.selectors.starts_with(\"x\"),  # features - can use wildcard expressions or multiple feature expressions/names\n",
    "                          mode=\"predictions\",\n",
    "                          )\n",
    "\n",
    "# it is equivalent to using the registered namespace\n",
    "assert str(ols_expr) == str(pl.col(\"y\").least_squares.ols(pl.selectors.starts_with(\"x\")))\n",
    "\n",
    "# make WLS by adding sample weights\n",
    "wls_expr = pl.col(\"y\").least_squares.wls(\"x1\", \"x2\", \"x3\",  # also equivalent to pl.col(\"x1\"), pl.col(\"x2\"), pl.col(\"x3\")\n",
    "                                         sample_weights=pl.col(\"sample_weights\"))"
   ]
  },
  {
   "cell_type": "markdown",
   "id": "d3026f57-54a4-453e-a803-5e7d8e943f94",
   "metadata": {},
   "source": [
    "- The expressions returned are normal polars expressions. You can operate on them lazily, so for example we can compute OLS per group in parallel using `.over(...)` or multiply it by some other expression etc."
   ]
  },
  {
   "cell_type": "code",
   "execution_count": 5,
   "id": "c824074b-cecd-43ef-a8b9-bfaeb44f77ad",
   "metadata": {
    "execution": {
     "iopub.execute_input": "2024-04-12T15:34:33.545219Z",
     "iopub.status.busy": "2024-04-12T15:34:33.544621Z",
     "iopub.status.idle": "2024-04-12T15:34:33.564052Z",
     "shell.execute_reply": "2024-04-12T15:34:33.563422Z",
     "shell.execute_reply.started": "2024-04-12T15:34:33.545183Z"
    }
   },
   "outputs": [
    {
     "data": {
      "text/html": [
       "<div><style>\n",
       ".dataframe > thead > tr,\n",
       ".dataframe > tbody > tr {\n",
       "  text-align: right;\n",
       "  white-space: pre-wrap;\n",
       "}\n",
       "</style>\n",
       "<small>shape: (10, 9)</small><table border=\"1\" class=\"dataframe\"><thead><tr><th>x1</th><th>x2</th><th>x3</th><th>y</th><th>group</th><th>sample_weights</th><th>predictions_ols_group</th><th>predictions_ols</th><th>predictions_wls_masked</th></tr><tr><td>f64</td><td>f64</td><td>f64</td><td>f64</td><td>i64</td><td>f64</td><td>f64</td><td>f64</td><td>f64</td></tr></thead><tbody><tr><td>-0.583369</td><td>0.890726</td><td>0.497755</td><td>-0.70099</td><td>2</td><td>0.871927</td><td>-0.800004</td><td>-0.802822</td><td>-0.800443</td></tr><tr><td>0.71304</td><td>1.751887</td><td>-0.223204</td><td>-2.230821</td><td>3</td><td>0.776195</td><td>-2.241771</td><td>-2.239055</td><td>-0.0</td></tr><tr><td>1.098849</td><td>0.463944</td><td>-0.451817</td><td>-1.116165</td><td>2</td><td>0.01473</td><td>-1.111206</td><td>-1.110725</td><td>-1.11138</td></tr><tr><td>-0.485594</td><td>-0.315542</td><td>0.096269</td><td>0.866697</td><td>0</td><td>0.507687</td><td>0.70668</td><td>0.704341</td><td>0.0</td></tr><tr><td>0.949438</td><td>1.029228</td><td>0.318868</td><td>-2.197234</td><td>4</td><td>0.062403</td><td>-2.295554</td><td>-2.294688</td><td>-0.0</td></tr><tr><td>1.057735</td><td>0.268385</td><td>0.350553</td><td>-1.559323</td><td>3</td><td>0.559756</td><td>-1.67483</td><td>-1.674932</td><td>-0.0</td></tr><tr><td>-0.122949</td><td>2.002523</td><td>1.63392</td><td>-3.658936</td><td>3</td><td>0.585527</td><td>-3.503794</td><td>-3.506601</td><td>-0.0</td></tr><tr><td>-0.491295</td><td>0.870951</td><td>0.24026</td><td>-0.552929</td><td>4</td><td>0.367483</td><td>-0.617277</td><td>-0.6182</td><td>-0.0</td></tr><tr><td>-0.226812</td><td>0.740164</td><td>0.180547</td><td>-0.599317</td><td>4</td><td>0.119438</td><td>-0.691848</td><td>-0.692402</td><td>-0.0</td></tr><tr><td>0.159845</td><td>-0.226334</td><td>-0.093559</td><td>0.203998</td><td>2</td><td>0.082505</td><td>0.15888</td><td>0.159546</td><td>0.158951</td></tr></tbody></table></div>"
      ],
      "text/plain": [
       "shape: (10, 9)\n",
       "┌───────────┬───────────┬───────────┬───────────┬───┬───────────┬───────────┬───────────┬──────────┐\n",
       "│ x1        ┆ x2        ┆ x3        ┆ y         ┆ … ┆ sample_we ┆ predictio ┆ predictio ┆ predicti │\n",
       "│ ---       ┆ ---       ┆ ---       ┆ ---       ┆   ┆ ights     ┆ ns_ols_gr ┆ ns_ols    ┆ ons_wls_ │\n",
       "│ f64       ┆ f64       ┆ f64       ┆ f64       ┆   ┆ ---       ┆ oup       ┆ ---       ┆ masked   │\n",
       "│           ┆           ┆           ┆           ┆   ┆ f64       ┆ ---       ┆ f64       ┆ ---      │\n",
       "│           ┆           ┆           ┆           ┆   ┆           ┆ f64       ┆           ┆ f64      │\n",
       "╞═══════════╪═══════════╪═══════════╪═══════════╪═══╪═══════════╪═══════════╪═══════════╪══════════╡\n",
       "│ -0.583369 ┆ 0.890726  ┆ 0.497755  ┆ -0.70099  ┆ … ┆ 0.871927  ┆ -0.800004 ┆ -0.802822 ┆ -0.80044 │\n",
       "│           ┆           ┆           ┆           ┆   ┆           ┆           ┆           ┆ 3        │\n",
       "│ 0.71304   ┆ 1.751887  ┆ -0.223204 ┆ -2.230821 ┆ … ┆ 0.776195  ┆ -2.241771 ┆ -2.239055 ┆ -0.0     │\n",
       "│ 1.098849  ┆ 0.463944  ┆ -0.451817 ┆ -1.116165 ┆ … ┆ 0.01473   ┆ -1.111206 ┆ -1.110725 ┆ -1.11138 │\n",
       "│ -0.485594 ┆ -0.315542 ┆ 0.096269  ┆ 0.866697  ┆ … ┆ 0.507687  ┆ 0.70668   ┆ 0.704341  ┆ 0.0      │\n",
       "│ 0.949438  ┆ 1.029228  ┆ 0.318868  ┆ -2.197234 ┆ … ┆ 0.062403  ┆ -2.295554 ┆ -2.294688 ┆ -0.0     │\n",
       "│ 1.057735  ┆ 0.268385  ┆ 0.350553  ┆ -1.559323 ┆ … ┆ 0.559756  ┆ -1.67483  ┆ -1.674932 ┆ -0.0     │\n",
       "│ -0.122949 ┆ 2.002523  ┆ 1.63392   ┆ -3.658936 ┆ … ┆ 0.585527  ┆ -3.503794 ┆ -3.506601 ┆ -0.0     │\n",
       "│ -0.491295 ┆ 0.870951  ┆ 0.24026   ┆ -0.552929 ┆ … ┆ 0.367483  ┆ -0.617277 ┆ -0.6182   ┆ -0.0     │\n",
       "│ -0.226812 ┆ 0.740164  ┆ 0.180547  ┆ -0.599317 ┆ … ┆ 0.119438  ┆ -0.691848 ┆ -0.692402 ┆ -0.0     │\n",
       "│ 0.159845  ┆ -0.226334 ┆ -0.093559 ┆ 0.203998  ┆ … ┆ 0.082505  ┆ 0.15888   ┆ 0.159546  ┆ 0.158951 │\n",
       "└───────────┴───────────┴───────────┴───────────┴───┴───────────┴───────────┴───────────┴──────────┘"
      ]
     },
     "execution_count": 5,
     "metadata": {},
     "output_type": "execute_result"
    }
   ],
   "source": [
    "df.lazy().with_columns(ols_expr.over(\"group\").alias(\"predictions_ols_group\"),\n",
    "                ols_expr.alias(\"predictions_ols\"),\n",
    "                (wls_expr * (pl.col(\"group\") == 2)).alias(\"predictions_wls_masked\"),\n",
    "               ).collect().tail(10)"
   ]
  },
  {
   "cell_type": "markdown",
   "id": "510b4ac4-9e35-4eda-aafe-5036f38462f8",
   "metadata": {},
   "source": [
    "- The `mode` parameter controls the type of output produced. You can choose from {`predictions`, `coefficients`, `residuals`}. It defaults to `predictions`.\n",
    "- `coefficients` produces a compact struct with the names of your features as fields and estimated coefficients as values"
   ]
  },
  {
   "cell_type": "code",
   "execution_count": null,
   "id": "3948c48d-e429-4ba2-b9fd-0f01b94b1588",
   "metadata": {},
   "outputs": [],
   "source": [
    "# .struct.rename_fields([f.meta.output_name() for f in features])"
   ]
  },
  {
   "cell_type": "code",
   "execution_count": 27,
   "id": "1b64f340-d8bc-493d-906f-e2cd30fa1ce6",
   "metadata": {
    "execution": {
     "iopub.execute_input": "2024-04-12T15:40:43.874642Z",
     "iopub.status.busy": "2024-04-12T15:40:43.873990Z",
     "iopub.status.idle": "2024-04-12T15:40:43.882018Z",
     "shell.execute_reply": "2024-04-12T15:40:43.881356Z",
     "shell.execute_reply.started": "2024-04-12T15:40:43.874608Z"
    }
   },
   "outputs": [
    {
     "data": {
      "text/plain": [
       "['x1', 'x2', 'x3', 'const']"
      ]
     },
     "execution_count": 27,
     "metadata": {},
     "output_type": "execute_result"
    }
   ],
   "source": [
    "cc[\"coefficients\"].struct.fields"
   ]
  },
  {
   "cell_type": "code",
   "execution_count": 13,
   "id": "8b14b8ac-c34c-449c-a109-5198ee01e06e",
   "metadata": {
    "execution": {
     "iopub.execute_input": "2024-04-12T15:38:40.880009Z",
     "iopub.status.busy": "2024-04-12T15:38:40.879453Z",
     "iopub.status.idle": "2024-04-12T15:38:40.888887Z",
     "shell.execute_reply": "2024-04-12T15:38:40.887726Z",
     "shell.execute_reply.started": "2024-04-12T15:38:40.879975Z"
    }
   },
   "outputs": [],
   "source": [
    "cc = df.select(pl.col(\"y\").least_squares.ols(pl.selectors.starts_with(\"x\"), add_intercept=True, mode=\"coefficients\")\n",
    "          .alias(\"coefficients\"))"
   ]
  },
  {
   "cell_type": "markdown",
   "id": "2025d7b3-036c-45c5-a425-088ae33bef72",
   "metadata": {},
   "source": [
    "- If in a `.over()`, `.group_by()`, or a `.with_columns()` context, the output of `mode=\"coefficients\"` broadcasts to the shape of your data\n",
    "- Computing least_squares operations in `.over()` is done in parallel in rust, so it is very efficient\n",
    "- You can use `.unnest()` to unpack the coefficients to separate numeric columns"
   ]
  },
  {
   "cell_type": "code",
   "execution_count": 11,
   "id": "fb069a03-b026-4857-84f0-849beef178b6",
   "metadata": {
    "execution": {
     "iopub.execute_input": "2024-04-12T15:34:59.272948Z",
     "iopub.status.busy": "2024-04-12T15:34:59.272317Z",
     "iopub.status.idle": "2024-04-12T15:34:59.281697Z",
     "shell.execute_reply": "2024-04-12T15:34:59.280783Z",
     "shell.execute_reply.started": "2024-04-12T15:34:59.272912Z"
    }
   },
   "outputs": [
    {
     "data": {
      "text/plain": [
       "'y'"
      ]
     },
     "execution_count": 11,
     "metadata": {},
     "output_type": "execute_result"
    }
   ],
   "source": [
    "pl.col(\"y\").over(\"group\").meta.output_name()"
   ]
  },
  {
   "cell_type": "code",
   "execution_count": 7,
   "id": "4271adf2-6cb4-46ee-90c7-4e1ac1d28d93",
   "metadata": {
    "execution": {
     "iopub.execute_input": "2024-04-12T15:34:35.803055Z",
     "iopub.status.busy": "2024-04-12T15:34:35.802394Z",
     "iopub.status.idle": "2024-04-12T15:34:36.238818Z",
     "shell.execute_reply": "2024-04-12T15:34:36.238204Z",
     "shell.execute_reply.started": "2024-04-12T15:34:35.802999Z"
    }
   },
   "outputs": [
    {
     "name": "stderr",
     "output_type": "stream",
     "text": [
      "panicked at src/expressions.rs:111:6:\n",
      "called `Result::unwrap()` on an `Err` value: Duplicate(ErrString(\"column with name '' has more than one occurrences\"))\n"
     ]
    },
    {
     "ename": "ComputeError",
     "evalue": "the plugin panicked\n\nThe message is suppressed. Set POLARS_VERBOSE=1 to send the panic message to stderr.",
     "output_type": "error",
     "traceback": [
      "\u001b[0;31m---------------------------------------------------------------------------\u001b[0m",
      "\u001b[0;31mComputeError\u001b[0m                              Traceback (most recent call last)",
      "Cell \u001b[0;32mIn[7], line 1\u001b[0m\n\u001b[0;32m----> 1\u001b[0m df_coefficients \u001b[38;5;241m=\u001b[39m \u001b[43mdf\u001b[49m\u001b[38;5;241;43m.\u001b[39;49m\u001b[43mselect\u001b[49m\u001b[43m(\u001b[49m\u001b[38;5;124;43m\"\u001b[39;49m\u001b[38;5;124;43mgroup\u001b[39;49m\u001b[38;5;124;43m\"\u001b[39;49m\u001b[43m,\u001b[49m\u001b[43m \u001b[49m\u001b[43mpl\u001b[49m\u001b[38;5;241;43m.\u001b[39;49m\u001b[43mcol\u001b[49m\u001b[43m(\u001b[49m\u001b[38;5;124;43m\"\u001b[39;49m\u001b[38;5;124;43my\u001b[39;49m\u001b[38;5;124;43m\"\u001b[39;49m\u001b[43m)\u001b[49m\u001b[38;5;241;43m.\u001b[39;49m\u001b[43mleast_squares\u001b[49m\u001b[38;5;241;43m.\u001b[39;49m\u001b[43mols\u001b[49m\u001b[43m(\u001b[49m\n\u001b[1;32m      2\u001b[0m \u001b[43m   \u001b[49m\u001b[38;5;124;43m\"\u001b[39;49m\u001b[38;5;124;43mx1\u001b[39;49m\u001b[38;5;124;43m\"\u001b[39;49m\u001b[43m,\u001b[49m\u001b[43m \u001b[49m\u001b[38;5;124;43m\"\u001b[39;49m\u001b[38;5;124;43mx2\u001b[39;49m\u001b[38;5;124;43m\"\u001b[39;49m\u001b[43m,\u001b[49m\u001b[43m \u001b[49m\u001b[38;5;124;43m\"\u001b[39;49m\u001b[38;5;124;43mx3\u001b[39;49m\u001b[38;5;124;43m\"\u001b[39;49m\u001b[43m,\u001b[49m\u001b[43m \u001b[49m\u001b[43madd_intercept\u001b[49m\u001b[38;5;241;43m=\u001b[39;49m\u001b[38;5;28;43;01mTrue\u001b[39;49;00m\u001b[43m,\u001b[49m\u001b[43m \u001b[49m\u001b[43mmode\u001b[49m\u001b[38;5;241;43m=\u001b[39;49m\u001b[38;5;124;43m\"\u001b[39;49m\u001b[38;5;124;43mcoefficients\u001b[39;49m\u001b[38;5;124;43m\"\u001b[39;49m\u001b[43m)\u001b[49m\u001b[38;5;241;43m.\u001b[39;49m\u001b[43mover\u001b[49m\u001b[43m(\u001b[49m\u001b[38;5;124;43m\"\u001b[39;49m\u001b[38;5;124;43mgroup\u001b[39;49m\u001b[38;5;124;43m\"\u001b[39;49m\u001b[43m)\u001b[49m\n\u001b[1;32m      3\u001b[0m \u001b[43m          \u001b[49m\u001b[38;5;241;43m.\u001b[39;49m\u001b[43malias\u001b[49m\u001b[43m(\u001b[49m\u001b[38;5;124;43m\"\u001b[39;49m\u001b[38;5;124;43mcoefficients\u001b[39;49m\u001b[38;5;124;43m\"\u001b[39;49m\u001b[43m)\u001b[49m\u001b[43m)\u001b[49m\n\u001b[1;32m      4\u001b[0m \u001b[38;5;28mprint\u001b[39m(df_coefficients\u001b[38;5;241m.\u001b[39mhead())\n\u001b[1;32m      5\u001b[0m \u001b[38;5;28mprint\u001b[39m(df_coefficients\u001b[38;5;241m.\u001b[39munnest(\u001b[38;5;124m\"\u001b[39m\u001b[38;5;124mcoefficients\u001b[39m\u001b[38;5;124m\"\u001b[39m)\u001b[38;5;241m.\u001b[39mhead())\n",
      "File \u001b[0;32m~/projects/polars_ols/venv/lib/python3.10/site-packages/polars/dataframe/frame.py:8124\u001b[0m, in \u001b[0;36mDataFrame.select\u001b[0;34m(self, *exprs, **named_exprs)\u001b[0m\n\u001b[1;32m   8024\u001b[0m \u001b[38;5;28;01mdef\u001b[39;00m \u001b[38;5;21mselect\u001b[39m(\n\u001b[1;32m   8025\u001b[0m     \u001b[38;5;28mself\u001b[39m, \u001b[38;5;241m*\u001b[39mexprs: IntoExpr \u001b[38;5;241m|\u001b[39m Iterable[IntoExpr], \u001b[38;5;241m*\u001b[39m\u001b[38;5;241m*\u001b[39mnamed_exprs: IntoExpr\n\u001b[1;32m   8026\u001b[0m ) \u001b[38;5;241m-\u001b[39m\u001b[38;5;241m>\u001b[39m DataFrame:\n\u001b[1;32m   8027\u001b[0m \u001b[38;5;250m    \u001b[39m\u001b[38;5;124;03m\"\"\"\u001b[39;00m\n\u001b[1;32m   8028\u001b[0m \u001b[38;5;124;03m    Select columns from this DataFrame.\u001b[39;00m\n\u001b[1;32m   8029\u001b[0m \n\u001b[0;32m   (...)\u001b[0m\n\u001b[1;32m   8122\u001b[0m \u001b[38;5;124;03m    └───────────┘\u001b[39;00m\n\u001b[1;32m   8123\u001b[0m \u001b[38;5;124;03m    \"\"\"\u001b[39;00m\n\u001b[0;32m-> 8124\u001b[0m     \u001b[38;5;28;01mreturn\u001b[39;00m \u001b[38;5;28;43mself\u001b[39;49m\u001b[38;5;241;43m.\u001b[39;49m\u001b[43mlazy\u001b[49m\u001b[43m(\u001b[49m\u001b[43m)\u001b[49m\u001b[38;5;241;43m.\u001b[39;49m\u001b[43mselect\u001b[49m\u001b[43m(\u001b[49m\u001b[38;5;241;43m*\u001b[39;49m\u001b[43mexprs\u001b[49m\u001b[43m,\u001b[49m\u001b[43m \u001b[49m\u001b[38;5;241;43m*\u001b[39;49m\u001b[38;5;241;43m*\u001b[39;49m\u001b[43mnamed_exprs\u001b[49m\u001b[43m)\u001b[49m\u001b[38;5;241;43m.\u001b[39;49m\u001b[43mcollect\u001b[49m\u001b[43m(\u001b[49m\u001b[43m_eager\u001b[49m\u001b[38;5;241;43m=\u001b[39;49m\u001b[38;5;28;43;01mTrue\u001b[39;49;00m\u001b[43m)\u001b[49m\n",
      "File \u001b[0;32m~/projects/polars_ols/venv/lib/python3.10/site-packages/polars/lazyframe/frame.py:1943\u001b[0m, in \u001b[0;36mLazyFrame.collect\u001b[0;34m(self, type_coercion, predicate_pushdown, projection_pushdown, simplify_expression, slice_pushdown, comm_subplan_elim, comm_subexpr_elim, no_optimization, streaming, background, _eager)\u001b[0m\n\u001b[1;32m   1940\u001b[0m \u001b[38;5;28;01mif\u001b[39;00m background:\n\u001b[1;32m   1941\u001b[0m     \u001b[38;5;28;01mreturn\u001b[39;00m InProcessQuery(ldf\u001b[38;5;241m.\u001b[39mcollect_concurrently())\n\u001b[0;32m-> 1943\u001b[0m \u001b[38;5;28;01mreturn\u001b[39;00m wrap_df(\u001b[43mldf\u001b[49m\u001b[38;5;241;43m.\u001b[39;49m\u001b[43mcollect\u001b[49m\u001b[43m(\u001b[49m\u001b[43m)\u001b[49m)\n",
      "\u001b[0;31mComputeError\u001b[0m: the plugin panicked\n\nThe message is suppressed. Set POLARS_VERBOSE=1 to send the panic message to stderr."
     ]
    }
   ],
   "source": [
    "df_coefficients = df.select(\"group\", pl.col(\"y\").least_squares.ols(\n",
    "   \"x1\", \"x2\", \"x3\", add_intercept=True, mode=\"coefficients\").over(\"group\")\n",
    "          .alias(\"coefficients\"))\n",
    "print(df_coefficients.head())\n",
    "print(df_coefficients.unnest(\"coefficients\").head())"
   ]
  },
  {
   "cell_type": "markdown",
   "id": "d2658468-466a-4d9e-916f-4b711331ec96",
   "metadata": {},
   "source": [
    "### 2. Regularized Models\n",
    "- Ridge `least_squares.ridge`, Lasso `least_squares.lasso`, Elastic Net `least_squares.lasso` with optional non-negative constraint are implemented\n",
    "- Apart from ridge, which is solved in closed form, the rust implementation for regularized models is cyclic coordinate descent with a soft thresholding function that supports an arbitrary combination of L1 / L2 penalties and non-negative constraint.\n",
    "- `sample_weights` and `mode` are general parameters applicable to all models supported by this package\n",
    "\n",
    "Parameters specific to regularized models are contained in `OLSKwargs`:\n",
    "- alpha: scalar representing L1 or L2 penalty strength.\n",
    "- l1_ratio: mixing parameter for ElasticNet regularization (0 for Ridge, 1 for LASSO).\n",
    "- max_iter: maximum number of coordinate descent iterations\n",
    "- tol: tolerance for convergence criterion\n",
    "- positive: boolean enforcing non-negativity constraints on coefficients"
   ]
  },
  {
   "cell_type": "code",
   "execution_count": 9,
   "id": "a9ba3765-2a42-4675-bc92-2d211bdcc03b",
   "metadata": {
    "execution": {
     "iopub.execute_input": "2024-04-10T20:33:45.748192Z",
     "iopub.status.busy": "2024-04-10T20:33:45.747632Z",
     "iopub.status.idle": "2024-04-10T20:33:45.819186Z",
     "shell.execute_reply": "2024-04-10T20:33:45.818658Z",
     "shell.execute_reply.started": "2024-04-10T20:33:45.748161Z"
    }
   },
   "outputs": [
    {
     "data": {
      "text/plain": [
       "\u001b[0;31mInit signature:\u001b[0m\n",
       "\u001b[0mpls\u001b[0m\u001b[0;34m.\u001b[0m\u001b[0mOLSKwargs\u001b[0m\u001b[0;34m(\u001b[0m\u001b[0;34m\u001b[0m\n",
       "\u001b[0;34m\u001b[0m    \u001b[0malpha\u001b[0m\u001b[0;34m:\u001b[0m \u001b[0;34m'Optional[float]'\u001b[0m \u001b[0;34m=\u001b[0m \u001b[0;36m0.0\u001b[0m\u001b[0;34m,\u001b[0m\u001b[0;34m\u001b[0m\n",
       "\u001b[0;34m\u001b[0m    \u001b[0ml1_ratio\u001b[0m\u001b[0;34m:\u001b[0m \u001b[0;34m'Optional[float]'\u001b[0m \u001b[0;34m=\u001b[0m \u001b[0;32mNone\u001b[0m\u001b[0;34m,\u001b[0m\u001b[0;34m\u001b[0m\n",
       "\u001b[0;34m\u001b[0m    \u001b[0mmax_iter\u001b[0m\u001b[0;34m:\u001b[0m \u001b[0;34m'Optional[int]'\u001b[0m \u001b[0;34m=\u001b[0m \u001b[0;36m1000\u001b[0m\u001b[0;34m,\u001b[0m\u001b[0;34m\u001b[0m\n",
       "\u001b[0;34m\u001b[0m    \u001b[0mtol\u001b[0m\u001b[0;34m:\u001b[0m \u001b[0;34m'Optional[float]'\u001b[0m \u001b[0;34m=\u001b[0m \u001b[0;36m1e-05\u001b[0m\u001b[0;34m,\u001b[0m\u001b[0;34m\u001b[0m\n",
       "\u001b[0;34m\u001b[0m    \u001b[0mpositive\u001b[0m\u001b[0;34m:\u001b[0m \u001b[0;34m'Optional[bool]'\u001b[0m \u001b[0;34m=\u001b[0m \u001b[0;32mFalse\u001b[0m\u001b[0;34m,\u001b[0m\u001b[0;34m\u001b[0m\n",
       "\u001b[0;34m\u001b[0m    \u001b[0mnull_policy\u001b[0m\u001b[0;34m:\u001b[0m \u001b[0;34m'NullPolicy'\u001b[0m \u001b[0;34m=\u001b[0m \u001b[0;34m'ignore'\u001b[0m\u001b[0;34m,\u001b[0m\u001b[0;34m\u001b[0m\n",
       "\u001b[0;34m\u001b[0m    \u001b[0msolve_method\u001b[0m\u001b[0;34m:\u001b[0m \u001b[0;34m'Optional[SolveMethod]'\u001b[0m \u001b[0;34m=\u001b[0m \u001b[0;32mNone\u001b[0m\u001b[0;34m,\u001b[0m\u001b[0;34m\u001b[0m\n",
       "\u001b[0;34m\u001b[0m\u001b[0;34m)\u001b[0m \u001b[0;34m->\u001b[0m \u001b[0;32mNone\u001b[0m\u001b[0;34m\u001b[0m\u001b[0;34m\u001b[0m\u001b[0m\n",
       "\u001b[0;31mDocstring:\u001b[0m     \n",
       "Specifies parameters relevant for regularized linear models: LASSO / Ridge / ElasticNet.\n",
       "\n",
       "Attributes:\n",
       "    alpha: Regularization strength. Defaults to 0.0.\n",
       "    l1_ratio: Mixing parameter for ElasticNet regularization (0 for Ridge, 1 for LASSO).\n",
       "        Defaults to None (equivalent to Ridge regression).\n",
       "    max_iter: Maximum number of iterations. Defaults to 1000 iterations.\n",
       "    tol: Tolerance for convergence criterion. Defaults to 1.e-5.\n",
       "    positive: Whether to enforce non-negativity constraints on coefficients.\n",
       "        Defaults to False (no constraint on coefficients).\n",
       "    null_policy: Strategy for handling missing data. Defaults to \"ignore\".\n",
       "    solve_method: Algorithm used for computing least squares solution.\n",
       "        Defaults to None, where a recommended default method is chosen based on problem\n",
       "        specifics.\n",
       "\u001b[0;31mFile:\u001b[0m           ~/anaconda3/envs/gem/lib/python3.10/site-packages/polars_ols/least_squares.py\n",
       "\u001b[0;31mType:\u001b[0m           type\n",
       "\u001b[0;31mSubclasses:\u001b[0m     "
      ]
     },
     "metadata": {},
     "output_type": "display_data"
    }
   ],
   "source": [
    "# inspect OLS Kwargs\n",
    "pls.OLSKwargs?"
   ]
  },
  {
   "cell_type": "code",
   "execution_count": 10,
   "id": "e35fbf57-3edb-4450-bcf7-a6c2aeef1e6f",
   "metadata": {
    "execution": {
     "iopub.execute_input": "2024-04-10T20:33:46.948681Z",
     "iopub.status.busy": "2024-04-10T20:33:46.948106Z",
     "iopub.status.idle": "2024-04-10T20:33:46.964983Z",
     "shell.execute_reply": "2024-04-10T20:33:46.964295Z",
     "shell.execute_reply.started": "2024-04-10T20:33:46.948649Z"
    }
   },
   "outputs": [
    {
     "data": {
      "text/html": [
       "<div><style>\n",
       ".dataframe > thead > tr,\n",
       ".dataframe > tbody > tr {\n",
       "  text-align: right;\n",
       "  white-space: pre-wrap;\n",
       "}\n",
       "</style>\n",
       "<small>shape: (1, 2)</small><table border=\"1\" class=\"dataframe\"><thead><tr><th>coef_enet_non_negative</th><th>coef_ridge</th></tr><tr><td>struct[3]</td><td>struct[3]</td></tr></thead><tbody><tr><td>{0.0,0.0,0.0}</td><td>{-0.91927,-0.911867,-0.920933}</td></tr></tbody></table></div>"
      ],
      "text/plain": [
       "shape: (1, 2)\n",
       "┌────────────────────────┬────────────────────────────────┐\n",
       "│ coef_enet_non_negative ┆ coef_ridge                     │\n",
       "│ ---                    ┆ ---                            │\n",
       "│ struct[3]              ┆ struct[3]                      │\n",
       "╞════════════════════════╪════════════════════════════════╡\n",
       "│ {0.0,0.0,0.0}          ┆ {-0.91927,-0.911867,-0.920933} │\n",
       "└────────────────────────┴────────────────────────────────┘"
      ]
     },
     "execution_count": 10,
     "metadata": {},
     "output_type": "execute_result"
    }
   ],
   "source": [
    "elastic_net_expr = pl.col(\"y\").least_squares.elastic_net(pl.col(\"x1\"), pl.col(\"x2\"), pl.col(\"x3\"),\n",
    "                                                         alpha=0.0001,\n",
    "                                                         l1_ratio=0.5,\n",
    "                                                         positive=True,\n",
    "                                                         mode=\"coefficients\",\n",
    "                                                         ).alias(\"coef_enet_non_negative\")\n",
    "\n",
    "ridge_expr = pl.col(\"y\").least_squares.ridge(pl.col(\"x1\"), pl.col(\"x2\"), pl.col(\"x3\"),\n",
    "                                             alpha=100.0, \n",
    "                                             sample_weights=pl.col(\"sample_weights\"),\n",
    "                                             mode=\"coefficients\").alias(\"coef_ridge\")\n",
    "\n",
    "df.select(elastic_net_expr, ridge_expr)"
   ]
  },
  {
   "cell_type": "markdown",
   "id": "0d51c5a1-bb89-4e45-97bd-7e3bda6beae0",
   "metadata": {},
   "source": [
    "### 3. Formula API\n",
    "\n",
    "- For those who like specifying models in patsy formula syntax, that is also supported\n",
    "- You can either use the `least_squares_from_formula` module level public function or `least_squares.from_formula` from registed namespace\n",
    "- It tries to be clever and maps to the correct underlying implementation based on the model specific parameters you specify"
   ]
  },
  {
   "cell_type": "code",
   "execution_count": 12,
   "id": "8965d16a-1703-4a75-9729-d8fbadb7a1c7",
   "metadata": {
    "execution": {
     "iopub.execute_input": "2024-04-10T20:33:54.487896Z",
     "iopub.status.busy": "2024-04-10T20:33:54.487521Z",
     "iopub.status.idle": "2024-04-10T20:33:54.814794Z",
     "shell.execute_reply": "2024-04-10T20:33:54.814490Z",
     "shell.execute_reply.started": "2024-04-10T20:33:54.487868Z"
    }
   },
   "outputs": [
    {
     "data": {
      "text/html": [
       "<div><style>\n",
       ".dataframe > thead > tr,\n",
       ".dataframe > tbody > tr {\n",
       "  text-align: right;\n",
       "  white-space: pre-wrap;\n",
       "}\n",
       "</style>\n",
       "<small>shape: (2, 2)</small><table border=\"1\" class=\"dataframe\"><thead><tr><th>residuals_1</th><th>residuals_2</th></tr><tr><td>f64</td><td>f64</td></tr></thead><tbody><tr><td>1.0</td><td>1.0</td></tr><tr><td>1.0</td><td>1.0</td></tr></tbody></table></div>"
      ],
      "text/plain": [
       "shape: (2, 2)\n",
       "┌─────────────┬─────────────┐\n",
       "│ residuals_1 ┆ residuals_2 │\n",
       "│ ---         ┆ ---         │\n",
       "│ f64         ┆ f64         │\n",
       "╞═════════════╪═════════════╡\n",
       "│ 1.0         ┆ 1.0         │\n",
       "│ 1.0         ┆ 1.0         │\n",
       "└─────────────┴─────────────┘"
      ]
     },
     "execution_count": 12,
     "metadata": {},
     "output_type": "execute_result"
    }
   ],
   "source": [
    "# compute the residuals in two equivalent ways\n",
    "df.select(\n",
    "    # \"x2:x3\" denotes multiplicative interaction, \"-1\" dentotes no intercept\n",
    "    pls.compute_least_squares_from_formula(\"y ~ x1 + x2:x3 -1\", mode=\"residuals\").alias(\"residuals_1\"), \n",
    "    (pl.col(\"y\") - pl.col(\"y\").least_squares.from_formula(\"x1 + x2:x3 -1\", mode=\"predictions\")).alias(\"residuals_2\"),\n",
    ").corr()"
   ]
  },
  {
   "cell_type": "code",
   "execution_count": 13,
   "id": "aa610cd9-3b3f-43ce-b9cc-24a92df55307",
   "metadata": {
    "execution": {
     "iopub.execute_input": "2024-04-10T20:33:56.625845Z",
     "iopub.status.busy": "2024-04-10T20:33:56.625112Z",
     "iopub.status.idle": "2024-04-10T20:33:56.633119Z",
     "shell.execute_reply": "2024-04-10T20:33:56.632340Z",
     "shell.execute_reply.started": "2024-04-10T20:33:56.625806Z"
    }
   },
   "outputs": [],
   "source": [
    "nnls_formula_expr = pl.col(\"y\").least_squares.from_formula(\"x1 + x2 + x3\",\n",
    "                                       alpha=0.0001,\n",
    "                                       positive=True,\n",
    "                                       )  # knows to use the coordinate descent implementation because of non-negativity\n",
    "\n",
    "\n",
    "ridge_formula_expr = pl.col(\"y\").least_squares.from_formula(\"x1 + x2 + x3\",\n",
    "                                       alpha=0.0001,\n",
    "                                       sample_weights=pl.col(\"sample_weights\"),\n",
    "                                       )  # knows that it needs to use closed form ridge w/ sample weighting"
   ]
  },
  {
   "cell_type": "markdown",
   "id": "ff9caf26-ae5a-46da-acd9-099bcdeee025",
   "metadata": {},
   "source": [
    "### 4. Dynamic Regression Models\n",
    "\n",
    "- Consider the situation where you want to compute coefficients in an expanding or rolling window manner\n",
    "    - naively, you could manually re-compute standard OLS function over consecutive windows (e.g. `.rolling(...).agg(...)`)\n",
    "    - ... but that would be wasteful: (X.T X) and (X.T Y) are only changing by one row (in case of expanding) or two rows (in case of rolling, an addition and a subtraction)\n",
    "- This extension package provides rust implementations `.least_squares.{rolling_ols, expanding_ols, rls}` which efficiently update coefficients as new samples are observed\n",
    "- The key idea is to make use of Sherman-Morrison or Woodbury Identity to recursively update summary statistics or coefficient vectors\n",
    "- Formula API is also supported and the correct implementation is chosen based on parameters provided"
   ]
  },
  {
   "cell_type": "code",
   "execution_count": 14,
   "id": "33a8ee68-dc8b-4a2e-a590-73a4998bc33e",
   "metadata": {
    "execution": {
     "iopub.execute_input": "2024-04-10T20:34:00.488695Z",
     "iopub.status.busy": "2024-04-10T20:34:00.488075Z",
     "iopub.status.idle": "2024-04-10T20:34:00.512500Z",
     "shell.execute_reply": "2024-04-10T20:34:00.512026Z",
     "shell.execute_reply.started": "2024-04-10T20:34:00.488659Z"
    }
   },
   "outputs": [
    {
     "data": {
      "text/html": [
       "<div><style>\n",
       ".dataframe > thead > tr,\n",
       ".dataframe > tbody > tr {\n",
       "  text-align: right;\n",
       "  white-space: pre-wrap;\n",
       "}\n",
       "</style>\n",
       "<small>shape: (2_000, 3)</small><table border=\"1\" class=\"dataframe\"><thead><tr><th>rolling_ridge_coef</th><th>recursive_least_squares_coef</th><th>expanding_ols_pred</th></tr><tr><td>struct[3]</td><td>struct[3]</td><td>f32</td></tr></thead><tbody><tr><td>{0.0,0.0,0.0}</td><td>{-0.999436,-0.999317,-1.003672}</td><td>1.01911</td></tr><tr><td>{0.0,0.0,0.0}</td><td>{-0.981326,-1.010655,-0.989518}</td><td>-1.986911</td></tr><tr><td>{0.0,0.0,0.0}</td><td>{-0.999681,-0.999694,-0.997705}</td><td>-2.273605</td></tr><tr><td>{0.0,0.0,0.0}</td><td>{-1.002054,-0.99703,-1.011049}</td><td>0.713363</td></tr><tr><td>{0.0,0.0,0.0}</td><td>{-1.01267,-1.047104,-1.022372}</td><td>-1.524843</td></tr><tr><td>&hellip;</td><td>&hellip;</td><td>&hellip;</td></tr><tr><td>{-0.99819,-0.998837,-0.99271}</td><td>{-1.004297,-1.004904,-0.990937}</td><td>-0.695928</td></tr><tr><td>{-0.99821,-0.998581,-0.992718}</td><td>{-1.004473,-1.002611,-0.990368}</td><td>3.224019</td></tr><tr><td>{-1.004952,-1.003536,-0.99391}</td><td>{-1.003174,-0.991553,-1.012009}</td><td>-4.029209</td></tr><tr><td>{-0.997664,-1.003617,-1.000195}</td><td>{-1.011577,-1.01432,-0.997295}</td><td>0.60629</td></tr><tr><td>{-0.997986,-1.004691,-0.999824}</td><td>{-1.013571,-1.020214,-0.994661}</td><td>2.030797</td></tr></tbody></table></div>"
      ],
      "text/plain": [
       "shape: (2_000, 3)\n",
       "┌─────────────────────────────────┬─────────────────────────────────┬────────────────────┐\n",
       "│ rolling_ridge_coef              ┆ recursive_least_squares_coef    ┆ expanding_ols_pred │\n",
       "│ ---                             ┆ ---                             ┆ ---                │\n",
       "│ struct[3]                       ┆ struct[3]                       ┆ f32                │\n",
       "╞═════════════════════════════════╪═════════════════════════════════╪════════════════════╡\n",
       "│ {0.0,0.0,0.0}                   ┆ {-0.999436,-0.999317,-1.003672} ┆ 1.01911            │\n",
       "│ {0.0,0.0,0.0}                   ┆ {-0.981326,-1.010655,-0.989518} ┆ -1.986911          │\n",
       "│ {0.0,0.0,0.0}                   ┆ {-0.999681,-0.999694,-0.997705} ┆ -2.273605          │\n",
       "│ {0.0,0.0,0.0}                   ┆ {-1.002054,-0.99703,-1.011049}  ┆ 0.713363           │\n",
       "│ {0.0,0.0,0.0}                   ┆ {-1.01267,-1.047104,-1.022372}  ┆ -1.524843          │\n",
       "│ …                               ┆ …                               ┆ …                  │\n",
       "│ {-0.99819,-0.998837,-0.99271}   ┆ {-1.004297,-1.004904,-0.990937} ┆ -0.695928          │\n",
       "│ {-0.99821,-0.998581,-0.992718}  ┆ {-1.004473,-1.002611,-0.990368} ┆ 3.224019           │\n",
       "│ {-1.004952,-1.003536,-0.99391}  ┆ {-1.003174,-0.991553,-1.012009} ┆ -4.029209          │\n",
       "│ {-0.997664,-1.003617,-1.000195} ┆ {-1.011577,-1.01432,-0.997295}  ┆ 0.60629            │\n",
       "│ {-0.997986,-1.004691,-0.999824} ┆ {-1.013571,-1.020214,-0.994661} ┆ 2.030797           │\n",
       "└─────────────────────────────────┴─────────────────────────────────┴────────────────────┘"
      ]
     },
     "execution_count": 14,
     "metadata": {},
     "output_type": "execute_result"
    }
   ],
   "source": [
    "df.select(\n",
    "    pl.col(\"y\").least_squares.from_formula(\"x1 + x2 + x3 -1\", \n",
    "                                           window_size=252, \n",
    "                                           min_periods=5, \n",
    "                                           alpha=0.0001,  \n",
    "                                           mode=\"coefficients\").over(\"group\").alias(\"rolling_ridge_coef\"),\n",
    "    pl.col(\"y\").least_squares.rls(\n",
    "        pl.col(\"x1\"), pl.col(\"x2\"), pl.col(\"x3\"),\n",
    "        half_life=21.0, # exponential memory proportional to a half-life of 21 samples\n",
    "        initial_state_mean=[-1.0, -1.0, -1.0],  # prior mean for initial coefficients\n",
    "        initial_state_covariance=10.0,  # inversely proportional to L2 prior towards prior mean\n",
    "        mode=\"coefficients\",\n",
    "    ).over(\"group\").alias(\"recursive_least_squares_coef\"),\n",
    "    pl.col(\"y\").least_squares.expanding_ols(pl.col(\"x1\"), pl.col(\"x2\"), pl.col(\"x3\"), \n",
    "                                           mode=\"predictions\").alias(\"expanding_ols_pred\"),\n",
    ")"
   ]
  },
  {
   "cell_type": "markdown",
   "id": "30fe069d-8f4f-47e7-9f7b-cac7ef750823",
   "metadata": {},
   "source": [
    "### 5. Out Of Sample Prediction\n",
    "\n",
    "- If you want to fit on some data then predict on test data, you can do so with `least_squares.predict(...)`"
   ]
  },
  {
   "cell_type": "code",
   "execution_count": 15,
   "id": "ff412921-2c2d-46b3-baad-d54067fa3312",
   "metadata": {
    "execution": {
     "iopub.execute_input": "2024-04-10T20:34:03.717709Z",
     "iopub.status.busy": "2024-04-10T20:34:03.717058Z",
     "iopub.status.idle": "2024-04-10T20:34:03.731915Z",
     "shell.execute_reply": "2024-04-10T20:34:03.730851Z",
     "shell.execute_reply.started": "2024-04-10T20:34:03.717669Z"
    }
   },
   "outputs": [
    {
     "data": {
      "text/html": [
       "<div><style>\n",
       ".dataframe > thead > tr,\n",
       ".dataframe > tbody > tr {\n",
       "  text-align: right;\n",
       "  white-space: pre-wrap;\n",
       "}\n",
       "</style>\n",
       "<small>shape: (5, 2)</small><table border=\"1\" class=\"dataframe\"><thead><tr><th>group</th><th>coefficients</th></tr><tr><td>i64</td><td>struct[2]</td></tr></thead><tbody><tr><td>2</td><td>{-1.032807,-1.043651}</td></tr><tr><td>3</td><td>{-0.99592,-0.985827}</td></tr><tr><td>4</td><td>{-1.040148,-0.995546}</td></tr><tr><td>0</td><td>{-0.962558,-1.095777}</td></tr><tr><td>1</td><td>{-0.961928,-1.036407}</td></tr></tbody></table></div>"
      ],
      "text/plain": [
       "shape: (5, 2)\n",
       "┌───────┬───────────────────────┐\n",
       "│ group ┆ coefficients          │\n",
       "│ ---   ┆ ---                   │\n",
       "│ i64   ┆ struct[2]             │\n",
       "╞═══════╪═══════════════════════╡\n",
       "│ 2     ┆ {-1.032807,-1.043651} │\n",
       "│ 3     ┆ {-0.99592,-0.985827}  │\n",
       "│ 4     ┆ {-1.040148,-0.995546} │\n",
       "│ 0     ┆ {-0.962558,-1.095777} │\n",
       "│ 1     ┆ {-0.961928,-1.036407} │\n",
       "└───────┴───────────────────────┘"
      ]
     },
     "execution_count": 15,
     "metadata": {},
     "output_type": "execute_result"
    }
   ],
   "source": [
    "# make some random training data\n",
    "df_train = _make_data(n_groups=1)\n",
    "\n",
    "# fit coefficients\n",
    "df_coefficients = (\n",
    "    df.lazy()\n",
    "    .select(\n",
    "        \"group\",\n",
    "        pl.col(\"y\")\n",
    "        .least_squares.ols(pl.col(\"x1\"), pl.col(\"x2\"), mode=\"coefficients\")\n",
    "        .over(\"group\").alias(\"coefficients\"),\n",
    "    )\n",
    "    .unique()\n",
    ")\n",
    "\n",
    "df_coefficients.collect()"
   ]
  },
  {
   "cell_type": "code",
   "execution_count": 16,
   "id": "931b667e-cf4d-4b53-be9b-85278c6fd16c",
   "metadata": {
    "execution": {
     "iopub.execute_input": "2024-04-10T20:34:05.523456Z",
     "iopub.status.busy": "2024-04-10T20:34:05.522801Z",
     "iopub.status.idle": "2024-04-10T20:34:05.539512Z",
     "shell.execute_reply": "2024-04-10T20:34:05.538563Z",
     "shell.execute_reply.started": "2024-04-10T20:34:05.523419Z"
    }
   },
   "outputs": [
    {
     "data": {
      "text/html": [
       "<div><style>\n",
       ".dataframe > thead > tr,\n",
       ".dataframe > tbody > tr {\n",
       "  text-align: right;\n",
       "  white-space: pre-wrap;\n",
       "}\n",
       "</style>\n",
       "<small>shape: (5, 2)</small><table border=\"1\" class=\"dataframe\"><thead><tr><th>group</th><th>predictions_test</th></tr><tr><td>i64</td><td>f32</td></tr></thead><tbody><tr><td>0</td><td>5.21625</td></tr><tr><td>0</td><td>-0.810267</td></tr><tr><td>0</td><td>0.377538</td></tr><tr><td>0</td><td>-0.982739</td></tr><tr><td>0</td><td>-1.07014</td></tr></tbody></table></div>"
      ],
      "text/plain": [
       "shape: (5, 2)\n",
       "┌───────┬──────────────────┐\n",
       "│ group ┆ predictions_test │\n",
       "│ ---   ┆ ---              │\n",
       "│ i64   ┆ f32              │\n",
       "╞═══════╪══════════════════╡\n",
       "│ 0     ┆ 5.21625          │\n",
       "│ 0     ┆ -0.810267        │\n",
       "│ 0     ┆ 0.377538         │\n",
       "│ 0     ┆ -0.982739        │\n",
       "│ 0     ┆ -1.07014         │\n",
       "└───────┴──────────────────┘"
      ]
     },
     "execution_count": 16,
     "metadata": {},
     "output_type": "execute_result"
    }
   ],
   "source": [
    "# make some test data\n",
    "df_test = _make_data(n_groups=1)\n",
    "\n",
    "# 1) join on group or common index columns etc.\n",
    "# 2) compute predictions by calling least_squares.predict(coefficient_column, *feature_columns)\n",
    "predictions = (\n",
    "    df_test.lazy()\n",
    "    .join(df_coefficients, on=\"group\")\n",
    "    .select(\n",
    "        \"group\",\n",
    "        pl.col(\"coefficients\").least_squares.predict(\n",
    "            pl.col(\"x1\"), pl.col(\"x2\"), name=\"predictions_test\"\n",
    "        )\n",
    "    )\n",
    "    .collect()\n",
    ")\n",
    "\n",
    "predictions.head()"
   ]
  },
  {
   "cell_type": "code",
   "execution_count": 7,
   "id": "d1d58b93-446d-431d-a537-c8e9d20d53c4",
   "metadata": {
    "execution": {
     "iopub.execute_input": "2024-04-12T16:18:04.167518Z",
     "iopub.status.busy": "2024-04-12T16:18:04.166964Z",
     "iopub.status.idle": "2024-04-12T16:18:04.172328Z",
     "shell.execute_reply": "2024-04-12T16:18:04.171469Z",
     "shell.execute_reply.started": "2024-04-12T16:18:04.167485Z"
    }
   },
   "outputs": [],
   "source": [
    "from polars_ols.least_squares import convert_series_to_struct"
   ]
  },
  {
   "cell_type": "code",
   "execution_count": 14,
   "id": "f0d9b6e8-e205-468f-b071-f5f9b276c2ca",
   "metadata": {
    "execution": {
     "iopub.execute_input": "2024-04-12T16:18:46.975433Z",
     "iopub.status.busy": "2024-04-12T16:18:46.974941Z",
     "iopub.status.idle": "2024-04-12T16:18:46.990354Z",
     "shell.execute_reply": "2024-04-12T16:18:46.989635Z",
     "shell.execute_reply.started": "2024-04-12T16:18:46.975399Z"
    },
    "scrolled": true
   },
   "outputs": [
    {
     "name": "stdout",
     "output_type": "stream",
     "text": [
      "field_name=\"x1\"\n",
      "field_name=\"x2\"\n",
      "series_name=\"x1\"\n",
      "series_name=\"x2\"\n"
     ]
    },
    {
     "data": {
      "text/html": [
       "<div><style>\n",
       ".dataframe > thead > tr,\n",
       ".dataframe > tbody > tr {\n",
       "  text-align: right;\n",
       "  white-space: pre-wrap;\n",
       "}\n",
       "</style>\n",
       "<small>shape: (10, 1)</small><table border=\"1\" class=\"dataframe\"><thead><tr><th>x1</th></tr><tr><td>struct[2]</td></tr></thead><tbody><tr><td>{0.72,0.24}</td></tr><tr><td>{-2.43,0.18}</td></tr><tr><td>{-0.63,-0.95}</td></tr><tr><td>{0.05,0.23}</td></tr><tr><td>{-0.07,0.44}</td></tr><tr><td>{0.65,1.01}</td></tr><tr><td>{-0.02,-2.08}</td></tr><tr><td>{-1.64,-1.36}</td></tr><tr><td>{-0.92,0.01}</td></tr><tr><td>{-0.27,0.75}</td></tr></tbody></table></div>"
      ],
      "text/plain": [
       "shape: (10, 1)\n",
       "┌───────────────┐\n",
       "│ x1            │\n",
       "│ ---           │\n",
       "│ struct[2]     │\n",
       "╞═══════════════╡\n",
       "│ {0.72,0.24}   │\n",
       "│ {-2.43,0.18}  │\n",
       "│ {-0.63,-0.95} │\n",
       "│ {0.05,0.23}   │\n",
       "│ {-0.07,0.44}  │\n",
       "│ {0.65,1.01}   │\n",
       "│ {-0.02,-2.08} │\n",
       "│ {-1.64,-1.36} │\n",
       "│ {-0.92,0.01}  │\n",
       "│ {-0.27,0.75}  │\n",
       "└───────────────┘"
      ]
     },
     "execution_count": 14,
     "metadata": {},
     "output_type": "execute_result"
    }
   ],
   "source": [
    "df = pl.DataFrame({\"y\": [1.16, -2.16, -1.57, 0.21, 0.22, 1.6, -2.11, -2.92, -0.86, 0.47],\n",
    "                   \"x1\": [0.72, -2.43, -0.63, 0.05, -0.07, 0.65, -0.02, -1.64, -0.92, -0.27],\n",
    "                   \"x2\": [0.24, 0.18, -0.95, 0.23, 0.44, 1.01, -2.08, -1.36, 0.01, 0.75],\n",
    "                   \"group\": [1, 1, 1, 1, 1, 2, 2, 2, 2, 2],\n",
    "                   \"weights\": [0.34, 0.97, 0.39, 0.8, 0.57, 0.41, 0.19, 0.87, 0.06, 0.34],\n",
    "                   })\n",
    "df.select(convert_series_to_struct(pl.col(\"x1\"), pl.col(\"x2\")))"
   ]
  },
  {
   "cell_type": "code",
   "execution_count": 15,
   "id": "c473f320-dc5a-4119-8cfd-14a133ace4ae",
   "metadata": {
    "execution": {
     "iopub.execute_input": "2024-04-12T16:22:46.433399Z",
     "iopub.status.busy": "2024-04-12T16:22:46.432530Z",
     "iopub.status.idle": "2024-04-12T16:22:46.474534Z",
     "shell.execute_reply": "2024-04-12T16:22:46.473552Z",
     "shell.execute_reply.started": "2024-04-12T16:22:46.433354Z"
    }
   },
   "outputs": [
    {
     "name": "stdout",
     "output_type": "stream",
     "text": [
      "field_name=\"x1\"\n",
      "field_name=\"x2\"\n",
      "field_name=\"x1\"\n",
      "field_name=\"x2\"\n",
      "series_name=\"\"\n",
      "series_name=\"\"\n"
     ]
    },
    {
     "name": "stderr",
     "output_type": "stream",
     "text": [
      "panicked at src/expressions.rs:562:46:\n",
      "called `Result::unwrap()` on an `Err` value: Duplicate(ErrString(\"column with name '' has more than one occurrences\"))\n"
     ]
    },
    {
     "ename": "ComputeError",
     "evalue": "the plugin panicked\n\nThe message is suppressed. Set POLARS_VERBOSE=1 to send the panic message to stderr.",
     "output_type": "error",
     "traceback": [
      "\u001b[0;31m---------------------------------------------------------------------------\u001b[0m",
      "\u001b[0;31mComputeError\u001b[0m                              Traceback (most recent call last)",
      "Cell \u001b[0;32mIn[15], line 1\u001b[0m\n\u001b[0;32m----> 1\u001b[0m \u001b[43mdf\u001b[49m\u001b[38;5;241;43m.\u001b[39;49m\u001b[43mselect\u001b[49m\u001b[43m(\u001b[49m\u001b[43mconvert_series_to_struct\u001b[49m\u001b[43m(\u001b[49m\u001b[43mpl\u001b[49m\u001b[38;5;241;43m.\u001b[39;49m\u001b[43mcol\u001b[49m\u001b[43m(\u001b[49m\u001b[38;5;124;43m\"\u001b[39;49m\u001b[38;5;124;43mx1\u001b[39;49m\u001b[38;5;124;43m\"\u001b[39;49m\u001b[43m)\u001b[49m\u001b[43m,\u001b[49m\u001b[43m \u001b[49m\u001b[43mpl\u001b[49m\u001b[38;5;241;43m.\u001b[39;49m\u001b[43mcol\u001b[49m\u001b[43m(\u001b[49m\u001b[38;5;124;43m\"\u001b[39;49m\u001b[38;5;124;43mx2\u001b[39;49m\u001b[38;5;124;43m\"\u001b[39;49m\u001b[43m)\u001b[49m\u001b[43m)\u001b[49m\u001b[38;5;241;43m.\u001b[39;49m\u001b[43mover\u001b[49m\u001b[43m(\u001b[49m\u001b[38;5;124;43m\"\u001b[39;49m\u001b[38;5;124;43mgroup\u001b[39;49m\u001b[38;5;124;43m\"\u001b[39;49m\u001b[43m)\u001b[49m\u001b[43m)\u001b[49m\n",
      "File \u001b[0;32m~/projects/polars_ols/venv/lib/python3.10/site-packages/polars/dataframe/frame.py:8124\u001b[0m, in \u001b[0;36mDataFrame.select\u001b[0;34m(self, *exprs, **named_exprs)\u001b[0m\n\u001b[1;32m   8024\u001b[0m \u001b[38;5;28;01mdef\u001b[39;00m \u001b[38;5;21mselect\u001b[39m(\n\u001b[1;32m   8025\u001b[0m     \u001b[38;5;28mself\u001b[39m, \u001b[38;5;241m*\u001b[39mexprs: IntoExpr \u001b[38;5;241m|\u001b[39m Iterable[IntoExpr], \u001b[38;5;241m*\u001b[39m\u001b[38;5;241m*\u001b[39mnamed_exprs: IntoExpr\n\u001b[1;32m   8026\u001b[0m ) \u001b[38;5;241m-\u001b[39m\u001b[38;5;241m>\u001b[39m DataFrame:\n\u001b[1;32m   8027\u001b[0m \u001b[38;5;250m    \u001b[39m\u001b[38;5;124;03m\"\"\"\u001b[39;00m\n\u001b[1;32m   8028\u001b[0m \u001b[38;5;124;03m    Select columns from this DataFrame.\u001b[39;00m\n\u001b[1;32m   8029\u001b[0m \n\u001b[0;32m   (...)\u001b[0m\n\u001b[1;32m   8122\u001b[0m \u001b[38;5;124;03m    └───────────┘\u001b[39;00m\n\u001b[1;32m   8123\u001b[0m \u001b[38;5;124;03m    \"\"\"\u001b[39;00m\n\u001b[0;32m-> 8124\u001b[0m     \u001b[38;5;28;01mreturn\u001b[39;00m \u001b[38;5;28;43mself\u001b[39;49m\u001b[38;5;241;43m.\u001b[39;49m\u001b[43mlazy\u001b[49m\u001b[43m(\u001b[49m\u001b[43m)\u001b[49m\u001b[38;5;241;43m.\u001b[39;49m\u001b[43mselect\u001b[49m\u001b[43m(\u001b[49m\u001b[38;5;241;43m*\u001b[39;49m\u001b[43mexprs\u001b[49m\u001b[43m,\u001b[49m\u001b[43m \u001b[49m\u001b[38;5;241;43m*\u001b[39;49m\u001b[38;5;241;43m*\u001b[39;49m\u001b[43mnamed_exprs\u001b[49m\u001b[43m)\u001b[49m\u001b[38;5;241;43m.\u001b[39;49m\u001b[43mcollect\u001b[49m\u001b[43m(\u001b[49m\u001b[43m_eager\u001b[49m\u001b[38;5;241;43m=\u001b[39;49m\u001b[38;5;28;43;01mTrue\u001b[39;49;00m\u001b[43m)\u001b[49m\n",
      "File \u001b[0;32m~/projects/polars_ols/venv/lib/python3.10/site-packages/polars/lazyframe/frame.py:1943\u001b[0m, in \u001b[0;36mLazyFrame.collect\u001b[0;34m(self, type_coercion, predicate_pushdown, projection_pushdown, simplify_expression, slice_pushdown, comm_subplan_elim, comm_subexpr_elim, no_optimization, streaming, background, _eager)\u001b[0m\n\u001b[1;32m   1940\u001b[0m \u001b[38;5;28;01mif\u001b[39;00m background:\n\u001b[1;32m   1941\u001b[0m     \u001b[38;5;28;01mreturn\u001b[39;00m InProcessQuery(ldf\u001b[38;5;241m.\u001b[39mcollect_concurrently())\n\u001b[0;32m-> 1943\u001b[0m \u001b[38;5;28;01mreturn\u001b[39;00m wrap_df(\u001b[43mldf\u001b[49m\u001b[38;5;241;43m.\u001b[39;49m\u001b[43mcollect\u001b[49m\u001b[43m(\u001b[49m\u001b[43m)\u001b[49m)\n",
      "\u001b[0;31mComputeError\u001b[0m: the plugin panicked\n\nThe message is suppressed. Set POLARS_VERBOSE=1 to send the panic message to stderr."
     ]
    }
   ],
   "source": [
    "df.select(convert_series_to_struct(pl.col(\"x1\"), pl.col(\"x2\")).over(\"group\"))"
   ]
  },
  {
   "cell_type": "code",
   "execution_count": null,
   "id": "ce7f611f-5fe5-4389-ae03-482d0cd1e5e0",
   "metadata": {},
   "outputs": [],
   "source": []
  }
 ],
 "metadata": {
  "kernelspec": {
   "display_name": "Python 3 (ipykernel)",
   "language": "python",
   "name": "python3"
  },
  "language_info": {
   "codemirror_mode": {
    "name": "ipython",
    "version": 3
   },
   "file_extension": ".py",
   "mimetype": "text/x-python",
   "name": "python",
   "nbconvert_exporter": "python",
   "pygments_lexer": "ipython3",
   "version": "3.10.11"
  }
 },
 "nbformat": 4,
 "nbformat_minor": 5
}
