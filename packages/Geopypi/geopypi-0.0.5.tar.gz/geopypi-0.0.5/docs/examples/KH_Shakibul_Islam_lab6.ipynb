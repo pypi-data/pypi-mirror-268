{
 "cells": [
  {
   "cell_type": "markdown",
   "metadata": {},
   "source": [
    "[![image](https://colab.research.google.com/assets/colab-badge.svg)](https://colab.research.google.com/github/Metaliguns77/Geopypi/blob/main/docs/examples/examples.ipynb#scrollTo=vsp9e6EfuWz6)\n",
    "\n",
    "## A basic python package for CNN networking model\n",
    "\n"
   ]
  },
  {
   "cell_type": "code",
   "execution_count": 3,
   "metadata": {},
   "outputs": [
    {
     "data": {
      "application/vnd.jupyter.widget-view+json": {
       "model_id": "5e628a63273f40f3a39de3cb40a449c9",
       "version_major": 2,
       "version_minor": 0
      },
      "text/plain": [
       "Map(center=[40, -100], controls=(ZoomControl(options=['position', 'zoom_in_text', 'zoom_in_title', 'zoom_out_t…"
      ]
     },
     "execution_count": 3,
     "metadata": {},
     "output_type": "execute_result"
    }
   ],
   "source": [
    "import geopypi\n",
    "m = geopypi.Map()\n",
    "m.add_basemap(\"OpenTopoMap\")\n",
    "m"
   ]
  },
  {
   "cell_type": "code",
   "execution_count": 4,
   "metadata": {},
   "outputs": [
    {
     "name": "stdout",
     "output_type": "stream",
     "text": [
      "Requirement already satisfied: geopypi in c:\\users\\shaki\\anaconda3\\envs\\geo\\lib\\site-packages (0.0.1)\n",
      "Requirement already satisfied: numpy in c:\\users\\shaki\\anaconda3\\envs\\geo\\lib\\site-packages (from geopypi) (1.26.4)\n",
      "Requirement already satisfied: ipyleaflet in c:\\users\\shaki\\anaconda3\\envs\\geo\\lib\\site-packages (from geopypi) (0.18.2)\n",
      "Requirement already satisfied: ipywidgets<9,>=7.6.0 in c:\\users\\shaki\\anaconda3\\envs\\geo\\lib\\site-packages (from ipyleaflet->geopypi) (8.1.2)\n",
      "Requirement already satisfied: traittypes<3,>=0.2.1 in c:\\users\\shaki\\anaconda3\\envs\\geo\\lib\\site-packages (from ipyleaflet->geopypi) (0.2.1)\n",
      "Requirement already satisfied: xyzservices>=2021.8.1 in c:\\users\\shaki\\anaconda3\\envs\\geo\\lib\\site-packages (from ipyleaflet->geopypi) (2023.10.1)\n",
      "Requirement already satisfied: branca>=0.5.0 in c:\\users\\shaki\\anaconda3\\envs\\geo\\lib\\site-packages (from ipyleaflet->geopypi) (0.7.1)\n",
      "Requirement already satisfied: jinja2>=3 in c:\\users\\shaki\\anaconda3\\envs\\geo\\lib\\site-packages (from branca>=0.5.0->ipyleaflet->geopypi) (3.1.3)\n",
      "Requirement already satisfied: comm>=0.1.3 in c:\\users\\shaki\\anaconda3\\envs\\geo\\lib\\site-packages (from ipywidgets<9,>=7.6.0->ipyleaflet->geopypi) (0.2.1)\n",
      "Requirement already satisfied: ipython>=6.1.0 in c:\\users\\shaki\\anaconda3\\envs\\geo\\lib\\site-packages (from ipywidgets<9,>=7.6.0->ipyleaflet->geopypi) (8.21.0)\n",
      "Requirement already satisfied: traitlets>=4.3.1 in c:\\users\\shaki\\anaconda3\\envs\\geo\\lib\\site-packages (from ipywidgets<9,>=7.6.0->ipyleaflet->geopypi) (5.14.1)\n",
      "Requirement already satisfied: widgetsnbextension~=4.0.10 in c:\\users\\shaki\\anaconda3\\envs\\geo\\lib\\site-packages (from ipywidgets<9,>=7.6.0->ipyleaflet->geopypi) (4.0.10)\n",
      "Requirement already satisfied: jupyterlab-widgets~=3.0.10 in c:\\users\\shaki\\anaconda3\\envs\\geo\\lib\\site-packages (from ipywidgets<9,>=7.6.0->ipyleaflet->geopypi) (3.0.10)\n",
      "Requirement already satisfied: decorator in c:\\users\\shaki\\anaconda3\\envs\\geo\\lib\\site-packages (from ipython>=6.1.0->ipywidgets<9,>=7.6.0->ipyleaflet->geopypi) (5.1.1)\n",
      "Requirement already satisfied: jedi>=0.16 in c:\\users\\shaki\\anaconda3\\envs\\geo\\lib\\site-packages (from ipython>=6.1.0->ipywidgets<9,>=7.6.0->ipyleaflet->geopypi) (0.19.1)\n",
      "Requirement already satisfied: matplotlib-inline in c:\\users\\shaki\\anaconda3\\envs\\geo\\lib\\site-packages (from ipython>=6.1.0->ipywidgets<9,>=7.6.0->ipyleaflet->geopypi) (0.1.6)\n",
      "Requirement already satisfied: prompt-toolkit<3.1.0,>=3.0.41 in c:\\users\\shaki\\anaconda3\\envs\\geo\\lib\\site-packages (from ipython>=6.1.0->ipywidgets<9,>=7.6.0->ipyleaflet->geopypi) (3.0.43)\n",
      "Requirement already satisfied: pygments>=2.4.0 in c:\\users\\shaki\\anaconda3\\envs\\geo\\lib\\site-packages (from ipython>=6.1.0->ipywidgets<9,>=7.6.0->ipyleaflet->geopypi) (2.17.2)\n",
      "Requirement already satisfied: stack-data in c:\\users\\shaki\\anaconda3\\envs\\geo\\lib\\site-packages (from ipython>=6.1.0->ipywidgets<9,>=7.6.0->ipyleaflet->geopypi) (0.6.3)\n",
      "Requirement already satisfied: colorama in c:\\users\\shaki\\anaconda3\\envs\\geo\\lib\\site-packages (from ipython>=6.1.0->ipywidgets<9,>=7.6.0->ipyleaflet->geopypi) (0.4.6)\n",
      "Requirement already satisfied: MarkupSafe>=2.0 in c:\\users\\shaki\\anaconda3\\envs\\geo\\lib\\site-packages (from jinja2>=3->branca>=0.5.0->ipyleaflet->geopypi) (2.1.5)\n",
      "Requirement already satisfied: parso<0.9.0,>=0.8.3 in c:\\users\\shaki\\anaconda3\\envs\\geo\\lib\\site-packages (from jedi>=0.16->ipython>=6.1.0->ipywidgets<9,>=7.6.0->ipyleaflet->geopypi) (0.8.3)\n",
      "Requirement already satisfied: wcwidth in c:\\users\\shaki\\anaconda3\\envs\\geo\\lib\\site-packages (from prompt-toolkit<3.1.0,>=3.0.41->ipython>=6.1.0->ipywidgets<9,>=7.6.0->ipyleaflet->geopypi) (0.2.13)\n",
      "Requirement already satisfied: executing>=1.2.0 in c:\\users\\shaki\\anaconda3\\envs\\geo\\lib\\site-packages (from stack-data->ipython>=6.1.0->ipywidgets<9,>=7.6.0->ipyleaflet->geopypi) (2.0.1)\n",
      "Requirement already satisfied: asttokens>=2.1.0 in c:\\users\\shaki\\anaconda3\\envs\\geo\\lib\\site-packages (from stack-data->ipython>=6.1.0->ipywidgets<9,>=7.6.0->ipyleaflet->geopypi) (2.4.1)\n",
      "Requirement already satisfied: pure-eval in c:\\users\\shaki\\anaconda3\\envs\\geo\\lib\\site-packages (from stack-data->ipython>=6.1.0->ipywidgets<9,>=7.6.0->ipyleaflet->geopypi) (0.2.2)\n",
      "Requirement already satisfied: six>=1.12.0 in c:\\users\\shaki\\anaconda3\\envs\\geo\\lib\\site-packages (from asttokens>=2.1.0->stack-data->ipython>=6.1.0->ipywidgets<9,>=7.6.0->ipyleaflet->geopypi) (1.16.0)\n"
     ]
    }
   ],
   "source": [
    "!pip install geopypi"
   ]
  }
 ],
 "metadata": {
  "kernelspec": {
   "display_name": "geo",
   "language": "python",
   "name": "python3"
  },
  "language_info": {
   "codemirror_mode": {
    "name": "ipython",
    "version": 3
   },
   "file_extension": ".py",
   "mimetype": "text/x-python",
   "name": "python",
   "nbconvert_exporter": "python",
   "pygments_lexer": "ipython3",
   "version": "3.11.7"
  }
 },
 "nbformat": 4,
 "nbformat_minor": 2
}
