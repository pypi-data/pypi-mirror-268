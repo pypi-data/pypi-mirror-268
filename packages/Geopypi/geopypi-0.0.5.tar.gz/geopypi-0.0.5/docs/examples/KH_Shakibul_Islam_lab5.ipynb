{
 "cells": [
  {
   "cell_type": "markdown",
   "id": "0",
   "metadata": {},
   "source": [
    "# Lab 5\n",
    "\n",
    "[![image](https://colab.research.google.com/assets/colab-badge.svg)](https://colab.research.google.com/github/Metaliguns77/Geopypi/blob/main/docs/examples/KH_Shakibul_Islam_lab5.ipynb)\n",
    "\n",
    "## Submission instructions\n",
    "\n",
    "1. Download the notebook from https://geohey.gishub.org/labs/lab5\n",
    "2. Complete the lab questions\n",
    "3. Restart Kernel and Run All Cells\n",
    "4. Upload the notebook to your GitHub repository\n",
    "5. Make sure the notebook has an `Open In Colab` badge. Click on the badge to make sure your notebook can be opened in Colab.\n",
    "6. Submit the link to the notebook on your GitHub repository to Canvas"
   ]
  },
  {
   "cell_type": "markdown",
   "id": "1",
   "metadata": {},
   "source": [
    "## Question 1\n",
    "\n",
    "**Person:** Use a dictionary to store information about a person you know. Store their first name, last name, age, and the city in which they live. You should have keys such as first_name, last_name, age, and city. Print each piece of information stored in your dictionary."
   ]
  },
  {
   "cell_type": "code",
   "execution_count": 1,
   "id": "2",
   "metadata": {},
   "outputs": [
    {
     "name": "stdout",
     "output_type": "stream",
     "text": [
      "First Name: John\n",
      "Last Name: Conner\n",
      "Age: 28\n",
      "City: New York\n"
     ]
    }
   ],
   "source": [
    "person_info = {\n",
    "    'first_name': 'John',\n",
    "    'last_name': 'Conner',\n",
    "    'age': 28,\n",
    "    'city': 'New York'\n",
    "}\n",
    "\n",
    "\n",
    "print(f\"First Name: {person_info['first_name']}\")\n",
    "print(f\"Last Name: {person_info['last_name']}\")\n",
    "print(f\"Age: {person_info['age']}\")\n",
    "print(f\"City: {person_info['city']}\")"
   ]
  },
  {
   "cell_type": "markdown",
   "id": "3",
   "metadata": {},
   "source": [
    "## Question 2\n",
    "\n",
    "**Favorite Numbers:** Use a dictionary to store people’s favorite numbers. Think of five names, and use them as keys in your dictionary. Think of a favorite number for each person, and store each as a value in your dictionary. Print each person’s name and their favorite number. For even more fun, poll a few friends and get some actual data for your program."
   ]
  },
  {
   "cell_type": "code",
   "execution_count": 2,
   "id": "4",
   "metadata": {},
   "outputs": [
    {
     "name": "stdout",
     "output_type": "stream",
     "text": [
      "Borno's favorite number is 7.\n",
      "Mou's favorite number is 42.\n",
      "Tisha's favorite number is 23.\n",
      "Jannatul's favorite number is 8.\n",
      "Sumaya's favorite number is 3.\n"
     ]
    }
   ],
   "source": [
    "numbers = {\n",
    "    'Borno': 7,\n",
    "    'Mou': 42,\n",
    "    'Tisha': 23,\n",
    "    'Jannatul': 8,\n",
    "    'Sumaya': 3\n",
    "}\n",
    "\n",
    "for name, number in numbers.items():\n",
    "    print(f\"{name}'s favorite number is {number}.\")"
   ]
  },
  {
   "cell_type": "markdown",
   "id": "5",
   "metadata": {},
   "source": [
    "## Question 3\n",
    "\n",
    "**Glossary:** A Python dictionary can be used to model an actual dictionary. However, to avoid confusion, let’s call it a glossary.\n",
    "\n",
    "- Think of five programming words you’ve learned about in the previous chapters. Use these words as the keys in your glossary, and store their meanings as values.\n",
    "- Print each word and its meaning as neatly formatted output. You might print the word followed by a colon and then its meaning, or print the word on one line and then print its meaning indented on a second line. Use the newline character (\\n) to insert a blank line between each word-meaning pair in your output."
   ]
  },
  {
   "cell_type": "code",
   "execution_count": 3,
   "id": "6",
   "metadata": {},
   "outputs": [
    {
     "name": "stdout",
     "output_type": "stream",
     "text": [
      "Variable:A storage location paired with an associated symbolic name.\n",
      "\n",
      "Loop:A programming structure that repeats a sequence of instructions.\n",
      "\n",
      "Function:A block of organized, reusable code that is used to perform a single, related action.\n",
      "\n",
      "Dictionary:A collection of key-value pairs that maps an immutable key to a value.\n",
      "\n",
      "List:An ordered collection of items which is changeable, allowing duplicate members.\n",
      "\n"
     ]
    }
   ],
   "source": [
    "glossary = {\n",
    "    'variable': 'A storage location paired with an associated symbolic name.',\n",
    "    'loop': 'A programming structure that repeats a sequence of instructions.',\n",
    "    'function': 'A block of organized, reusable code that is used to perform a single, related action.',\n",
    "    'dictionary': 'A collection of key-value pairs that maps an immutable key to a value.',\n",
    "    'list': 'An ordered collection of items which is changeable, allowing duplicate members.'\n",
    "}\n",
    "\n",
    "\n",
    "for term, definition in glossary.items():\n",
    "    print(f\"{term.title()}:{definition}\\n\")"
   ]
  },
  {
   "cell_type": "markdown",
   "id": "7",
   "metadata": {},
   "source": [
    "## Question 4\n",
    "\n",
    "**Glossary 2:** Now that you know how to loop through a dictionary, clean up the code from Question 3 by replacing your series of print() calls with a loop that runs through the dictionary’s keys and values. When you’re sure that your loop works, add five more Python terms to your glossary. When you run your program again, these new words and meanings should automatically be included in the output."
   ]
  },
  {
   "cell_type": "code",
   "execution_count": 4,
   "id": "8",
   "metadata": {},
   "outputs": [
    {
     "name": "stdout",
     "output_type": "stream",
     "text": [
      "Variable:A storage location paired with an associated symbolic name.\n",
      "\n",
      "Loop:A programming structure that repeats a sequence of instructions.\n",
      "\n",
      "Function:A block of organized, reusable code that is used to perform a single, related action.\n",
      "\n",
      "Dictionary:A collection of key-value pairs that maps an immutable key to a value.\n",
      "\n",
      "List:An ordered collection of items which is changeable, allowing duplicate members.\n",
      "\n",
      "Tuple:An ordered collection of items which is unchangeable, allowing duplicate members.\n",
      "\n",
      "Set:An unordered collection of items that does not allow duplicate elements, useful for storing unique items.\n",
      "\n",
      "Conditional Statement:A statement that is used to perform different actions based on different conditions, often expressed with if-else blocks.\n",
      "\n",
      "Comprehension:A concise way to create lists, dictionaries, sets, etc., using a single line of code.\n",
      "\n",
      "Module:A file containing Python definitions and statements. The file name is the module name with the suffix .py added.\n",
      "\n"
     ]
    }
   ],
   "source": [
    "\n",
    "glossary= {\n",
    "    'variable': 'A storage location paired with an associated symbolic name.',\n",
    "    'loop': 'A programming structure that repeats a sequence of instructions.',\n",
    "    'function': 'A block of organized, reusable code that is used to perform a single, related action.',\n",
    "    'dictionary': 'A collection of key-value pairs that maps an immutable key to a value.',\n",
    "    'list': 'An ordered collection of items which is changeable, allowing duplicate members.',\n",
    "    'tuple': 'An ordered collection of items which is unchangeable, allowing duplicate members.',\n",
    "    'set': 'An unordered collection of items that does not allow duplicate elements, useful for storing unique items.',\n",
    "    'conditional statement': 'A statement that is used to perform different actions based on different conditions, often expressed with if-else blocks.',\n",
    "    'comprehension': 'A concise way to create lists, dictionaries, sets, etc., using a single line of code.',\n",
    "    'module': 'A file containing Python definitions and statements. The file name is the module name with the suffix .py added.'\n",
    "}\n",
    "\n",
    "for term, definition in glossary.items():\n",
    "    print(f\"{term.title()}:{definition}\\n\")\n"
   ]
  },
  {
   "cell_type": "markdown",
   "id": "9",
   "metadata": {},
   "source": [
    "## Question 5\n",
    "\n",
    "**Rivers:** Make a dictionary containing three major rivers and the country each river runs through. One key-value pair might be 'nile': 'egypt'.\n",
    "\n",
    "- Use a loop to print a sentence about each river, such as _The Nile runs through Egypt._\n",
    "- Use a loop to print the name of each river included in the dictionary.\n",
    "- Use a loop to print the name of each country included in the dictionary."
   ]
  },
  {
   "cell_type": "code",
   "execution_count": 5,
   "id": "10",
   "metadata": {},
   "outputs": [
    {
     "name": "stdout",
     "output_type": "stream",
     "text": [
      "The Yellow River runs through China.\n",
      "The Brahmaputra runs through India.\n",
      "The Jamuna runs through Bangladesh.\n",
      "Rivers mentioned:\n",
      "- Yellow River\n",
      "- Brahmaputra\n",
      "- Jamuna\n",
      "Countries mentioned:\n",
      "- China\n",
      "- India\n",
      "- Bangladesh\n"
     ]
    }
   ],
   "source": [
    "\n",
    "rivers = {\n",
    "    'yellow river': 'china',\n",
    "    'brahmaputra': 'india',\n",
    "    'jamuna': 'bangladesh',\n",
    "}\n",
    "\n",
    "\n",
    "for river, country in rivers.items():\n",
    "    print(f\"The {river.title()} runs through {country.title()}.\")\n",
    "\n",
    "\n",
    "\n",
    "print(\"Rivers mentioned:\")\n",
    "for river in rivers.keys():\n",
    "    print(f\"- {river.title()}\")\n",
    "\n",
    "\n",
    "print(\"Countries mentioned:\")\n",
    "for country in rivers.values():\n",
    "    print(f\"- {country.title()}\")\n"
   ]
  },
  {
   "cell_type": "markdown",
   "id": "11",
   "metadata": {},
   "source": [
    "## Question 6\n",
    "\n",
    "**Cities:** Make a dictionary called `cities`. Use the names of three cities as keys in your dictionary. Create a dictionary of information about each city and include the country that the city is in, its approximate population, and one fact about that city. The keys for each city’s dictionary should be something like `country`, `population`, and `fact`. Print the name of each city and all of the information you have stored about it."
   ]
  },
  {
   "cell_type": "code",
   "execution_count": 6,
   "id": "12",
   "metadata": {},
   "outputs": [
    {
     "name": "stdout",
     "output_type": "stream",
     "text": [
      "City: Dhaka\n",
      "Country: Bangladesh\n",
      "Population: 11 million\n",
      "Fact: Dhaka is known for its traffic jam and masala curry food.\n",
      "\n",
      "City: Paris\n",
      "Country: France\n",
      "Population: 2.1 million\n",
      "Fact: Paris is famous for its art, fashion, gastronomy, and culture.\n",
      "\n",
      "City: Cairo\n",
      "Country: Egypt\n",
      "Population: 9.5 million\n",
      "Fact: Cairo is home to the nearest ancient wonders of the world, the Great Pyramids.\n",
      "\n"
     ]
    }
   ],
   "source": [
    "cities = {\n",
    "    'Dhaka': {\n",
    "        'country': 'Bangladesh',\n",
    "        'population': '11 million',\n",
    "        'fact': 'Dhaka is known for its traffic jam and masala curry food.'\n",
    "    },\n",
    "    'Paris': {\n",
    "        'country': 'France',\n",
    "        'population': '2.1 million',\n",
    "        'fact': 'Paris is famous for its art, fashion, gastronomy, and culture.'\n",
    "    },\n",
    "    'Cairo': {\n",
    "        'country': 'Egypt',\n",
    "        'population': '9.5 million',\n",
    "        'fact': 'Cairo is home to the nearest ancient wonders of the world, the Great Pyramids.'\n",
    "    }\n",
    "}\n",
    "\n",
    "for city, info in cities.items():\n",
    "    print(f\"City: {city}\")\n",
    "    for key, value in info.items():\n",
    "        print(f\"{key.capitalize()}: {value}\")\n",
    "    print()"
   ]
  },
  {
   "cell_type": "markdown",
   "id": "13",
   "metadata": {},
   "source": [
    "## Question 7\n",
    "\n",
    "**Rental Car:** Write a program that asks the user what kind of rental car they would like. Print a message about that car, such as “Let me see if I can find you a Subaru.”"
   ]
  },
  {
   "cell_type": "code",
   "execution_count": 7,
   "id": "14",
   "metadata": {},
   "outputs": [
    {
     "name": "stdout",
     "output_type": "stream",
     "text": [
      "Let me see if I can find you a subaru.\n"
     ]
    }
   ],
   "source": [
    "car_pref = input(\"What kind of rental car would you like? \")\n",
    "\n",
    "print(f\"Let me see if I can find you a {car_pref}.\")"
   ]
  },
  {
   "cell_type": "markdown",
   "id": "15",
   "metadata": {},
   "source": [
    "## Question 8\n",
    "\n",
    "**Restaurant Seating:** Write a program that asks the user how many people are in their dinner group. If the answer is more than eight, print a message saying they’ll have to wait for a table. Otherwise, report that their table is ready."
   ]
  },
  {
   "cell_type": "code",
   "execution_count": 8,
   "id": "16",
   "metadata": {},
   "outputs": [
    {
     "name": "stdout",
     "output_type": "stream",
     "text": [
      "Sorry, you'll have to wait for a table.\n"
     ]
    }
   ],
   "source": [
    "number_of_people = int(input(\"How many people are in your dinner group? \"))\n",
    "\n",
    "if number_of_people > 8:\n",
    "    print(\"Sorry, you'll have to wait for a table.\")\n",
    "else:\n",
    "    print(\"Your table is ready.\")"
   ]
  },
  {
   "cell_type": "markdown",
   "id": "17",
   "metadata": {},
   "source": [
    "## Question 9\n",
    "\n",
    "**Multiples of Ten:** Ask the user for a number, and then report whether the number is a multiple of 10 or not."
   ]
  },
  {
   "cell_type": "code",
   "execution_count": 9,
   "id": "18",
   "metadata": {},
   "outputs": [
    {
     "name": "stdout",
     "output_type": "stream",
     "text": [
      "The number 56 is not a multiple of 10.\n"
     ]
    }
   ],
   "source": [
    "number = int(input(\"Please enter a number: \"))\n",
    "\n",
    "if number % 10 == 0:\n",
    "    print(f\"The number {number} is a multiple of 10.\")\n",
    "else:\n",
    "    print(f\"The number {number} is not a multiple of 10.\")"
   ]
  },
  {
   "cell_type": "markdown",
   "id": "19",
   "metadata": {},
   "source": [
    "## Question 10\n",
    "\n",
    "**Pizza Toppings:** Write a loop that prompts the user to enter a series of pizza toppings until they enter a 'quit' value. As they enter each topping, print a message saying you’ll add that topping to their pizza."
   ]
  },
  {
   "cell_type": "code",
   "execution_count": 10,
   "id": "20",
   "metadata": {},
   "outputs": [
    {
     "name": "stdout",
     "output_type": "stream",
     "text": [
      "You'll add beef  to your pizza.\n",
      "You'll add banana to your pizza.\n"
     ]
    }
   ],
   "source": [
    "pizza_toppings = []\n",
    "\n",
    "while True:\n",
    "    topping = input(\"Add this topping to your pizza: \")\n",
    "    \n",
    "    if topping == 'quit':\n",
    "        break\n",
    "    else:\n",
    "        print(f\"You'll add {topping} to your pizza.\")"
   ]
  },
  {
   "cell_type": "markdown",
   "id": "21",
   "metadata": {},
   "source": [
    "## Question 11\n",
    "\n",
    "**Message:** Write a function called `display_message()` that prints one sentence telling everyone what you are learning about in this chapter. Call the function, and make sure the message displays correctly."
   ]
  },
  {
   "cell_type": "code",
   "execution_count": 1,
   "id": "22",
   "metadata": {},
   "outputs": [
    {
     "name": "stdout",
     "output_type": "stream",
     "text": [
      "I'm learning  Python Packages in this chapter!\n"
     ]
    }
   ],
   "source": [
    "def display_message():\n",
    "    \n",
    "    print(\"I'm learning  Python Packages in this chapter!\")\n",
    "\n",
    "display_message()"
   ]
  },
  {
   "cell_type": "markdown",
   "id": "23",
   "metadata": {},
   "source": [
    "## Question 12\n",
    "\n",
    "**Favorite Book:** Write a function called `favorite_book()` that accepts one parameter, title. The function should print a message, such as `One of my favorite books is Alice in Wonderland`. Call the function, making sure to include a book title as an argument in the function call."
   ]
  },
  {
   "cell_type": "code",
   "execution_count": 12,
   "id": "24",
   "metadata": {},
   "outputs": [
    {
     "name": "stdout",
     "output_type": "stream",
     "text": [
      "One of my favorite books is It Wasn't About Slavery.\n"
     ]
    }
   ],
   "source": [
    "def favorite_book(title):\n",
    "\n",
    "    print(f\"One of my favorite books is {title}.\")\n",
    "\n",
    "favorite_book(\"It Wasn't About Slavery\")"
   ]
  },
  {
   "cell_type": "markdown",
   "id": "25",
   "metadata": {},
   "source": [
    "## Question 13\n",
    "\n",
    "**T-Shirt:** Write a function called `make_shirt()` that accepts a size and the text of a message that should be printed on the shirt. The function should print a sentence summarizing the size of the shirt and the message printed on it.\n",
    "\n",
    "Call the function once using positional arguments to make a shirt. Call the function a second time using keyword arguments."
   ]
  },
  {
   "cell_type": "code",
   "execution_count": 13,
   "id": "26",
   "metadata": {},
   "outputs": [
    {
     "name": "stdout",
     "output_type": "stream",
     "text": [
      "Making a large t-shirt with the message: 'Python is Super!'\n",
      "Making a medium t-shirt with the message: 'Code More, Worry Less'\n"
     ]
    }
   ],
   "source": [
    "def make_shirt(size, message):\n",
    "    \"\"\"Prints the size of the shirt and the message printed on it.\"\"\"\n",
    "    print(f\"Making a {size} t-shirt with the message: '{message}'\")\n",
    "\n",
    "\n",
    "make_shirt('large', 'Python is Super!')\n",
    "\n",
    "make_shirt(message='Code More, Worry Less', size='medium')"
   ]
  },
  {
   "cell_type": "markdown",
   "id": "27",
   "metadata": {},
   "source": [
    "## Question 14\n",
    "\n",
    "**Large Shirts:** Modify the `make_shirt()` function so that shirts are large by default with a message that reads _I love Python_. Make a large shirt and a medium shirt with the default message, and a shirt of any size with a different message."
   ]
  },
  {
   "cell_type": "code",
   "execution_count": 14,
   "id": "28",
   "metadata": {},
   "outputs": [
    {
     "name": "stdout",
     "output_type": "stream",
     "text": [
      "Making a large t-shirt with the message: 'I love Python'\n",
      "Making a medium t-shirt with the message: 'I love Python'\n",
      "Making a small t-shirt with the message: 'Python is time consuming!'\n"
     ]
    }
   ],
   "source": [
    "def make_shirt(size='large', message='I love Python'):\n",
    "    \"\"\"Prints the size of the shirt and the message printed on it, with defaults.\"\"\"\n",
    "    print(f\"Making a {size} t-shirt with the message: '{message}'\")\n",
    "\n",
    "\n",
    "make_shirt()\n",
    "\n",
    "\n",
    "make_shirt(size='medium')\n",
    "\n",
    "make_shirt(size='small', message='Python is time consuming!')\n"
   ]
  },
  {
   "cell_type": "markdown",
   "id": "29",
   "metadata": {},
   "source": [
    "## Question 15\n",
    "\n",
    "**Cities:** Write a function called `describe_city()` that accepts the name of a city and its country. The function should print a simple sentence, such as `Reykjavik is in Iceland`. Give the parameter for the country a default value. Call your function for three different cities, at least one of which is not in the default country."
   ]
  },
  {
   "cell_type": "code",
   "execution_count": 1,
   "id": "30",
   "metadata": {},
   "outputs": [
    {
     "name": "stdout",
     "output_type": "stream",
     "text": [
      "Reykjavik is in Iceland.\n",
      "London is in England.\n",
      "Tokyo is in Japan.\n"
     ]
    }
   ],
   "source": [
    "def describe_city(city, country='Iceland'):\n",
    "    print(f\"{city} is in {country}.\")\n",
    "\n",
    "describe_city('Reykjavik')\n",
    "describe_city('London', 'England')\n",
    "describe_city('Tokyo', 'Japan')"
   ]
  },
  {
   "cell_type": "markdown",
   "id": "31",
   "metadata": {},
   "source": [
    "## Question 16\n",
    "\n",
    "**City Names:** Write a function called `city_country()` that takes in the name of a city and its country. The function should return a string formatted like this:\n",
    "\n",
    "```text\n",
    "Santiago, Chile\n",
    "```\n",
    "\n",
    "Call your function with at least three city-country pairs, and print the values that are returned."
   ]
  },
  {
   "cell_type": "code",
   "execution_count": 15,
   "id": "32",
   "metadata": {},
   "outputs": [
    {
     "name": "stdout",
     "output_type": "stream",
     "text": [
      "Wilmington, Delaware\n",
      "Knoxville, Tennessee\n",
      "Dhaka, Bangladesh\n"
     ]
    }
   ],
   "source": [
    "def city_country(city, country):\n",
    "    return f\"{city}, {country}\"\n",
    "\n",
    "print(city_country('Wilmington', 'Delaware'))\n",
    "print(city_country('Knoxville', 'Tennessee'))\n",
    "print(city_country('Dhaka', 'Bangladesh'))"
   ]
  },
  {
   "cell_type": "markdown",
   "id": "33",
   "metadata": {},
   "source": [
    "## Question 17\n",
    "\n",
    "**Album:** Write a function called `make_album()` that builds a dictionary describing a music album. The function should take in an artist name and an album title, and it should return a dictionary containing these two pieces of information. Use the function to make three dictionaries representing different albums. Print each return value to show that the dictionaries are storing the album information correctly.\n",
    "\n",
    "Use None to add an optional parameter to make_album() that allows you to store the number of songs on an album. If the calling line includes a value for the number of songs, add that value to the album’s dictionary. Make at least one new function call that includes the number of songs on an album."
   ]
  },
  {
   "cell_type": "code",
   "execution_count": 16,
   "id": "34",
   "metadata": {},
   "outputs": [
    {
     "name": "stdout",
     "output_type": "stream",
     "text": [
      "{'artist': 'Motorhead', 'title': 'The King'}\n",
      "{'artist': 'Breaking Benjamin', 'title': 'Diary of Jane'}\n",
      "{'artist': 'Dead By April', 'title': 'Memory', 'Tracks': 7}\n"
     ]
    }
   ],
   "source": [
    "def make_album(artist_name, album_title, number_of_songs=None):\n",
    "    album_dict = {\n",
    "        'artist': artist_name,\n",
    "        'title': album_title,\n",
    "    }\n",
    "    if number_of_songs:\n",
    "        album_dict['Tracks'] = number_of_songs\n",
    "    return album_dict\n",
    "\n",
    "album_1 = make_album('Motorhead', 'The King')\n",
    "album_2 = make_album('Breaking Benjamin', 'Diary of Jane')\n",
    "album_3 = make_album('Dead By April', 'Memory', number_of_songs=7)\n",
    "\n",
    "print(album_1)\n",
    "print(album_2)\n",
    "print(album_3)"
   ]
  },
  {
   "cell_type": "markdown",
   "id": "35",
   "metadata": {},
   "source": [
    "## Question 18\n",
    "\n",
    "**User Albums:** Start with your program from Question 17. Write a `while` loop that allows users to enter an album’s artist and title. Once you have that information, call `make_album()` with the user’s input and print the dictionary that’s created. Be sure to include a quit value in the `while` loop."
   ]
  },
  {
   "cell_type": "code",
   "execution_count": 17,
   "id": "36",
   "metadata": {},
   "outputs": [
    {
     "name": "stdout",
     "output_type": "stream",
     "text": [
      "{'artist': 'tayor', 'title': 'red'}\n",
      "{'artist': 'breaking benjamin', 'title': 'diary of jane'}\n",
      "{'artist': 'john', 'title': 'contryroad'}\n"
     ]
    }
   ],
   "source": [
    "def make_album(artist_name, album_title):\n",
    "    album_dict = {\n",
    "        'artist': artist_name,\n",
    "        'title': album_title,\n",
    "    }\n",
    "    return album_dict\n",
    "\n",
    "while True:\n",
    "    \n",
    "    artist_name = input(\"Enter the Artist's name: \")\n",
    "    if artist_name == 'quit':\n",
    "        break\n",
    "    \n",
    "    album_title = input(\"Album title: \")\n",
    "    if album_title == 'quit':\n",
    "        break\n",
    "    \n",
    "    album = make_album(artist_name, album_title)\n",
    "    print(album)"
   ]
  },
  {
   "cell_type": "markdown",
   "id": "37",
   "metadata": {},
   "source": [
    "## Question 19\n",
    "\n",
    "**Messages:** Make a list containing a series of short text messages. Pass the list to a function called `show_messages()`, which prints each text message."
   ]
  },
  {
   "cell_type": "code",
   "execution_count": 18,
   "id": "38",
   "metadata": {},
   "outputs": [
    {
     "name": "stdout",
     "output_type": "stream",
     "text": [
      "Hello, how are you?\n",
      "Don’t forget to bring your umbrella today!\n",
      "Did you complete the Python assignment?\n",
      "Good morning! Have a great day!\n",
      "Can we meet for coffee tomorrow?\n"
     ]
    }
   ],
   "source": [
    "def show_messages(messages):\n",
    "    \"\"\"Print each message in the list.\"\"\"\n",
    "    for message in messages:\n",
    "        print(message)\n",
    "\n",
    "\n",
    "messages = [\n",
    "    'Hello, how are you?',\n",
    "    'Don’t forget to bring your umbrella today!',\n",
    "    'Did you complete the Python assignment?',\n",
    "    'Good morning! Have a great day!',\n",
    "    'Can we meet for coffee tomorrow?'\n",
    "]\n",
    "\n",
    "\n",
    "show_messages(messages)"
   ]
  },
  {
   "cell_type": "markdown",
   "id": "39",
   "metadata": {},
   "source": [
    "## Question 20\n",
    "\n",
    "**Sending Messages:** Start with a copy of your program from Question 19. Write a function called `send_messages()` that prints each text message and moves each message to a new list called `sent_messages` as it’s printed. After calling the function, print both of your lists to make sure the messages were moved correctly."
   ]
  },
  {
   "cell_type": "code",
   "execution_count": 19,
   "id": "40",
   "metadata": {},
   "outputs": [
    {
     "name": "stdout",
     "output_type": "stream",
     "text": [
      "Sending message: Hello, how are you doing today?\n",
      "Sending message: Hows your wife!\n",
      "Sending message: Hope you will do well in this semester!\n",
      "Sending message: Bye, see you tomorrow!\n",
      "\n",
      "Final Lists:\n",
      "Original Messages:\n",
      "\n",
      "Sent Messages:\n",
      "Hello, how are you doing today?\n",
      "Hows your wife!\n",
      "Hope you will do well in this semester!\n",
      "Bye, see you tomorrow!\n"
     ]
    }
   ],
   "source": [
    "def send_messages(messages, sent_messages):\n",
    "    while messages:\n",
    "        current_message = messages.pop(0)\n",
    "        print(f\"Sending message: {current_message}\")\n",
    "        sent_messages.append(current_message)\n",
    "\n",
    "messages = [\n",
    "    \"Hello, how are you doing today?\",\n",
    "    \"Hows your wife!\",\n",
    "    \"Hope you will do well in this semester!\",\n",
    "    \"Bye, see you tomorrow!\",\n",
    "]\n",
    "\n",
    "sent_messages = []\n",
    "\n",
    "send_messages(messages, sent_messages)\n",
    "\n",
    "print(\"\\nFinal Lists:\")\n",
    "print(\"Original Messages:\")\n",
    "for message in messages:\n",
    "    print(message)\n",
    "\n",
    "print(\"\\nSent Messages:\")\n",
    "for sent_message in sent_messages:\n",
    "    print(sent_message)"
   ]
  },
  {
   "cell_type": "markdown",
   "id": "41",
   "metadata": {},
   "source": [
    "## Question 21\n",
    "\n",
    "**Learning Python:** Open a blank file in your text editor and write a few lines summarizing what you’ve learned about Python so far. Start each line with the phrase _In Python you can. . .._ Save the file as _learning_python.txt_ in the same directory as your exercises from this chapter. Write a program that reads the file and prints what you wrote three times. Print the contents once by reading in the entire file, once by looping over the file object, and once by storing the lines in a list and then working with them outside the _with_ block."
   ]
  },
  {
   "cell_type": "code",
   "execution_count": 20,
   "id": "42",
   "metadata": {},
   "outputs": [
    {
     "name": "stdout",
     "output_type": "stream",
     "text": [
      "Reading the entire file at once:\n",
      "In Python, you can create variables to store information.\n",
      "In Python, you can use loops to perform repetitive tasks efficiently.\n",
      "In Python, you can use functions to organize your code into reusable blocks.\n",
      "In Python, you can work with lists to store sequences of information.\n",
      "In Python, you can use dictionaries to connect pieces of related information.\n",
      "\n",
      "Looping over the file object:\n",
      "In Python, you can create variables to store information.\n",
      "In Python, you can use loops to perform repetitive tasks efficiently.\n",
      "In Python, you can use functions to organize your code into reusable blocks.\n",
      "In Python, you can work with lists to store sequences of information.\n",
      "In Python, you can use dictionaries to connect pieces of related information.\n",
      "\n",
      "Working with the lines outside the 'with' block:\n",
      "In Python, you can create variables to store information.\n",
      "In Python, you can use loops to perform repetitive tasks efficiently.\n",
      "In Python, you can use functions to organize your code into reusable blocks.\n",
      "In Python, you can work with lists to store sequences of information.\n",
      "In Python, you can use dictionaries to connect pieces of related information.\n"
     ]
    }
   ],
   "source": [
    "with open('learning_python.txt') as file_object:\n",
    "    contents = file_object.read()\n",
    "print(\"Reading the entire file at once:\")\n",
    "print(contents)\n",
    "\n",
    "\n",
    "print(\"\\nLooping over the file object:\")\n",
    "with open('learning_python.txt') as file_object:\n",
    "    for line in file_object:\n",
    "        print(line.rstrip())\n",
    "\n",
    "\n",
    "print(\"\\nWorking with the lines outside the 'with' block:\")\n",
    "with open('learning_python.txt') as file_object:\n",
    "    lines = file_object.readlines()\n",
    "\n",
    "for line in lines:\n",
    "    print(line.rstrip())"
   ]
  },
  {
   "cell_type": "markdown",
   "id": "43",
   "metadata": {},
   "source": [
    "## Question 22\n",
    "\n",
    "**Learning C:** You can use the replace() method to replace any word in a string with a different word. Here’s a quick example showing how to replace 'dog' with 'cat' in a sentence:\n",
    "\n",
    "```text\n",
    "message = \"I really like dogs.\"\n",
    "message.replace('dog', 'cat')\n",
    "'I really like cats.'\n",
    "```\n",
    "\n",
    "Read in each line from the file you just created, _learning_python.txt_, and replace the word _Python_ with the name of another language, such as _C_. Print each modified line to the screen."
   ]
  },
  {
   "cell_type": "code",
   "execution_count": 21,
   "id": "44",
   "metadata": {},
   "outputs": [
    {
     "name": "stdout",
     "output_type": "stream",
     "text": [
      "\n",
      "Replaced Python with JAVA:\n",
      "\n",
      "In JAVA, you can create variables to store information.\n",
      "In JAVA, you can use loops to perform repetitive tasks efficiently.\n",
      "In JAVA, you can use functions to organize your code into reusable blocks.\n",
      "In JAVA, you can work with lists to store sequences of information.\n",
      "In JAVA, you can use dictionaries to connect pieces of related information.\n"
     ]
    }
   ],
   "source": [
    "with open('learning_python.txt', 'r') as file:\n",
    "    for line in file:\n",
    "        modified_line = line.replace('Python', 'JAVA')\n",
    "\n",
    "with open('learning_python.txt', 'r') as file:\n",
    "    lines = file.readlines()\n",
    "\n",
    "print(\"\\nReplaced Python with JAVA:\\n\")\n",
    "for line in lines:\n",
    "    modified_line = line.replace('Python', 'JAVA')\n",
    "    print(modified_line.strip())"
   ]
  },
  {
   "cell_type": "markdown",
   "id": "45",
   "metadata": {},
   "source": [
    "## Question 23\n",
    "\n",
    "**Guest:** Write a program that prompts the user for their name. When they respond, write their name to a file called guest.txt."
   ]
  },
  {
   "cell_type": "code",
   "execution_count": 22,
   "id": "46",
   "metadata": {},
   "outputs": [
    {
     "name": "stdout",
     "output_type": "stream",
     "text": [
      "Hello, metaliguns! Your name has been written to guest.txt.\n"
     ]
    }
   ],
   "source": [
    "name = input(\"Please enter your name: \")\n",
    "\n",
    "with open('guest.txt', 'w') as file:\n",
    "    file.write(name)\n",
    "\n",
    "print(f\"Hello, {name}! Your name has been written to guest.txt.\")"
   ]
  },
  {
   "cell_type": "markdown",
   "id": "47",
   "metadata": {},
   "source": [
    "## Question 24\n",
    "\n",
    "**Guest Book:** Write a while loop that prompts users for their name. When they enter their name, print a greeting to the screen and add a line recording their visit in a file called guest_book.txt. Make sure each entry appears on a new line in the file."
   ]
  },
  {
   "cell_type": "code",
   "execution_count": 23,
   "id": "48",
   "metadata": {},
   "outputs": [
    {
     "name": "stdout",
     "output_type": "stream",
     "text": [
      "Hello, shkaib! Welcome to our guest book.\n",
      "Your visit has been recorded in the guest_book.txt\n",
      "Hello, akib! Welcome to our guest book.\n",
      "Your visit has been recorded in the guest_book.txt\n",
      "Hello, nishi! Welcome to our guest book.\n",
      "Your visit has been recorded in the guest_book.txt\n",
      "Hello, borno! Welcome to our guest book.\n",
      "Your visit has been recorded in the guest_book.txt\n",
      "\n",
      "Thank you for visiting!\n"
     ]
    }
   ],
   "source": [
    "filename = 'guest_book.txt'\n",
    "\n",
    "while True:\n",
    "    name = input(\"Please enter your name (or type 'exit' to end): \")\n",
    "    \n",
    "    if name.lower() == 'exit':\n",
    "        print(\"\\nThank you for visiting!\")\n",
    "        break\n",
    "    \n",
    "    print(f\"Hello, {name}! Welcome to our guest book.\")\n",
    "    \n",
    "    with open('guest_book.txt', 'a') as file:\n",
    "        file.write(name + '\\n')\n",
    "    \n",
    "    print(\"Your visit has been recorded in the guest_book.txt\")"
   ]
  },
  {
   "cell_type": "markdown",
   "id": "49",
   "metadata": {},
   "source": [
    "## Question 25\n",
    "\n",
    "**Programming Poll:** Write a while loop that asks people why they like programming. Each time someone enters a reason, add their reason to a file that stores all the responses."
   ]
  },
  {
   "cell_type": "code",
   "execution_count": 32,
   "id": "50",
   "metadata": {},
   "outputs": [
    {
     "name": "stdout",
     "output_type": "stream",
     "text": [
      "\n",
      "Thank you for sharing your reasons!\n",
      "Programming poll responses have been saved to programming_poll_responses.txt.\n"
     ]
    }
   ],
   "source": [
    "filename = 'Programming_poll.txt'\n",
    "\n",
    "while True:\n",
    "    reason = input(\"Why do you like programming? (or type 'exit' to end): \")\n",
    "    \n",
    "    if reason.lower() == 'exit':\n",
    "        print(\"\\nThank you for sharing your reasons!\")\n",
    "        break\n",
    "    \n",
    "    with open('programming_poll_responses.txt', 'a') as file:\n",
    "        file.write(reason + '\\n')\n",
    "    \n",
    "print(\"Programming poll responses have been saved to programming_poll_responses.txt.\")"
   ]
  },
  {
   "cell_type": "markdown",
   "id": "51",
   "metadata": {},
   "source": [
    "## Question 26\n",
    "\n",
    "**Addition:** One common problem when prompting for numerical input occurs when people provide text instead of numbers. When you try to convert the input to an int, you’ll get a ValueError. Write a program that prompts for two numbers. Add them together and print the result. Catch the ValueError if either input value is not a number, and print a friendly error message. Test your program by entering two numbers and then by entering some text instead of a number."
   ]
  },
  {
   "cell_type": "code",
   "execution_count": 2,
   "id": "52",
   "metadata": {},
   "outputs": [
    {
     "name": "stdout",
     "output_type": "stream",
     "text": [
      "Error: Please enter valid numbers Here.\n",
      "Error: Please enter valid numbers Here.\n",
      "Error: Please enter valid numbers Here.\n",
      "Error: Please enter valid numbers Here.\n",
      "The sum of 373 and 383 is: 756\n"
     ]
    }
   ],
   "source": [
    "while True:\n",
    "    try:\n",
    "        number_1 = int(input(\"Enter the first number: \"))\n",
    "        number_2 = int(input(\"Enter the second number: \"))\n",
    "        \n",
    "        result = number_1 + number_2\n",
    "        print(f\"The sum of {number_1} and {number_2} is: {result}\")\n",
    "        break\n",
    "    except ValueError:\n",
    "        print(\"Error: Please enter valid numbers Here.\")\n",
    "        "
   ]
  },
  {
   "cell_type": "markdown",
   "id": "53",
   "metadata": {},
   "source": [
    "## Question 27\n",
    "\n",
    "**Addition Calculator:** Wrap your code from Question 26 in a while loop so the user can continue entering numbers even if they make a mistake and enter text instead of a number."
   ]
  },
  {
   "cell_type": "code",
   "execution_count": 25,
   "id": "54",
   "metadata": {},
   "outputs": [
    {
     "name": "stdout",
     "output_type": "stream",
     "text": [
      "Oops! That was not a valid number. Please try again.\n",
      "The result of adding 23.0 and 232.0 is 255.0.\n",
      "The result of adding 23.0 and 8239.0 is 8262.0.\n",
      "The result of adding 3223.0 and 23.0 is 3246.0.\n"
     ]
    }
   ],
   "source": [
    "while True:\n",
    "    try:\n",
    "        \n",
    "        first_number = input(\"\\nEnter the first number: \")\n",
    "        if first_number.lower() == 'quit':\n",
    "            break  \n",
    "        first_number = float(first_number) \n",
    "\n",
    "        second_number = input(\"Enter the second number: \")\n",
    "        if second_number.lower() == 'quit':\n",
    "            break  \n",
    "        second_number = float(second_number) \n",
    "\n",
    "        result = first_number + second_number\n",
    "        print(f\"The result of adding {first_number} and {second_number} is {result}.\")\n",
    "\n",
    "    except ValueError:\n",
    "        \n",
    "        print(\"Oops! That was not a valid number. Please try again.\")"
   ]
  },
  {
   "cell_type": "markdown",
   "id": "55",
   "metadata": {},
   "source": [
    "## Question 28\n",
    "\n",
    "**Cats and Dogs:** Make two files, _cats.txt_ and _dogs.txt_. Store at least three names of cats in the first file and three names of dogs in the second file. Write a program that tries to read these files and print the contents of the file to the screen. Wrap your code in a `try-except` block to catch the `FileNotFound` error, and print a friendly message if a file is missing. Move one of the files to a different location on your system, and make sure the code in the `except` block executes properly."
   ]
  },
  {
   "cell_type": "code",
   "execution_count": 26,
   "id": "56",
   "metadata": {},
   "outputs": [
    {
     "name": "stdout",
     "output_type": "stream",
     "text": [
      "Cat Names:\n",
      "kitty\n",
      "meni\n",
      "mewmew\n",
      "\n",
      "dogs.txt file not found. Please check the file location.\n"
     ]
    }
   ],
   "source": [
    "try:\n",
    "    with open('cats.txt', 'r') as cat_file:\n",
    "        print(\"Cat Names:\")\n",
    "        for line in cat_file:\n",
    "            print(line.strip())\n",
    "            \n",
    "except FileNotFoundError:\n",
    "    print(f\"cats.txt file not found. Check the file location\")\n",
    "\n",
    "try:\n",
    "    with open('dogs.txt', 'r') as dog_file:\n",
    "        print(\"\\nDog Names:\")\n",
    "        for line in dog_file:\n",
    "            print(line.strip())\n",
    "\n",
    "except FileNotFoundError:\n",
    "    print(\"\\ndogs.txt file not found. Please check the file location.\")\n"
   ]
  },
  {
   "cell_type": "code",
   "execution_count": 27,
   "id": "b4a5052e",
   "metadata": {},
   "outputs": [
    {
     "name": "stdout",
     "output_type": "stream",
     "text": [
      "Cat Names:\n",
      "kitty\n",
      "meni\n",
      "mewmew\n",
      "\n",
      "dogs.txt file not found. Please check the file location.\n"
     ]
    }
   ],
   "source": [
    "try:\n",
    "    with open('cats.txt', 'r') as cat_file:\n",
    "        print(\"Cat Names:\")\n",
    "        for line in cat_file:\n",
    "            print(line.strip())\n",
    "            \n",
    "except FileNotFoundError:\n",
    "    print(f\"cats.txt file not found. Check the file location\")\n",
    "\n",
    "try:\n",
    "    with open('dogs.txt', 'r') as dog_file:\n",
    "        print(\"\\nDog Names:\")\n",
    "        for line in dog_file:\n",
    "            print(line.strip())\n",
    "\n",
    "except FileNotFoundError:\n",
    "    print(\"\\ndogs.txt file not found. Please check the file location.\")"
   ]
  },
  {
   "cell_type": "markdown",
   "id": "57",
   "metadata": {},
   "source": [
    "## Question 29\n",
    "\n",
    "**Silent Cats and Dogs:** Modify your except block in Question 28 to fail silently if either file is missing."
   ]
  },
  {
   "cell_type": "code",
   "execution_count": 28,
   "id": "58",
   "metadata": {},
   "outputs": [
    {
     "name": "stdout",
     "output_type": "stream",
     "text": [
      "\n",
      "Contents of cats.txt:\n",
      "kitty\n",
      "meni\n",
      "mewmew\n"
     ]
    }
   ],
   "source": [
    "try:   \n",
    "    with open('cats.txt', 'r') as cats_file:\n",
    "        cats_content = cats_file.read()\n",
    "        print(\"\\nContents of cats.txt:\")\n",
    "        print(cats_content)\n",
    "\n",
    "except FileNotFoundError:\n",
    "    pass\n",
    "\n",
    "try:\n",
    "    with open('dogs.txt', 'r') as dogs_file:\n",
    "        dogs_content = dogs_file.read()\n",
    "        print(\"\\nContents of dogs.txt:\")\n",
    "        print(dogs_content)\n",
    "\n",
    "except FileNotFoundError:\n",
    "    pass"
   ]
  },
  {
   "cell_type": "markdown",
   "id": "59",
   "metadata": {},
   "source": [
    "## Question 30\n",
    "\n",
    "**Common Words:** Visit Project Gutenberg (<https://gutenberg.org/>) and find a few texts you’d like to analyze. Download the text files for these works, or copy the raw text from your browser into a text file on your computer. You can use the `count()` method to find out how many times a word or phrase appears in a string. For example, the following code counts the number of times 'row' appears in a string:"
   ]
  },
  {
   "cell_type": "code",
   "execution_count": 29,
   "id": "60",
   "metadata": {},
   "outputs": [
    {
     "data": {
      "text/plain": [
       "2"
      ]
     },
     "execution_count": 29,
     "metadata": {},
     "output_type": "execute_result"
    }
   ],
   "source": [
    "line = \"Row, row, row your boat\"\n",
    "line.count(\"row\")"
   ]
  },
  {
   "cell_type": "code",
   "execution_count": 30,
   "id": "61",
   "metadata": {},
   "outputs": [
    {
     "data": {
      "text/plain": [
       "3"
      ]
     },
     "execution_count": 30,
     "metadata": {},
     "output_type": "execute_result"
    }
   ],
   "source": [
    "line.lower().count(\"row\")"
   ]
  },
  {
   "cell_type": "markdown",
   "id": "62",
   "metadata": {},
   "source": [
    "Notice that converting the string to lowercase using lower() catches all appearances of the word you’re looking for, regardless of how it’s formatted.\n",
    "\n",
    "Write a program that reads the files you found at Project Gutenberg and determines how many times the word `the` appears in each text. This will be an approximation because it will also count words such as `then` and `there`. Try counting `the`, with a space in the string, and see how much lower your count is."
   ]
  },
  {
   "cell_type": "code",
   "execution_count": 31,
   "id": "63",
   "metadata": {},
   "outputs": [
    {
     "name": "stdout",
     "output_type": "stream",
     "text": [
      "File: lab5_book.txt\n",
      "Count of \"the\" with space: 1496\n",
      "Count of \"the\" without space: 893\n"
     ]
    }
   ],
   "source": [
    "import os\n",
    "\n",
    "def count_the(file_path, word):\n",
    "    with open(file_path, 'r', encoding='utf-8') as file:\n",
    "        text = file.read().lower()\n",
    "        count_with_space = text.count(word)\n",
    "        count_without_space = text.count(word + ' ')\n",
    "        return count_with_space, count_without_space\n",
    "\n",
    "def main():\n",
    "    file_path = r'D:\\spring 24\\software design\\labs\\lab5_book.txt'\n",
    "    word_to_search = 'the'\n",
    "\n",
    "    count_with_space, count_without_space = count_the(file_path, word_to_search)\n",
    "    print(f'File: lab5_book.txt')\n",
    "    print(f'Count of \"{word_to_search}\" with space: {count_with_space}')\n",
    "    print(f'Count of \"{word_to_search}\" without space: {count_without_space}')\n",
    "\n",
    "if __name__ == '__main__':\n",
    "    main()"
   ]
  }
 ],
 "metadata": {
  "kernelspec": {
   "display_name": "Python 3",
   "language": "python",
   "name": "python3"
  },
  "language_info": {
   "codemirror_mode": {
    "name": "ipython",
    "version": 3
   },
   "file_extension": ".py",
   "mimetype": "text/x-python",
   "name": "python",
   "nbconvert_exporter": "python",
   "pygments_lexer": "ipython3",
   "version": "3.11.7"
  }
 },
 "nbformat": 4,
 "nbformat_minor": 5
}
