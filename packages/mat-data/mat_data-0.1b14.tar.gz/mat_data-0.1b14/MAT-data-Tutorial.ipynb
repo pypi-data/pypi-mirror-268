{
 "cells": [
  {
   "cell_type": "markdown",
   "metadata": {},
   "source": [
    "# MAT-data: Data Preprocessing for Multiple Aspect Trajectory Data Mining \\[MAT-Tools Framework\\]\n",
    "\n",
    "Sample Code in python notebook to use mat-data as a python library.\n",
    "\n",
    "The present package offers a tool, to support the user in the task of data preprocessing of multiple aspect trajectories, or to generating synthetic datasets. It integrates into a unique framework for multiple aspects trajectories and in general for multidimensional sequence data mining methods.\n",
    "\n",
    "Created on Dec, 2023\n",
    "Copyright (C) 2023, License GPL Version 3 or superior (see LICENSE file)"
   ]
  },
  {
   "cell_type": "code",
   "execution_count": 5,
   "metadata": {
    "tags": []
   },
   "outputs": [
    {
     "name": "stdout",
     "output_type": "stream",
     "text": [
      "Requirement already satisfied: mat-data in /Users/tarlisportela/miniforge3/lib/python3.9/site-packages (0.1b12)\n",
      "Collecting mat-data\n",
      "  Downloading mat_data-0.1b13-py3-none-any.whl.metadata (5.4 kB)\n",
      "Requirement already satisfied: glob2 in /Users/tarlisportela/miniforge3/lib/python3.9/site-packages (from mat-data) (0.7)\n",
      "Requirement already satisfied: numpy in /Users/tarlisportela/miniforge3/lib/python3.9/site-packages (from mat-data) (1.22.4)\n",
      "Requirement already satisfied: pandas in /Users/tarlisportela/miniforge3/lib/python3.9/site-packages (from mat-data) (1.3.4)\n",
      "Requirement already satisfied: python-dateutil>=2.7.3 in /Users/tarlisportela/miniforge3/lib/python3.9/site-packages (from pandas->mat-data) (2.8.2)\n",
      "Requirement already satisfied: pytz>=2017.3 in /Users/tarlisportela/miniforge3/lib/python3.9/site-packages (from pandas->mat-data) (2022.1)\n",
      "Requirement already satisfied: six>=1.5 in /Users/tarlisportela/miniforge3/lib/python3.9/site-packages (from python-dateutil>=2.7.3->pandas->mat-data) (1.15.0)\n",
      "Downloading mat_data-0.1b13-py3-none-any.whl (1.4 MB)\n",
      "\u001b[2K   \u001b[90m━━━━━━━━━━━━━━━━━━━━━━━━━━━━━━━━━━━━━━━━\u001b[0m \u001b[32m1.4/1.4 MB\u001b[0m \u001b[31m1.7 MB/s\u001b[0m eta \u001b[36m0:00:00\u001b[0m00:01\u001b[0m00:01\u001b[0m\n",
      "\u001b[?25hInstalling collected packages: mat-data\n",
      "  Attempting uninstall: mat-data\n",
      "    Found existing installation: mat-data 0.1b12\n",
      "    Uninstalling mat-data-0.1b12:\n",
      "      Successfully uninstalled mat-data-0.1b12\n",
      "Successfully installed mat-data-0.1b13\n"
     ]
    }
   ],
   "source": [
    "!pip install mat-data\n",
    "#!pip install --upgrade mat-data"
   ]
  },
  {
   "cell_type": "markdown",
   "metadata": {
    "tags": []
   },
   "source": [
    "### 1. Pre-processing data\n",
    "To use helpers for data pre-processing, import from package `matdata.preprocess`:"
   ]
  },
  {
   "cell_type": "code",
   "execution_count": 3,
   "metadata": {},
   "outputs": [],
   "source": [
    "from matdata.preprocess import *"
   ]
  },
  {
   "cell_type": "markdown",
   "metadata": {},
   "source": [
    "The **preprocessing** module provides some functions to work data:\n",
    "\n",
    "Basic functions:\n",
    "- `readDataset`: load datasets as pandas DataFrame (from .csv, .zip, or .ts)\n",
    "- `printFeaturesJSON`: print a default JSON file descriptor for Movelets methods (version 1 or 2)\n",
    "- `datasetStatistics`: calculates statistics from a datasets dataframe.\n",
    "\n",
    "Train and Test split functions:\n",
    "- `trainAndTestSplit`: split dataset (pandas DataFrame) in train / test (70/30% by default)\n",
    "- `kfold_trainAndTestSplit`: split dataset (pandas DataFrame) in k-fold train / test (80/20% each fold by default)\n",
    "- `stratify`: extract trajectories from the dataset, creating a subset of the data (to use when smaller datasets are needed)\n",
    "- `joinTrainAndTest`: joins the train and test files into one DataFrame.\n",
    "\n",
    "Type convertion functions:\n",
    "- `convertDataset`: default format conversions. Reads the dataset files and saves in .csv and .zip formats, also do k-fold split if not present\n",
    "- `zip2df`: converts .zip files and saves to DataFrame\n",
    "- `zip2csv`: converts .zip files and saves to .csv files\n",
    "- `df2zip`: converts DataFrame and saves to .zip files\n",
    "- `zip2arf`: converts .zip and saves to .arf files\n",
    "- `any2ts`: converts .zip or .csv files and saves to .ts files\n",
    "- `xes2csv`: reads .xes files and converts to DataFrame"
   ]
  },
  {
   "cell_type": "code",
   "execution_count": 10,
   "metadata": {},
   "outputs": [
    {
     "name": "stdout",
     "output_type": "stream",
     "text": [
      "Joining train and test data from... automatize/assets/examples/Example/data\n",
      "Done.\n",
      " --------------------------------------------------------------------------------\n"
     ]
    },
    {
     "data": {
      "text/html": [
       "<div>\n",
       "<style scoped>\n",
       "    .dataframe tbody tr th:only-of-type {\n",
       "        vertical-align: middle;\n",
       "    }\n",
       "\n",
       "    .dataframe tbody tr th {\n",
       "        vertical-align: top;\n",
       "    }\n",
       "\n",
       "    .dataframe thead th {\n",
       "        text-align: right;\n",
       "    }\n",
       "</style>\n",
       "<table border=\"1\" class=\"dataframe\">\n",
       "  <thead>\n",
       "    <tr style=\"text-align: right;\">\n",
       "      <th></th>\n",
       "      <th>tid</th>\n",
       "      <th>lat_lon</th>\n",
       "      <th>hour</th>\n",
       "      <th>price</th>\n",
       "      <th>poi</th>\n",
       "      <th>weather</th>\n",
       "      <th>day</th>\n",
       "      <th>label</th>\n",
       "    </tr>\n",
       "  </thead>\n",
       "  <tbody>\n",
       "    <tr>\n",
       "      <th>0</th>\n",
       "      <td>12</td>\n",
       "      <td>0.0 6.2</td>\n",
       "      <td>8</td>\n",
       "      <td>-1</td>\n",
       "      <td>Home</td>\n",
       "      <td>Clear</td>\n",
       "      <td>Monday</td>\n",
       "      <td>Classs_False</td>\n",
       "    </tr>\n",
       "    <tr>\n",
       "      <th>1</th>\n",
       "      <td>12</td>\n",
       "      <td>0.8 6.2</td>\n",
       "      <td>9</td>\n",
       "      <td>2</td>\n",
       "      <td>University</td>\n",
       "      <td>Clouds</td>\n",
       "      <td>Monday</td>\n",
       "      <td>Classs_False</td>\n",
       "    </tr>\n",
       "    <tr>\n",
       "      <th>2</th>\n",
       "      <td>12</td>\n",
       "      <td>3.1 11</td>\n",
       "      <td>12</td>\n",
       "      <td>2</td>\n",
       "      <td>Restaurant</td>\n",
       "      <td>Clear</td>\n",
       "      <td>Monday</td>\n",
       "      <td>Classs_False</td>\n",
       "    </tr>\n",
       "    <tr>\n",
       "      <th>3</th>\n",
       "      <td>12</td>\n",
       "      <td>0.8 6.5</td>\n",
       "      <td>13</td>\n",
       "      <td>2</td>\n",
       "      <td>University</td>\n",
       "      <td>Clear</td>\n",
       "      <td>Monday</td>\n",
       "      <td>Classs_False</td>\n",
       "    </tr>\n",
       "    <tr>\n",
       "      <th>4</th>\n",
       "      <td>12</td>\n",
       "      <td>0.2 6.2</td>\n",
       "      <td>17</td>\n",
       "      <td>-1</td>\n",
       "      <td>Home</td>\n",
       "      <td>Rain</td>\n",
       "      <td>Monday</td>\n",
       "      <td>Classs_False</td>\n",
       "    </tr>\n",
       "  </tbody>\n",
       "</table>\n",
       "</div>"
      ],
      "text/plain": [
       "   tid  lat_lon  hour  price         poi weather     day         label\n",
       "0   12  0.0 6.2     8     -1        Home   Clear  Monday  Classs_False\n",
       "1   12  0.8 6.2     9      2  University  Clouds  Monday  Classs_False\n",
       "2   12   3.1 11    12      2  Restaurant   Clear  Monday  Classs_False\n",
       "3   12  0.8 6.5    13      2  University   Clear  Monday  Classs_False\n",
       "4   12  0.2 6.2    17     -1        Home    Rain  Monday  Classs_False"
      ]
     },
     "execution_count": 10,
     "metadata": {},
     "output_type": "execute_result"
    }
   ],
   "source": [
    "#cols = ['tid','label','lat','lon','day','hour','poi','category','price','rating']\n",
    "\n",
    "df = joinTrainAndTest(data_path, train_file=\"train.csv\", test_file=\"test.csv\", class_col = 'label')\n",
    "df.head()"
   ]
  },
  {
   "cell_type": "markdown",
   "metadata": {},
   "source": [
    "To hold-out split a dataset into train and test:"
   ]
  },
  {
   "cell_type": "code",
   "execution_count": null,
   "metadata": {},
   "outputs": [],
   "source": [
    "train, test = trainAndTestSplit(data_path, k, df, random_num=1, class_col='label')\n",
    "train.head()"
   ]
  },
  {
   "cell_type": "markdown",
   "metadata": {},
   "source": [
    "To k-fold split a dataset into train and test:"
   ]
  },
  {
   "cell_type": "code",
   "execution_count": 20,
   "metadata": {
    "collapsed": true,
    "jupyter": {
     "outputs_hidden": true
    },
    "tags": []
   },
   "outputs": [
    {
     "data": {
      "application/vnd.jupyter.widget-view+json": {
       "model_id": "7b22b49e77ad443aa7a391943c467b9d",
       "version_major": 2,
       "version_minor": 0
      },
      "text/plain": [
       "  0%|          | 0/10 [00:00<?, ?it/s]"
      ]
     },
     "metadata": {},
     "output_type": "display_data"
    },
    {
     "name": "stdout",
     "output_type": "stream",
     "text": [
      "Writing - CSV |TRAIN - \n",
      "Writing - CSV |TEST - \n"
     ]
    }
   ],
   "source": [
    "train, test = trainAndTestSplit(df, outformats=['csv'])"
   ]
  },
  {
   "cell_type": "markdown",
   "metadata": {},
   "source": [
    "To convert train and test from one available format to other default formats (CSV, ZIP, MAT):"
   ]
  },
  {
   "cell_type": "code",
   "execution_count": 4,
   "metadata": {},
   "outputs": [
    {
     "data": {
      "application/vnd.jupyter.widget-view+json": {
       "model_id": "347332120f3843f1a5d7e0b7fe9589a5",
       "version_major": 2,
       "version_minor": 0
      },
      "text/plain": [
       "Writing TRAIN - ZIP|:   0%|          | 0/14 [00:00<?, ?it/s]"
      ]
     },
     "metadata": {},
     "output_type": "display_data"
    },
    {
     "data": {
      "application/vnd.jupyter.widget-view+json": {
       "model_id": "a7629f28306a42fc82bf9b127a58a8fd",
       "version_major": 2,
       "version_minor": 0
      },
      "text/plain": [
       "Writing TEST  - ZIP|:   0%|          | 0/14 [00:00<?, ?it/s]"
      ]
     },
     "metadata": {},
     "output_type": "display_data"
    },
    {
     "data": {
      "application/vnd.jupyter.widget-view+json": {
       "model_id": "cab1da6918f8451ca2f3d4ce83dfcf55",
       "version_major": 2,
       "version_minor": 0
      },
      "text/plain": [
       "Writing TRAIN - MAT|:   0%|          | 0/14 [00:00<?, ?it/s]"
      ]
     },
     "metadata": {},
     "output_type": "display_data"
    },
    {
     "data": {
      "application/vnd.jupyter.widget-view+json": {
       "model_id": "3a37e0601d3b4ff3b00bee778f84c4d5",
       "version_major": 2,
       "version_minor": 0
      },
      "text/plain": [
       "Writing TEST  - MAT|:   0%|          | 0/14 [00:00<?, ?it/s]"
      ]
     },
     "metadata": {},
     "output_type": "display_data"
    },
    {
     "name": "stdout",
     "output_type": "stream",
     "text": [
      "All Done.\n"
     ]
    }
   ],
   "source": [
    "convertDataset(data_path)"
   ]
  },
  {
   "cell_type": "markdown",
   "metadata": {
    "tags": []
   },
   "source": [
    "### 2. Synthetic Data Generation\n",
    "\n",
    "TODO"
   ]
  },
  {
   "cell_type": "code",
   "execution_count": 5,
   "metadata": {},
   "outputs": [],
   "source": [
    "from matdata.generator import *"
   ]
  },
  {
   "cell_type": "markdown",
   "metadata": {},
   "source": [
    "- `scalerSamplerGenerator`: generates trajectory datasets based on real data on scale intervals\n",
    "- `samplerGenerator`: generate a trajectory dataset based on real data\n",
    "- `scalerRandomGenerator`: generates trajectory datasets based on random data on scale intervals\n",
    "- `randomGenerator`: generate a trajectory dataset based on random data"
   ]
  },
  {
   "cell_type": "markdown",
   "metadata": {
    "tags": []
   },
   "source": [
    "### 3. Loading data\n",
    "\n",
    "This module loads data from public repository [Git: bigdata-ufsc datasets (v1_0)](https://github.com/bigdata-ufsc/datasets_v1_0)\n",
    "\n",
    "Check the GitHub repository to see available datasets.\n",
    "\n",
    "    a) First, you can load datasets by informing the category (parent folder) and dataset name (subfolder):"
   ]
  },
  {
   "cell_type": "code",
   "execution_count": 2,
   "metadata": {
    "tags": []
   },
   "outputs": [
    {
     "name": "stdout",
     "output_type": "stream",
     "text": [
      "Reading dataset FoursquareNYC of Multiple Aspect Trajectories\n"
     ]
    },
    {
     "data": {
      "application/vnd.jupyter.widget-view+json": {
       "model_id": "74218c4b627c4aa9b33fd6cf3c2ce10a",
       "version_major": 2,
       "version_minor": 0
      },
      "text/plain": [
       "FoursquareNYC (Multiple Aspect Trajectories):   0%|          | 0/2 [00:00<?, ?it/s]"
      ]
     },
     "metadata": {},
     "output_type": "display_data"
    },
    {
     "data": {
      "application/vnd.jupyter.widget-view+json": {
       "model_id": "7aed6a565dc944708b22cd59991767e5",
       "version_major": 2,
       "version_minor": 0
      },
      "text/plain": [
       "  0%|          | 0/193 [00:00<?, ?it/s]"
      ]
     },
     "metadata": {},
     "output_type": "display_data"
    },
    {
     "data": {
      "text/html": [
       "<div>\n",
       "<style scoped>\n",
       "    .dataframe tbody tr th:only-of-type {\n",
       "        vertical-align: middle;\n",
       "    }\n",
       "\n",
       "    .dataframe tbody tr th {\n",
       "        vertical-align: top;\n",
       "    }\n",
       "\n",
       "    .dataframe thead th {\n",
       "        text-align: right;\n",
       "    }\n",
       "</style>\n",
       "<table border=\"1\" class=\"dataframe\">\n",
       "  <thead>\n",
       "    <tr style=\"text-align: right;\">\n",
       "      <th></th>\n",
       "      <th>lat</th>\n",
       "      <th>lon</th>\n",
       "      <th>day</th>\n",
       "      <th>hour</th>\n",
       "      <th>poi</th>\n",
       "      <th>category</th>\n",
       "      <th>price</th>\n",
       "      <th>rating</th>\n",
       "      <th>weather</th>\n",
       "      <th>tid</th>\n",
       "      <th>label</th>\n",
       "    </tr>\n",
       "  </thead>\n",
       "  <tbody>\n",
       "    <tr>\n",
       "      <th>0</th>\n",
       "      <td>40.834098</td>\n",
       "      <td>-73.945267</td>\n",
       "      <td>Monday</td>\n",
       "      <td>13</td>\n",
       "      <td>21580</td>\n",
       "      <td>Food</td>\n",
       "      <td>1</td>\n",
       "      <td>8.2</td>\n",
       "      <td>Clouds</td>\n",
       "      <td>127</td>\n",
       "      <td>6</td>\n",
       "    </tr>\n",
       "    <tr>\n",
       "      <th>1</th>\n",
       "      <td>40.567196</td>\n",
       "      <td>-73.882576</td>\n",
       "      <td>Monday</td>\n",
       "      <td>19</td>\n",
       "      <td>2392</td>\n",
       "      <td>Travel &amp; Transport</td>\n",
       "      <td>-999</td>\n",
       "      <td>-999.0</td>\n",
       "      <td>Clouds</td>\n",
       "      <td>127</td>\n",
       "      <td>6</td>\n",
       "    </tr>\n",
       "    <tr>\n",
       "      <th>2</th>\n",
       "      <td>40.689913</td>\n",
       "      <td>-73.981504</td>\n",
       "      <td>Monday</td>\n",
       "      <td>23</td>\n",
       "      <td>35589</td>\n",
       "      <td>Travel &amp; Transport</td>\n",
       "      <td>-999</td>\n",
       "      <td>-999.0</td>\n",
       "      <td>Clouds</td>\n",
       "      <td>127</td>\n",
       "      <td>6</td>\n",
       "    </tr>\n",
       "    <tr>\n",
       "      <th>3</th>\n",
       "      <td>40.708588</td>\n",
       "      <td>-73.991032</td>\n",
       "      <td>Monday</td>\n",
       "      <td>23</td>\n",
       "      <td>18603</td>\n",
       "      <td>Travel &amp; Transport</td>\n",
       "      <td>-999</td>\n",
       "      <td>-999.0</td>\n",
       "      <td>Clouds</td>\n",
       "      <td>127</td>\n",
       "      <td>6</td>\n",
       "    </tr>\n",
       "    <tr>\n",
       "      <th>4</th>\n",
       "      <td>40.833165</td>\n",
       "      <td>-73.941860</td>\n",
       "      <td>Tuesday</td>\n",
       "      <td>14</td>\n",
       "      <td>36348</td>\n",
       "      <td>Residence</td>\n",
       "      <td>-999</td>\n",
       "      <td>-999.0</td>\n",
       "      <td>Clear</td>\n",
       "      <td>127</td>\n",
       "      <td>6</td>\n",
       "    </tr>\n",
       "    <tr>\n",
       "      <th>...</th>\n",
       "      <td>...</td>\n",
       "      <td>...</td>\n",
       "      <td>...</td>\n",
       "      <td>...</td>\n",
       "      <td>...</td>\n",
       "      <td>...</td>\n",
       "      <td>...</td>\n",
       "      <td>...</td>\n",
       "      <td>...</td>\n",
       "      <td>...</td>\n",
       "      <td>...</td>\n",
       "    </tr>\n",
       "    <tr>\n",
       "      <th>22118</th>\n",
       "      <td>40.704273</td>\n",
       "      <td>-73.986759</td>\n",
       "      <td>Saturday</td>\n",
       "      <td>10</td>\n",
       "      <td>25461</td>\n",
       "      <td>Outdoors &amp; Recreation</td>\n",
       "      <td>-999</td>\n",
       "      <td>8.6</td>\n",
       "      <td>Clear</td>\n",
       "      <td>29551</td>\n",
       "      <td>1070</td>\n",
       "    </tr>\n",
       "    <tr>\n",
       "      <th>22119</th>\n",
       "      <td>40.704733</td>\n",
       "      <td>-73.987738</td>\n",
       "      <td>Saturday</td>\n",
       "      <td>10</td>\n",
       "      <td>1805</td>\n",
       "      <td>College &amp; University</td>\n",
       "      <td>-999</td>\n",
       "      <td>-999.0</td>\n",
       "      <td>Clear</td>\n",
       "      <td>29551</td>\n",
       "      <td>1070</td>\n",
       "    </tr>\n",
       "    <tr>\n",
       "      <th>22120</th>\n",
       "      <td>40.717353</td>\n",
       "      <td>-73.960392</td>\n",
       "      <td>Saturday</td>\n",
       "      <td>13</td>\n",
       "      <td>32523</td>\n",
       "      <td>Food</td>\n",
       "      <td>1</td>\n",
       "      <td>9.3</td>\n",
       "      <td>Clear</td>\n",
       "      <td>29551</td>\n",
       "      <td>1070</td>\n",
       "    </tr>\n",
       "    <tr>\n",
       "      <th>22121</th>\n",
       "      <td>40.697721</td>\n",
       "      <td>-73.993020</td>\n",
       "      <td>Sunday</td>\n",
       "      <td>2</td>\n",
       "      <td>36212</td>\n",
       "      <td>College &amp; University</td>\n",
       "      <td>-999</td>\n",
       "      <td>-999.0</td>\n",
       "      <td>Clear</td>\n",
       "      <td>29551</td>\n",
       "      <td>1070</td>\n",
       "    </tr>\n",
       "    <tr>\n",
       "      <th>22122</th>\n",
       "      <td>40.697803</td>\n",
       "      <td>-73.994145</td>\n",
       "      <td>Sunday</td>\n",
       "      <td>8</td>\n",
       "      <td>16452</td>\n",
       "      <td>Outdoors &amp; Recreation</td>\n",
       "      <td>-999</td>\n",
       "      <td>6.9</td>\n",
       "      <td>Clear</td>\n",
       "      <td>29551</td>\n",
       "      <td>1070</td>\n",
       "    </tr>\n",
       "  </tbody>\n",
       "</table>\n",
       "<p>16435 rows × 11 columns</p>\n",
       "</div>"
      ],
      "text/plain": [
       "             lat        lon       day  hour    poi               category  \\\n",
       "0      40.834098 -73.945267    Monday    13  21580                   Food   \n",
       "1      40.567196 -73.882576    Monday    19   2392     Travel & Transport   \n",
       "2      40.689913 -73.981504    Monday    23  35589     Travel & Transport   \n",
       "3      40.708588 -73.991032    Monday    23  18603     Travel & Transport   \n",
       "4      40.833165 -73.941860   Tuesday    14  36348              Residence   \n",
       "...          ...        ...       ...   ...    ...                    ...   \n",
       "22118  40.704273 -73.986759  Saturday    10  25461  Outdoors & Recreation   \n",
       "22119  40.704733 -73.987738  Saturday    10   1805   College & University   \n",
       "22120  40.717353 -73.960392  Saturday    13  32523                   Food   \n",
       "22121  40.697721 -73.993020    Sunday     2  36212   College & University   \n",
       "22122  40.697803 -73.994145    Sunday     8  16452  Outdoors & Recreation   \n",
       "\n",
       "       price  rating weather    tid  label  \n",
       "0          1     8.2  Clouds    127      6  \n",
       "1       -999  -999.0  Clouds    127      6  \n",
       "2       -999  -999.0  Clouds    127      6  \n",
       "3       -999  -999.0  Clouds    127      6  \n",
       "4       -999  -999.0   Clear    127      6  \n",
       "...      ...     ...     ...    ...    ...  \n",
       "22118   -999     8.6   Clear  29551   1070  \n",
       "22119   -999  -999.0   Clear  29551   1070  \n",
       "22120      1     9.3   Clear  29551   1070  \n",
       "22121   -999  -999.0   Clear  29551   1070  \n",
       "22122   -999     6.9   Clear  29551   1070  \n",
       "\n",
       "[16435 rows x 11 columns]"
      ]
     },
     "execution_count": 2,
     "metadata": {},
     "output_type": "execute_result"
    }
   ],
   "source": [
    "from matdata.datasets import load_ds\n",
    "\n",
    "# dataset='mat.FoursquareNYC' => dafault\n",
    "\n",
    "df = load_ds(sample_size=0.25)\n",
    "df"
   ]
  },
  {
   "cell_type": "markdown",
   "metadata": {},
   "source": [
    "     b) Second, you can load the 70/30 hold out split available:"
   ]
  },
  {
   "cell_type": "code",
   "execution_count": 4,
   "metadata": {
    "tags": []
   },
   "outputs": [
    {
     "name": "stdout",
     "output_type": "stream",
     "text": [
      "Reading dataset FoursquareNYC of Multiple Aspect Trajectories\n"
     ]
    },
    {
     "data": {
      "application/vnd.jupyter.widget-view+json": {
       "model_id": "259a7b07b99c481f8a65ea4bf5d3e6e4",
       "version_major": 2,
       "version_minor": 0
      },
      "text/plain": [
       "FoursquareNYC (Multiple Aspect Trajectories):   0%|          | 0/2 [00:00<?, ?it/s]"
      ]
     },
     "metadata": {},
     "output_type": "display_data"
    },
    {
     "data": {
      "text/html": [
       "<div>\n",
       "<style scoped>\n",
       "    .dataframe tbody tr th:only-of-type {\n",
       "        vertical-align: middle;\n",
       "    }\n",
       "\n",
       "    .dataframe tbody tr th {\n",
       "        vertical-align: top;\n",
       "    }\n",
       "\n",
       "    .dataframe thead th {\n",
       "        text-align: right;\n",
       "    }\n",
       "</style>\n",
       "<table border=\"1\" class=\"dataframe\">\n",
       "  <thead>\n",
       "    <tr style=\"text-align: right;\">\n",
       "      <th></th>\n",
       "      <th>tid</th>\n",
       "      <th>label</th>\n",
       "      <th>lat</th>\n",
       "      <th>lon</th>\n",
       "      <th>day</th>\n",
       "      <th>hour</th>\n",
       "      <th>poi</th>\n",
       "      <th>category</th>\n",
       "      <th>price</th>\n",
       "      <th>rating</th>\n",
       "      <th>weather</th>\n",
       "    </tr>\n",
       "  </thead>\n",
       "  <tbody>\n",
       "    <tr>\n",
       "      <th>0</th>\n",
       "      <td>127</td>\n",
       "      <td>6</td>\n",
       "      <td>40.834098</td>\n",
       "      <td>-73.945267</td>\n",
       "      <td>Monday</td>\n",
       "      <td>13</td>\n",
       "      <td>21580</td>\n",
       "      <td>Food</td>\n",
       "      <td>1</td>\n",
       "      <td>8.2</td>\n",
       "      <td>Clouds</td>\n",
       "    </tr>\n",
       "    <tr>\n",
       "      <th>1</th>\n",
       "      <td>127</td>\n",
       "      <td>6</td>\n",
       "      <td>40.567196</td>\n",
       "      <td>-73.882576</td>\n",
       "      <td>Monday</td>\n",
       "      <td>19</td>\n",
       "      <td>2392</td>\n",
       "      <td>Travel &amp; Transport</td>\n",
       "      <td>-999</td>\n",
       "      <td>-999.0</td>\n",
       "      <td>Clouds</td>\n",
       "    </tr>\n",
       "    <tr>\n",
       "      <th>2</th>\n",
       "      <td>127</td>\n",
       "      <td>6</td>\n",
       "      <td>40.689913</td>\n",
       "      <td>-73.981504</td>\n",
       "      <td>Monday</td>\n",
       "      <td>23</td>\n",
       "      <td>35589</td>\n",
       "      <td>Travel &amp; Transport</td>\n",
       "      <td>-999</td>\n",
       "      <td>-999.0</td>\n",
       "      <td>Clouds</td>\n",
       "    </tr>\n",
       "    <tr>\n",
       "      <th>3</th>\n",
       "      <td>127</td>\n",
       "      <td>6</td>\n",
       "      <td>40.708588</td>\n",
       "      <td>-73.991032</td>\n",
       "      <td>Monday</td>\n",
       "      <td>23</td>\n",
       "      <td>18603</td>\n",
       "      <td>Travel &amp; Transport</td>\n",
       "      <td>-999</td>\n",
       "      <td>-999.0</td>\n",
       "      <td>Clouds</td>\n",
       "    </tr>\n",
       "    <tr>\n",
       "      <th>4</th>\n",
       "      <td>127</td>\n",
       "      <td>6</td>\n",
       "      <td>40.833165</td>\n",
       "      <td>-73.941860</td>\n",
       "      <td>Tuesday</td>\n",
       "      <td>14</td>\n",
       "      <td>36348</td>\n",
       "      <td>Residence</td>\n",
       "      <td>-999</td>\n",
       "      <td>-999.0</td>\n",
       "      <td>Clear</td>\n",
       "    </tr>\n",
       "    <tr>\n",
       "      <th>...</th>\n",
       "      <td>...</td>\n",
       "      <td>...</td>\n",
       "      <td>...</td>\n",
       "      <td>...</td>\n",
       "      <td>...</td>\n",
       "      <td>...</td>\n",
       "      <td>...</td>\n",
       "      <td>...</td>\n",
       "      <td>...</td>\n",
       "      <td>...</td>\n",
       "      <td>...</td>\n",
       "    </tr>\n",
       "    <tr>\n",
       "      <th>44804</th>\n",
       "      <td>29563</td>\n",
       "      <td>1070</td>\n",
       "      <td>40.704733</td>\n",
       "      <td>-73.987738</td>\n",
       "      <td>Friday</td>\n",
       "      <td>17</td>\n",
       "      <td>1805</td>\n",
       "      <td>College &amp; University</td>\n",
       "      <td>-999</td>\n",
       "      <td>-999.0</td>\n",
       "      <td>Clouds</td>\n",
       "    </tr>\n",
       "    <tr>\n",
       "      <th>44805</th>\n",
       "      <td>29563</td>\n",
       "      <td>1070</td>\n",
       "      <td>40.695163</td>\n",
       "      <td>-73.995448</td>\n",
       "      <td>Friday</td>\n",
       "      <td>20</td>\n",
       "      <td>1944</td>\n",
       "      <td>Food</td>\n",
       "      <td>2</td>\n",
       "      <td>8.0</td>\n",
       "      <td>Clouds</td>\n",
       "    </tr>\n",
       "    <tr>\n",
       "      <th>44806</th>\n",
       "      <td>29563</td>\n",
       "      <td>1070</td>\n",
       "      <td>40.697803</td>\n",
       "      <td>-73.994145</td>\n",
       "      <td>Saturday</td>\n",
       "      <td>8</td>\n",
       "      <td>16452</td>\n",
       "      <td>Outdoors &amp; Recreation</td>\n",
       "      <td>-999</td>\n",
       "      <td>6.9</td>\n",
       "      <td>Clouds</td>\n",
       "    </tr>\n",
       "    <tr>\n",
       "      <th>44807</th>\n",
       "      <td>29563</td>\n",
       "      <td>1070</td>\n",
       "      <td>40.694673</td>\n",
       "      <td>-73.994082</td>\n",
       "      <td>Saturday</td>\n",
       "      <td>13</td>\n",
       "      <td>16201</td>\n",
       "      <td>Food</td>\n",
       "      <td>1</td>\n",
       "      <td>7.0</td>\n",
       "      <td>Clouds</td>\n",
       "    </tr>\n",
       "    <tr>\n",
       "      <th>44808</th>\n",
       "      <td>29563</td>\n",
       "      <td>1070</td>\n",
       "      <td>40.697803</td>\n",
       "      <td>-73.994145</td>\n",
       "      <td>Sunday</td>\n",
       "      <td>7</td>\n",
       "      <td>16452</td>\n",
       "      <td>Outdoors &amp; Recreation</td>\n",
       "      <td>-999</td>\n",
       "      <td>6.9</td>\n",
       "      <td>Clouds</td>\n",
       "    </tr>\n",
       "  </tbody>\n",
       "</table>\n",
       "<p>44809 rows × 11 columns</p>\n",
       "</div>"
      ],
      "text/plain": [
       "         tid  label        lat        lon       day  hour    poi  \\\n",
       "0        127      6  40.834098 -73.945267    Monday    13  21580   \n",
       "1        127      6  40.567196 -73.882576    Monday    19   2392   \n",
       "2        127      6  40.689913 -73.981504    Monday    23  35589   \n",
       "3        127      6  40.708588 -73.991032    Monday    23  18603   \n",
       "4        127      6  40.833165 -73.941860   Tuesday    14  36348   \n",
       "...      ...    ...        ...        ...       ...   ...    ...   \n",
       "44804  29563   1070  40.704733 -73.987738    Friday    17   1805   \n",
       "44805  29563   1070  40.695163 -73.995448    Friday    20   1944   \n",
       "44806  29563   1070  40.697803 -73.994145  Saturday     8  16452   \n",
       "44807  29563   1070  40.694673 -73.994082  Saturday    13  16201   \n",
       "44808  29563   1070  40.697803 -73.994145    Sunday     7  16452   \n",
       "\n",
       "                    category  price  rating weather  \n",
       "0                       Food      1     8.2  Clouds  \n",
       "1         Travel & Transport   -999  -999.0  Clouds  \n",
       "2         Travel & Transport   -999  -999.0  Clouds  \n",
       "3         Travel & Transport   -999  -999.0  Clouds  \n",
       "4                  Residence   -999  -999.0   Clear  \n",
       "...                      ...    ...     ...     ...  \n",
       "44804   College & University   -999  -999.0  Clouds  \n",
       "44805                   Food      2     8.0  Clouds  \n",
       "44806  Outdoors & Recreation   -999     6.9  Clouds  \n",
       "44807                   Food      1     7.0  Clouds  \n",
       "44808  Outdoors & Recreation   -999     6.9  Clouds  \n",
       "\n",
       "[44809 rows x 11 columns]"
      ]
     },
     "execution_count": 4,
     "metadata": {},
     "output_type": "execute_result"
    }
   ],
   "source": [
    "from matdata.datasets import load_ds_holdout\n",
    "\n",
    "# dataset='mat.FoursquareNYC' => dafault\n",
    "\n",
    "df_train, df_test = load_ds_holdout()\n",
    "df_train"
   ]
  },
  {
   "cell_type": "markdown",
   "metadata": {},
   "source": [
    "    c) Or, you can load the 5-fold split datasets available:"
   ]
  },
  {
   "cell_type": "code",
   "execution_count": 1,
   "metadata": {
    "tags": []
   },
   "outputs": [
    {
     "data": {
      "application/vnd.jupyter.widget-view+json": {
       "model_id": "ff7e6017973c4bb8985f09df734ac412",
       "version_major": 2,
       "version_minor": 0
      },
      "text/plain": [
       "Reading 5-fold dataset GoTrack of Raw Trajectories:   0%|          | 0/5 [00:00<?, ?it/s]"
      ]
     },
     "metadata": {},
     "output_type": "display_data"
    },
    {
     "data": {
      "application/vnd.jupyter.widget-view+json": {
       "model_id": "9224c18955a043b58bf2295413b2c2fa",
       "version_major": 2,
       "version_minor": 0
      },
      "text/plain": [
       "GoTrack (Raw Trajectories), fold: 1:   0%|          | 0/2 [00:00<?, ?it/s]"
      ]
     },
     "metadata": {},
     "output_type": "display_data"
    },
    {
     "data": {
      "application/vnd.jupyter.widget-view+json": {
       "model_id": "f1dd16ec078e4495a2670c741e1f5921",
       "version_major": 2,
       "version_minor": 0
      },
      "text/plain": [
       "GoTrack (Raw Trajectories), fold: 2:   0%|          | 0/2 [00:00<?, ?it/s]"
      ]
     },
     "metadata": {},
     "output_type": "display_data"
    },
    {
     "data": {
      "application/vnd.jupyter.widget-view+json": {
       "model_id": "74f72bec8bb44de49961486704b7face",
       "version_major": 2,
       "version_minor": 0
      },
      "text/plain": [
       "GoTrack (Raw Trajectories), fold: 3:   0%|          | 0/2 [00:00<?, ?it/s]"
      ]
     },
     "metadata": {},
     "output_type": "display_data"
    },
    {
     "data": {
      "application/vnd.jupyter.widget-view+json": {
       "model_id": "bf36fce06a884b99b41e009a7fe260a5",
       "version_major": 2,
       "version_minor": 0
      },
      "text/plain": [
       "GoTrack (Raw Trajectories), fold: 4:   0%|          | 0/2 [00:00<?, ?it/s]"
      ]
     },
     "metadata": {},
     "output_type": "display_data"
    },
    {
     "data": {
      "application/vnd.jupyter.widget-view+json": {
       "model_id": "2c3918ff15264da4b16f4e76306197d0",
       "version_major": 2,
       "version_minor": 0
      },
      "text/plain": [
       "GoTrack (Raw Trajectories), fold: 5:   0%|          | 0/2 [00:00<?, ?it/s]"
      ]
     },
     "metadata": {},
     "output_type": "display_data"
    },
    {
     "data": {
      "text/html": [
       "<div>\n",
       "<style scoped>\n",
       "    .dataframe tbody tr th:only-of-type {\n",
       "        vertical-align: middle;\n",
       "    }\n",
       "\n",
       "    .dataframe tbody tr th {\n",
       "        vertical-align: top;\n",
       "    }\n",
       "\n",
       "    .dataframe thead th {\n",
       "        text-align: right;\n",
       "    }\n",
       "</style>\n",
       "<table border=\"1\" class=\"dataframe\">\n",
       "  <thead>\n",
       "    <tr style=\"text-align: right;\">\n",
       "      <th></th>\n",
       "      <th>time</th>\n",
       "      <th>lat</th>\n",
       "      <th>lon</th>\n",
       "      <th>tid</th>\n",
       "      <th>label</th>\n",
       "    </tr>\n",
       "  </thead>\n",
       "  <tbody>\n",
       "    <tr>\n",
       "      <th>0</th>\n",
       "      <td>444</td>\n",
       "      <td>-10.939341</td>\n",
       "      <td>-37.062742</td>\n",
       "      <td>1</td>\n",
       "      <td>car</td>\n",
       "    </tr>\n",
       "    <tr>\n",
       "      <th>1</th>\n",
       "      <td>444</td>\n",
       "      <td>-10.939341</td>\n",
       "      <td>-37.062742</td>\n",
       "      <td>1</td>\n",
       "      <td>car</td>\n",
       "    </tr>\n",
       "    <tr>\n",
       "      <th>2</th>\n",
       "      <td>444</td>\n",
       "      <td>-10.939324</td>\n",
       "      <td>-37.062765</td>\n",
       "      <td>1</td>\n",
       "      <td>car</td>\n",
       "    </tr>\n",
       "    <tr>\n",
       "      <th>3</th>\n",
       "      <td>444</td>\n",
       "      <td>-10.939211</td>\n",
       "      <td>-37.062843</td>\n",
       "      <td>1</td>\n",
       "      <td>car</td>\n",
       "    </tr>\n",
       "    <tr>\n",
       "      <th>4</th>\n",
       "      <td>444</td>\n",
       "      <td>-10.938939</td>\n",
       "      <td>-37.062879</td>\n",
       "      <td>1</td>\n",
       "      <td>car</td>\n",
       "    </tr>\n",
       "    <tr>\n",
       "      <th>...</th>\n",
       "      <td>...</td>\n",
       "      <td>...</td>\n",
       "      <td>...</td>\n",
       "      <td>...</td>\n",
       "      <td>...</td>\n",
       "    </tr>\n",
       "    <tr>\n",
       "      <th>13513</th>\n",
       "      <td>1303</td>\n",
       "      <td>-10.933398</td>\n",
       "      <td>-37.078873</td>\n",
       "      <td>38084</td>\n",
       "      <td>bus</td>\n",
       "    </tr>\n",
       "    <tr>\n",
       "      <th>13514</th>\n",
       "      <td>1303</td>\n",
       "      <td>-10.933398</td>\n",
       "      <td>-37.078873</td>\n",
       "      <td>38084</td>\n",
       "      <td>bus</td>\n",
       "    </tr>\n",
       "    <tr>\n",
       "      <th>13515</th>\n",
       "      <td>1303</td>\n",
       "      <td>-10.933398</td>\n",
       "      <td>-37.078873</td>\n",
       "      <td>38084</td>\n",
       "      <td>bus</td>\n",
       "    </tr>\n",
       "    <tr>\n",
       "      <th>13516</th>\n",
       "      <td>58</td>\n",
       "      <td>-10.869450</td>\n",
       "      <td>-37.095276</td>\n",
       "      <td>38090</td>\n",
       "      <td>bus</td>\n",
       "    </tr>\n",
       "    <tr>\n",
       "      <th>13517</th>\n",
       "      <td>58</td>\n",
       "      <td>-10.869450</td>\n",
       "      <td>-37.095276</td>\n",
       "      <td>38090</td>\n",
       "      <td>bus</td>\n",
       "    </tr>\n",
       "  </tbody>\n",
       "</table>\n",
       "<p>13518 rows × 5 columns</p>\n",
       "</div>"
      ],
      "text/plain": [
       "       time        lat        lon    tid label\n",
       "0       444 -10.939341 -37.062742      1   car\n",
       "1       444 -10.939341 -37.062742      1   car\n",
       "2       444 -10.939324 -37.062765      1   car\n",
       "3       444 -10.939211 -37.062843      1   car\n",
       "4       444 -10.938939 -37.062879      1   car\n",
       "...     ...        ...        ...    ...   ...\n",
       "13513  1303 -10.933398 -37.078873  38084   bus\n",
       "13514  1303 -10.933398 -37.078873  38084   bus\n",
       "13515  1303 -10.933398 -37.078873  38084   bus\n",
       "13516    58 -10.869450 -37.095276  38090   bus\n",
       "13517    58 -10.869450 -37.095276  38090   bus\n",
       "\n",
       "[13518 rows x 5 columns]"
      ]
     },
     "execution_count": 1,
     "metadata": {},
     "output_type": "execute_result"
    }
   ],
   "source": [
    "from matdata.datasets import load_ds_5fold\n",
    "\n",
    "dataset='raw.GoTrack'\n",
    "\n",
    "df_train, df_test = load_ds_5fold(dataset)\n",
    "df_train[4]"
   ]
  },
  {
   "cell_type": "markdown",
   "metadata": {},
   "source": [
    "    d) Read a dataset locally:"
   ]
  },
  {
   "cell_type": "code",
   "execution_count": 6,
   "metadata": {},
   "outputs": [],
   "source": [
    "from matdata.datasets import *"
   ]
  },
  {
   "cell_type": "code",
   "execution_count": 8,
   "metadata": {
    "tags": []
   },
   "outputs": [
    {
     "data": {
      "text/html": [
       "<div>\n",
       "<style scoped>\n",
       "    .dataframe tbody tr th:only-of-type {\n",
       "        vertical-align: middle;\n",
       "    }\n",
       "\n",
       "    .dataframe tbody tr th {\n",
       "        vertical-align: top;\n",
       "    }\n",
       "\n",
       "    .dataframe thead th {\n",
       "        text-align: right;\n",
       "    }\n",
       "</style>\n",
       "<table border=\"1\" class=\"dataframe\">\n",
       "  <thead>\n",
       "    <tr style=\"text-align: right;\">\n",
       "      <th></th>\n",
       "      <th>tid</th>\n",
       "      <th>lat_lon</th>\n",
       "      <th>date_time</th>\n",
       "      <th>time</th>\n",
       "      <th>rating</th>\n",
       "      <th>price</th>\n",
       "      <th>weather</th>\n",
       "      <th>day</th>\n",
       "      <th>root_type</th>\n",
       "      <th>type</th>\n",
       "    </tr>\n",
       "  </thead>\n",
       "  <tbody>\n",
       "    <tr>\n",
       "      <th>0</th>\n",
       "      <td>126</td>\n",
       "      <td>40.8331652006224 -73.9418603427692</td>\n",
       "      <td>2012-11-12 05:17:18</td>\n",
       "      <td>317</td>\n",
       "      <td>-1.0</td>\n",
       "      <td>-1</td>\n",
       "      <td>Clear</td>\n",
       "      <td>Monday</td>\n",
       "      <td>Residence</td>\n",
       "      <td>Home (private)</td>\n",
       "    </tr>\n",
       "    <tr>\n",
       "      <th>1</th>\n",
       "      <td>126</td>\n",
       "      <td>40.8340978041072 -73.9452672225881</td>\n",
       "      <td>2012-11-12 23:24:55</td>\n",
       "      <td>1404</td>\n",
       "      <td>8.2</td>\n",
       "      <td>1</td>\n",
       "      <td>Clouds</td>\n",
       "      <td>Monday</td>\n",
       "      <td>Food</td>\n",
       "      <td>Deli / Bodega</td>\n",
       "    </tr>\n",
       "    <tr>\n",
       "      <th>2</th>\n",
       "      <td>126</td>\n",
       "      <td>40.8331652006224 -73.9418603427692</td>\n",
       "      <td>2012-11-13 00:00:07</td>\n",
       "      <td>0</td>\n",
       "      <td>-1.0</td>\n",
       "      <td>-1</td>\n",
       "      <td>Clouds</td>\n",
       "      <td>Tuesday</td>\n",
       "      <td>Residence</td>\n",
       "      <td>Home (private)</td>\n",
       "    </tr>\n",
       "    <tr>\n",
       "      <th>3</th>\n",
       "      <td>126</td>\n",
       "      <td>40.7646959283254 -73.8851974964414</td>\n",
       "      <td>2012-11-15 17:49:01</td>\n",
       "      <td>1069</td>\n",
       "      <td>6.6</td>\n",
       "      <td>3</td>\n",
       "      <td>Clear</td>\n",
       "      <td>Thursday</td>\n",
       "      <td>Food</td>\n",
       "      <td>Fried Chicken Joint</td>\n",
       "    </tr>\n",
       "    <tr>\n",
       "      <th>4</th>\n",
       "      <td>126</td>\n",
       "      <td>40.7660790376824 -73.8835287094116</td>\n",
       "      <td>2012-11-15 18:40:16</td>\n",
       "      <td>1120</td>\n",
       "      <td>-1.0</td>\n",
       "      <td>-1</td>\n",
       "      <td>Clear</td>\n",
       "      <td>Thursday</td>\n",
       "      <td>Travel &amp; Transport</td>\n",
       "      <td>Bus Station</td>\n",
       "    </tr>\n",
       "  </tbody>\n",
       "</table>\n",
       "</div>"
      ],
      "text/plain": [
       "   tid                             lat_lon            date_time  time  rating  \\\n",
       "0  126  40.8331652006224 -73.9418603427692  2012-11-12 05:17:18   317    -1.0   \n",
       "1  126  40.8340978041072 -73.9452672225881  2012-11-12 23:24:55  1404     8.2   \n",
       "2  126  40.8331652006224 -73.9418603427692  2012-11-13 00:00:07     0    -1.0   \n",
       "3  126  40.7646959283254 -73.8851974964414  2012-11-15 17:49:01  1069     6.6   \n",
       "4  126  40.7660790376824 -73.8835287094116  2012-11-15 18:40:16  1120    -1.0   \n",
       "\n",
       "   price weather       day           root_type                 type  \n",
       "0     -1   Clear    Monday           Residence       Home (private)  \n",
       "1      1  Clouds    Monday                Food        Deli / Bodega  \n",
       "2     -1  Clouds   Tuesday           Residence       Home (private)  \n",
       "3      3   Clear  Thursday                Food  Fried Chicken Joint  \n",
       "4     -1   Clear  Thursday  Travel & Transport          Bus Station  "
      ]
     },
     "execution_count": 8,
     "metadata": {},
     "output_type": "execute_result"
    }
   ],
   "source": [
    "df = read_ds('matdata/assets/sample/Foursquare_Sample.csv')\n",
    "df.head()"
   ]
  },
  {
   "cell_type": "code",
   "execution_count": 1,
   "metadata": {},
   "outputs": [
    {
     "data": {
      "text/html": [
       "<div>\n",
       "<style scoped>\n",
       "    .dataframe tbody tr th:only-of-type {\n",
       "        vertical-align: middle;\n",
       "    }\n",
       "\n",
       "    .dataframe tbody tr th {\n",
       "        vertical-align: top;\n",
       "    }\n",
       "\n",
       "    .dataframe thead th {\n",
       "        text-align: right;\n",
       "    }\n",
       "</style>\n",
       "<table border=\"1\" class=\"dataframe\">\n",
       "  <thead>\n",
       "    <tr style=\"text-align: right;\">\n",
       "      <th></th>\n",
       "      <th>date_time</th>\n",
       "      <th>time</th>\n",
       "      <th>rating</th>\n",
       "      <th>price</th>\n",
       "      <th>weather</th>\n",
       "      <th>day</th>\n",
       "      <th>root_type</th>\n",
       "      <th>lat</th>\n",
       "      <th>lon</th>\n",
       "      <th>tid</th>\n",
       "      <th>label</th>\n",
       "    </tr>\n",
       "  </thead>\n",
       "  <tbody>\n",
       "    <tr>\n",
       "      <th>0</th>\n",
       "      <td>2012-11-12 05:17:18</td>\n",
       "      <td>317</td>\n",
       "      <td>-1.0</td>\n",
       "      <td>-1</td>\n",
       "      <td>Clear</td>\n",
       "      <td>Monday</td>\n",
       "      <td>Residence</td>\n",
       "      <td>40.833165</td>\n",
       "      <td>-73.941860</td>\n",
       "      <td>126</td>\n",
       "      <td>Home (private)</td>\n",
       "    </tr>\n",
       "    <tr>\n",
       "      <th>1</th>\n",
       "      <td>2012-11-12 23:24:55</td>\n",
       "      <td>1404</td>\n",
       "      <td>8.2</td>\n",
       "      <td>1</td>\n",
       "      <td>Clouds</td>\n",
       "      <td>Monday</td>\n",
       "      <td>Food</td>\n",
       "      <td>40.834098</td>\n",
       "      <td>-73.945267</td>\n",
       "      <td>126</td>\n",
       "      <td>Deli / Bodega</td>\n",
       "    </tr>\n",
       "    <tr>\n",
       "      <th>2</th>\n",
       "      <td>2012-11-13 00:00:07</td>\n",
       "      <td>0</td>\n",
       "      <td>-1.0</td>\n",
       "      <td>-1</td>\n",
       "      <td>Clouds</td>\n",
       "      <td>Tuesday</td>\n",
       "      <td>Residence</td>\n",
       "      <td>40.833165</td>\n",
       "      <td>-73.941860</td>\n",
       "      <td>126</td>\n",
       "      <td>Home (private)</td>\n",
       "    </tr>\n",
       "    <tr>\n",
       "      <th>3</th>\n",
       "      <td>2012-11-15 17:49:01</td>\n",
       "      <td>1069</td>\n",
       "      <td>6.6</td>\n",
       "      <td>3</td>\n",
       "      <td>Clear</td>\n",
       "      <td>Thursday</td>\n",
       "      <td>Food</td>\n",
       "      <td>40.764696</td>\n",
       "      <td>-73.885197</td>\n",
       "      <td>126</td>\n",
       "      <td>Fried Chicken Joint</td>\n",
       "    </tr>\n",
       "    <tr>\n",
       "      <th>4</th>\n",
       "      <td>2012-11-15 18:40:16</td>\n",
       "      <td>1120</td>\n",
       "      <td>-1.0</td>\n",
       "      <td>-1</td>\n",
       "      <td>Clear</td>\n",
       "      <td>Thursday</td>\n",
       "      <td>Travel &amp; Transport</td>\n",
       "      <td>40.766079</td>\n",
       "      <td>-73.883529</td>\n",
       "      <td>126</td>\n",
       "      <td>Bus Station</td>\n",
       "    </tr>\n",
       "  </tbody>\n",
       "</table>\n",
       "</div>"
      ],
      "text/plain": [
       "             date_time  time  rating  price weather       day  \\\n",
       "0  2012-11-12 05:17:18   317    -1.0     -1   Clear    Monday   \n",
       "1  2012-11-12 23:24:55  1404     8.2      1  Clouds    Monday   \n",
       "2  2012-11-13 00:00:07     0    -1.0     -1  Clouds   Tuesday   \n",
       "3  2012-11-15 17:49:01  1069     6.6      3   Clear  Thursday   \n",
       "4  2012-11-15 18:40:16  1120    -1.0     -1   Clear  Thursday   \n",
       "\n",
       "            root_type        lat        lon  tid                label  \n",
       "0           Residence  40.833165 -73.941860  126       Home (private)  \n",
       "1                Food  40.834098 -73.945267  126        Deli / Bodega  \n",
       "2           Residence  40.833165 -73.941860  126       Home (private)  \n",
       "3                Food  40.764696 -73.885197  126  Fried Chicken Joint  \n",
       "4  Travel & Transport  40.766079 -73.883529  126          Bus Station  "
      ]
     },
     "execution_count": 1,
     "metadata": {},
     "output_type": "execute_result"
    }
   ],
   "source": [
    "# Optionally, you can use the standardized reading, which will use 'tid'/'label' nomenclature and will sort the trajectories\n",
    "from matdata.datasets import *\n",
    "df = read_ds('matdata/assets/sample/Foursquare_Sample.csv', tid_col='tid', class_col='type')\n",
    "df.head()"
   ]
  },
  {
   "cell_type": "code",
   "execution_count": 23,
   "metadata": {
    "jupyter": {
     "source_hidden": true
    },
    "tags": []
   },
   "outputs": [
    {
     "data": {
      "text/plain": [
       "array([ 207,  438,  440,  533,  647,  730,  754,  885,  895, 1006])"
      ]
     },
     "execution_count": 23,
     "metadata": {},
     "output_type": "execute_result"
    }
   ],
   "source": [
    "labels = [207, 438, 440, 533, 647, 730, 754, 885, 895, 1006]\n",
    "#labels = [ 69, 207, 365, 438, 440, 647, 673, 730, 754, 895]\n",
    "\n",
    "df = labels_extract(df, labels)\n",
    "df['label'].unique()"
   ]
  },
  {
   "cell_type": "code",
   "execution_count": 26,
   "metadata": {},
   "outputs": [
    {
     "data": {
      "text/plain": [
       "Index(['tid', 'space', 'date_time', 'day', 'poi', 'category', 'price',\n",
       "       'rating', 'weather', 'label', 'lat', 'lon'],\n",
       "      dtype='object')"
      ]
     },
     "execution_count": 26,
     "metadata": {},
     "output_type": "execute_result"
    }
   ],
   "source": [
    "df.columns"
   ]
  },
  {
   "cell_type": "code",
   "execution_count": 27,
   "metadata": {},
   "outputs": [],
   "source": [
    "df[['tid', 'label', 'space', 'date_time', 'day', 'poi', 'category', 'price', 'rating', 'weather']].to_csv('train.csv', index=False)"
   ]
  },
  {
   "cell_type": "markdown",
   "metadata": {},
   "source": [
    "\\# By Tarlis Portela (2023)"
   ]
  }
 ],
 "metadata": {
  "kernelspec": {
   "display_name": "Python 3 (ipykernel)",
   "language": "python",
   "name": "python3"
  },
  "language_info": {
   "codemirror_mode": {
    "name": "ipython",
    "version": 3
   },
   "file_extension": ".py",
   "mimetype": "text/x-python",
   "name": "python",
   "nbconvert_exporter": "python",
   "pygments_lexer": "ipython3",
   "version": "3.9.13"
  }
 },
 "nbformat": 4,
 "nbformat_minor": 4
}
