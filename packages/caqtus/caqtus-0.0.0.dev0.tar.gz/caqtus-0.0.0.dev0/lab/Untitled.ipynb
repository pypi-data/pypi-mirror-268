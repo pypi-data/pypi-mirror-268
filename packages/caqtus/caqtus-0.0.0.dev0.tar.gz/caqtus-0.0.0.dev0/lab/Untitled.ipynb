{
 "cells": [
  {
   "cell_type": "code",
   "execution_count": 1,
   "id": "a7ab53d7",
   "metadata": {},
   "outputs": [],
   "source": [
    "import qactus"
   ]
  },
  {
   "cell_type": "code",
   "execution_count": 3,
   "id": "508f25e0",
   "metadata": {},
   "outputs": [
    {
     "data": {
      "text/plain": [
       "'Hello, qactus :D'"
      ]
     },
     "execution_count": 3,
     "metadata": {},
     "output_type": "execute_result"
    }
   ],
   "source": [
    "qactus.hello_qactus()"
   ]
  },
  {
   "cell_type": "code",
   "execution_count": 4,
   "id": "edfe3320",
   "metadata": {},
   "outputs": [
    {
     "name": "stdout",
     "output_type": "stream",
     "text": [
      "Hello, caqtus\n"
     ]
    }
   ],
   "source": [
    "print(\"Hello, caqtus\")"
   ]
  },
  {
   "cell_type": "code",
   "execution_count": null,
   "id": "41ba580e",
   "metadata": {},
   "outputs": [],
   "source": []
  }
 ],
 "metadata": {
  "kernelspec": {
   "display_name": "Python 3 (ipykernel)",
   "language": "python",
   "name": "python3"
  },
  "language_info": {
   "codemirror_mode": {
    "name": "ipython",
    "version": 3
   },
   "file_extension": ".py",
   "mimetype": "text/x-python",
   "name": "python",
   "nbconvert_exporter": "python",
   "pygments_lexer": "ipython3",
   "version": "3.10.0"
  }
 },
 "nbformat": 4,
 "nbformat_minor": 5
}
