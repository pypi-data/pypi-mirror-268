{
 "cells": [
  {
   "cell_type": "code",
   "execution_count": 3,
   "metadata": {},
   "outputs": [
    {
     "name": "stdout",
     "output_type": "stream",
     "text": [
      "Requirement already satisfied: arcgeo in c:\\users\\shabiha\\anaconda3\\envs\\geo\\lib\\site-packages (0.0.3)\n",
      "Requirement already satisfied: numpy in c:\\users\\shabiha\\anaconda3\\envs\\geo\\lib\\site-packages (from arcgeo) (1.23.4)\n",
      "Requirement already satisfied: ipyleaflet in c:\\users\\shabiha\\anaconda3\\envs\\geo\\lib\\site-packages (from arcgeo) (0.18.2)\n",
      "Requirement already satisfied: ipywidgets<9,>=7.6.0 in c:\\users\\shabiha\\anaconda3\\envs\\geo\\lib\\site-packages (from ipyleaflet->arcgeo) (7.8.1)\n",
      "Requirement already satisfied: traittypes<3,>=0.2.1 in c:\\users\\shabiha\\anaconda3\\envs\\geo\\lib\\site-packages (from ipyleaflet->arcgeo) (0.2.1)\n",
      "Requirement already satisfied: xyzservices>=2021.8.1 in c:\\users\\shabiha\\anaconda3\\envs\\geo\\lib\\site-packages (from ipyleaflet->arcgeo) (2023.10.1)\n",
      "Requirement already satisfied: branca>=0.5.0 in c:\\users\\shabiha\\anaconda3\\envs\\geo\\lib\\site-packages (from ipyleaflet->arcgeo) (0.7.0)\n",
      "Requirement already satisfied: jinja2 in c:\\users\\shabiha\\anaconda3\\envs\\geo\\lib\\site-packages (from branca>=0.5.0->ipyleaflet->arcgeo) (3.1.3)\n",
      "Requirement already satisfied: comm>=0.1.3 in c:\\users\\shabiha\\anaconda3\\envs\\geo\\lib\\site-packages (from ipywidgets<9,>=7.6.0->ipyleaflet->arcgeo) (0.2.1)\n",
      "Requirement already satisfied: ipython-genutils~=0.2.0 in c:\\users\\shabiha\\anaconda3\\envs\\geo\\lib\\site-packages (from ipywidgets<9,>=7.6.0->ipyleaflet->arcgeo) (0.2.0)\n",
      "Requirement already satisfied: traitlets>=4.3.1 in c:\\users\\shabiha\\anaconda3\\envs\\geo\\lib\\site-packages (from ipywidgets<9,>=7.6.0->ipyleaflet->arcgeo) (5.14.1)\n",
      "Requirement already satisfied: widgetsnbextension~=3.6.6 in c:\\users\\shabiha\\anaconda3\\envs\\geo\\lib\\site-packages (from ipywidgets<9,>=7.6.0->ipyleaflet->arcgeo) (3.6.6)\n",
      "Requirement already satisfied: ipython>=4.0.0 in c:\\users\\shabiha\\anaconda3\\envs\\geo\\lib\\site-packages (from ipywidgets<9,>=7.6.0->ipyleaflet->arcgeo) (8.20.0)\n",
      "Requirement already satisfied: jupyterlab-widgets<3,>=1.0.0 in c:\\users\\shabiha\\anaconda3\\envs\\geo\\lib\\site-packages (from ipywidgets<9,>=7.6.0->ipyleaflet->arcgeo) (1.1.7)\n",
      "Requirement already satisfied: decorator in c:\\users\\shabiha\\anaconda3\\envs\\geo\\lib\\site-packages (from ipython>=4.0.0->ipywidgets<9,>=7.6.0->ipyleaflet->arcgeo) (5.1.1)\n",
      "Requirement already satisfied: jedi>=0.16 in c:\\users\\shabiha\\anaconda3\\envs\\geo\\lib\\site-packages (from ipython>=4.0.0->ipywidgets<9,>=7.6.0->ipyleaflet->arcgeo) (0.19.1)\n",
      "Requirement already satisfied: matplotlib-inline in c:\\users\\shabiha\\anaconda3\\envs\\geo\\lib\\site-packages (from ipython>=4.0.0->ipywidgets<9,>=7.6.0->ipyleaflet->arcgeo) (0.1.6)\n",
      "Requirement already satisfied: prompt-toolkit<3.1.0,>=3.0.41 in c:\\users\\shabiha\\anaconda3\\envs\\geo\\lib\\site-packages (from ipython>=4.0.0->ipywidgets<9,>=7.6.0->ipyleaflet->arcgeo) (3.0.43)\n",
      "Requirement already satisfied: pygments>=2.4.0 in c:\\users\\shabiha\\anaconda3\\envs\\geo\\lib\\site-packages (from ipython>=4.0.0->ipywidgets<9,>=7.6.0->ipyleaflet->arcgeo) (2.17.2)\n",
      "Requirement already satisfied: stack-data in c:\\users\\shabiha\\anaconda3\\envs\\geo\\lib\\site-packages (from ipython>=4.0.0->ipywidgets<9,>=7.6.0->ipyleaflet->arcgeo) (0.6.3)\n",
      "Requirement already satisfied: colorama in c:\\users\\shabiha\\anaconda3\\envs\\geo\\lib\\site-packages (from ipython>=4.0.0->ipywidgets<9,>=7.6.0->ipyleaflet->arcgeo) (0.4.6)\n",
      "Requirement already satisfied: notebook>=4.4.1 in c:\\users\\shabiha\\anaconda3\\envs\\geo\\lib\\site-packages (from widgetsnbextension~=3.6.6->ipywidgets<9,>=7.6.0->ipyleaflet->arcgeo) (7.0.7)\n",
      "Requirement already satisfied: MarkupSafe>=2.0 in c:\\users\\shabiha\\anaconda3\\envs\\geo\\lib\\site-packages (from jinja2->branca>=0.5.0->ipyleaflet->arcgeo) (2.1.4)\n",
      "Requirement already satisfied: parso<0.9.0,>=0.8.3 in c:\\users\\shabiha\\anaconda3\\envs\\geo\\lib\\site-packages (from jedi>=0.16->ipython>=4.0.0->ipywidgets<9,>=7.6.0->ipyleaflet->arcgeo) (0.8.3)\n",
      "Requirement already satisfied: jupyter-server<3,>=2.4.0 in c:\\users\\shabiha\\anaconda3\\envs\\geo\\lib\\site-packages (from notebook>=4.4.1->widgetsnbextension~=3.6.6->ipywidgets<9,>=7.6.0->ipyleaflet->arcgeo) (2.12.5)\n",
      "Requirement already satisfied: jupyterlab-server<3,>=2.22.1 in c:\\users\\shabiha\\anaconda3\\envs\\geo\\lib\\site-packages (from notebook>=4.4.1->widgetsnbextension~=3.6.6->ipywidgets<9,>=7.6.0->ipyleaflet->arcgeo) (2.25.2)\n",
      "Requirement already satisfied: jupyterlab<5,>=4.0.2 in c:\\users\\shabiha\\anaconda3\\envs\\geo\\lib\\site-packages (from notebook>=4.4.1->widgetsnbextension~=3.6.6->ipywidgets<9,>=7.6.0->ipyleaflet->arcgeo) (4.0.11)\n",
      "Requirement already satisfied: notebook-shim<0.3,>=0.2 in c:\\users\\shabiha\\anaconda3\\envs\\geo\\lib\\site-packages (from notebook>=4.4.1->widgetsnbextension~=3.6.6->ipywidgets<9,>=7.6.0->ipyleaflet->arcgeo) (0.2.3)\n",
      "Requirement already satisfied: tornado>=6.2.0 in c:\\users\\shabiha\\anaconda3\\envs\\geo\\lib\\site-packages (from notebook>=4.4.1->widgetsnbextension~=3.6.6->ipywidgets<9,>=7.6.0->ipyleaflet->arcgeo) (6.4)\n",
      "Requirement already satisfied: wcwidth in c:\\users\\shabiha\\anaconda3\\envs\\geo\\lib\\site-packages (from prompt-toolkit<3.1.0,>=3.0.41->ipython>=4.0.0->ipywidgets<9,>=7.6.0->ipyleaflet->arcgeo) (0.2.13)\n",
      "Requirement already satisfied: executing>=1.2.0 in c:\\users\\shabiha\\anaconda3\\envs\\geo\\lib\\site-packages (from stack-data->ipython>=4.0.0->ipywidgets<9,>=7.6.0->ipyleaflet->arcgeo) (2.0.1)\n",
      "Requirement already satisfied: asttokens>=2.1.0 in c:\\users\\shabiha\\anaconda3\\envs\\geo\\lib\\site-packages (from stack-data->ipython>=4.0.0->ipywidgets<9,>=7.6.0->ipyleaflet->arcgeo) (2.4.1)\n",
      "Requirement already satisfied: pure-eval in c:\\users\\shabiha\\anaconda3\\envs\\geo\\lib\\site-packages (from stack-data->ipython>=4.0.0->ipywidgets<9,>=7.6.0->ipyleaflet->arcgeo) (0.2.2)\n",
      "Requirement already satisfied: six>=1.12.0 in c:\\users\\shabiha\\anaconda3\\envs\\geo\\lib\\site-packages (from asttokens>=2.1.0->stack-data->ipython>=4.0.0->ipywidgets<9,>=7.6.0->ipyleaflet->arcgeo) (1.16.0)\n",
      "Requirement already satisfied: anyio>=3.1.0 in c:\\users\\shabiha\\anaconda3\\envs\\geo\\lib\\site-packages (from jupyter-server<3,>=2.4.0->notebook>=4.4.1->widgetsnbextension~=3.6.6->ipywidgets<9,>=7.6.0->ipyleaflet->arcgeo) (4.2.0)\n",
      "Requirement already satisfied: argon2-cffi in c:\\users\\shabiha\\anaconda3\\envs\\geo\\lib\\site-packages (from jupyter-server<3,>=2.4.0->notebook>=4.4.1->widgetsnbextension~=3.6.6->ipywidgets<9,>=7.6.0->ipyleaflet->arcgeo) (23.1.0)\n",
      "Requirement already satisfied: jupyter-client>=7.4.4 in c:\\users\\shabiha\\anaconda3\\envs\\geo\\lib\\site-packages (from jupyter-server<3,>=2.4.0->notebook>=4.4.1->widgetsnbextension~=3.6.6->ipywidgets<9,>=7.6.0->ipyleaflet->arcgeo) (8.6.0)\n",
      "Requirement already satisfied: jupyter-core!=5.0.*,>=4.12 in c:\\users\\shabiha\\anaconda3\\envs\\geo\\lib\\site-packages (from jupyter-server<3,>=2.4.0->notebook>=4.4.1->widgetsnbextension~=3.6.6->ipywidgets<9,>=7.6.0->ipyleaflet->arcgeo) (5.7.1)\n",
      "Requirement already satisfied: jupyter-events>=0.9.0 in c:\\users\\shabiha\\anaconda3\\envs\\geo\\lib\\site-packages (from jupyter-server<3,>=2.4.0->notebook>=4.4.1->widgetsnbextension~=3.6.6->ipywidgets<9,>=7.6.0->ipyleaflet->arcgeo) (0.9.0)\n",
      "Requirement already satisfied: jupyter-server-terminals in c:\\users\\shabiha\\anaconda3\\envs\\geo\\lib\\site-packages (from jupyter-server<3,>=2.4.0->notebook>=4.4.1->widgetsnbextension~=3.6.6->ipywidgets<9,>=7.6.0->ipyleaflet->arcgeo) (0.5.2)\n",
      "Requirement already satisfied: nbconvert>=6.4.4 in c:\\users\\shabiha\\anaconda3\\envs\\geo\\lib\\site-packages (from jupyter-server<3,>=2.4.0->notebook>=4.4.1->widgetsnbextension~=3.6.6->ipywidgets<9,>=7.6.0->ipyleaflet->arcgeo) (7.14.2)\n",
      "Requirement already satisfied: nbformat>=5.3.0 in c:\\users\\shabiha\\anaconda3\\envs\\geo\\lib\\site-packages (from jupyter-server<3,>=2.4.0->notebook>=4.4.1->widgetsnbextension~=3.6.6->ipywidgets<9,>=7.6.0->ipyleaflet->arcgeo) (5.9.2)\n",
      "Requirement already satisfied: overrides in c:\\users\\shabiha\\anaconda3\\envs\\geo\\lib\\site-packages (from jupyter-server<3,>=2.4.0->notebook>=4.4.1->widgetsnbextension~=3.6.6->ipywidgets<9,>=7.6.0->ipyleaflet->arcgeo) (7.6.0)\n",
      "Requirement already satisfied: packaging in c:\\users\\shabiha\\anaconda3\\envs\\geo\\lib\\site-packages (from jupyter-server<3,>=2.4.0->notebook>=4.4.1->widgetsnbextension~=3.6.6->ipywidgets<9,>=7.6.0->ipyleaflet->arcgeo) (23.2)\n",
      "Requirement already satisfied: prometheus-client in c:\\users\\shabiha\\anaconda3\\envs\\geo\\lib\\site-packages (from jupyter-server<3,>=2.4.0->notebook>=4.4.1->widgetsnbextension~=3.6.6->ipywidgets<9,>=7.6.0->ipyleaflet->arcgeo) (0.19.0)\n",
      "Requirement already satisfied: pywinpty in c:\\users\\shabiha\\anaconda3\\envs\\geo\\lib\\site-packages (from jupyter-server<3,>=2.4.0->notebook>=4.4.1->widgetsnbextension~=3.6.6->ipywidgets<9,>=7.6.0->ipyleaflet->arcgeo) (2.0.12)\n",
      "Requirement already satisfied: pyzmq>=24 in c:\\users\\shabiha\\anaconda3\\envs\\geo\\lib\\site-packages (from jupyter-server<3,>=2.4.0->notebook>=4.4.1->widgetsnbextension~=3.6.6->ipywidgets<9,>=7.6.0->ipyleaflet->arcgeo) (25.1.2)\n",
      "Requirement already satisfied: send2trash>=1.8.2 in c:\\users\\shabiha\\anaconda3\\envs\\geo\\lib\\site-packages (from jupyter-server<3,>=2.4.0->notebook>=4.4.1->widgetsnbextension~=3.6.6->ipywidgets<9,>=7.6.0->ipyleaflet->arcgeo) (1.8.2)\n",
      "Requirement already satisfied: terminado>=0.8.3 in c:\\users\\shabiha\\anaconda3\\envs\\geo\\lib\\site-packages (from jupyter-server<3,>=2.4.0->notebook>=4.4.1->widgetsnbextension~=3.6.6->ipywidgets<9,>=7.6.0->ipyleaflet->arcgeo) (0.18.0)\n",
      "Requirement already satisfied: websocket-client in c:\\users\\shabiha\\anaconda3\\envs\\geo\\lib\\site-packages (from jupyter-server<3,>=2.4.0->notebook>=4.4.1->widgetsnbextension~=3.6.6->ipywidgets<9,>=7.6.0->ipyleaflet->arcgeo) (1.7.0)\n",
      "Requirement already satisfied: async-lru>=1.0.0 in c:\\users\\shabiha\\anaconda3\\envs\\geo\\lib\\site-packages (from jupyterlab<5,>=4.0.2->notebook>=4.4.1->widgetsnbextension~=3.6.6->ipywidgets<9,>=7.6.0->ipyleaflet->arcgeo) (2.0.4)\n",
      "Requirement already satisfied: ipykernel in c:\\users\\shabiha\\anaconda3\\envs\\geo\\lib\\site-packages (from jupyterlab<5,>=4.0.2->notebook>=4.4.1->widgetsnbextension~=3.6.6->ipywidgets<9,>=7.6.0->ipyleaflet->arcgeo) (6.29.0)\n",
      "Requirement already satisfied: jupyter-lsp>=2.0.0 in c:\\users\\shabiha\\anaconda3\\envs\\geo\\lib\\site-packages (from jupyterlab<5,>=4.0.2->notebook>=4.4.1->widgetsnbextension~=3.6.6->ipywidgets<9,>=7.6.0->ipyleaflet->arcgeo) (2.2.2)\n",
      "Requirement already satisfied: babel>=2.10 in c:\\users\\shabiha\\anaconda3\\envs\\geo\\lib\\site-packages (from jupyterlab-server<3,>=2.22.1->notebook>=4.4.1->widgetsnbextension~=3.6.6->ipywidgets<9,>=7.6.0->ipyleaflet->arcgeo) (2.14.0)\n",
      "Requirement already satisfied: json5>=0.9.0 in c:\\users\\shabiha\\anaconda3\\envs\\geo\\lib\\site-packages (from jupyterlab-server<3,>=2.22.1->notebook>=4.4.1->widgetsnbextension~=3.6.6->ipywidgets<9,>=7.6.0->ipyleaflet->arcgeo) (0.9.14)\n",
      "Requirement already satisfied: jsonschema>=4.18.0 in c:\\users\\shabiha\\anaconda3\\envs\\geo\\lib\\site-packages (from jupyterlab-server<3,>=2.22.1->notebook>=4.4.1->widgetsnbextension~=3.6.6->ipywidgets<9,>=7.6.0->ipyleaflet->arcgeo) (4.21.1)\n",
      "Requirement already satisfied: requests>=2.31 in c:\\users\\shabiha\\anaconda3\\envs\\geo\\lib\\site-packages (from jupyterlab-server<3,>=2.22.1->notebook>=4.4.1->widgetsnbextension~=3.6.6->ipywidgets<9,>=7.6.0->ipyleaflet->arcgeo) (2.31.0)\n",
      "Requirement already satisfied: idna>=2.8 in c:\\users\\shabiha\\anaconda3\\envs\\geo\\lib\\site-packages (from anyio>=3.1.0->jupyter-server<3,>=2.4.0->notebook>=4.4.1->widgetsnbextension~=3.6.6->ipywidgets<9,>=7.6.0->ipyleaflet->arcgeo) (3.6)\n",
      "Requirement already satisfied: sniffio>=1.1 in c:\\users\\shabiha\\anaconda3\\envs\\geo\\lib\\site-packages (from anyio>=3.1.0->jupyter-server<3,>=2.4.0->notebook>=4.4.1->widgetsnbextension~=3.6.6->ipywidgets<9,>=7.6.0->ipyleaflet->arcgeo) (1.3.0)\n",
      "Requirement already satisfied: attrs>=22.2.0 in c:\\users\\shabiha\\anaconda3\\envs\\geo\\lib\\site-packages (from jsonschema>=4.18.0->jupyterlab-server<3,>=2.22.1->notebook>=4.4.1->widgetsnbextension~=3.6.6->ipywidgets<9,>=7.6.0->ipyleaflet->arcgeo) (23.2.0)\n",
      "Requirement already satisfied: jsonschema-specifications>=2023.03.6 in c:\\users\\shabiha\\anaconda3\\envs\\geo\\lib\\site-packages (from jsonschema>=4.18.0->jupyterlab-server<3,>=2.22.1->notebook>=4.4.1->widgetsnbextension~=3.6.6->ipywidgets<9,>=7.6.0->ipyleaflet->arcgeo) (2023.12.1)\n",
      "Requirement already satisfied: referencing>=0.28.4 in c:\\users\\shabiha\\anaconda3\\envs\\geo\\lib\\site-packages (from jsonschema>=4.18.0->jupyterlab-server<3,>=2.22.1->notebook>=4.4.1->widgetsnbextension~=3.6.6->ipywidgets<9,>=7.6.0->ipyleaflet->arcgeo) (0.32.1)\n",
      "Requirement already satisfied: rpds-py>=0.7.1 in c:\\users\\shabiha\\anaconda3\\envs\\geo\\lib\\site-packages (from jsonschema>=4.18.0->jupyterlab-server<3,>=2.22.1->notebook>=4.4.1->widgetsnbextension~=3.6.6->ipywidgets<9,>=7.6.0->ipyleaflet->arcgeo) (0.17.1)\n",
      "Requirement already satisfied: python-dateutil>=2.8.2 in c:\\users\\shabiha\\anaconda3\\envs\\geo\\lib\\site-packages (from jupyter-client>=7.4.4->jupyter-server<3,>=2.4.0->notebook>=4.4.1->widgetsnbextension~=3.6.6->ipywidgets<9,>=7.6.0->ipyleaflet->arcgeo) (2.8.2)\n",
      "Requirement already satisfied: platformdirs>=2.5 in c:\\users\\shabiha\\anaconda3\\envs\\geo\\lib\\site-packages (from jupyter-core!=5.0.*,>=4.12->jupyter-server<3,>=2.4.0->notebook>=4.4.1->widgetsnbextension~=3.6.6->ipywidgets<9,>=7.6.0->ipyleaflet->arcgeo) (4.1.0)\n",
      "Requirement already satisfied: pywin32>=300 in c:\\users\\shabiha\\anaconda3\\envs\\geo\\lib\\site-packages (from jupyter-core!=5.0.*,>=4.12->jupyter-server<3,>=2.4.0->notebook>=4.4.1->widgetsnbextension~=3.6.6->ipywidgets<9,>=7.6.0->ipyleaflet->arcgeo) (306)\n",
      "Requirement already satisfied: python-json-logger>=2.0.4 in c:\\users\\shabiha\\anaconda3\\envs\\geo\\lib\\site-packages (from jupyter-events>=0.9.0->jupyter-server<3,>=2.4.0->notebook>=4.4.1->widgetsnbextension~=3.6.6->ipywidgets<9,>=7.6.0->ipyleaflet->arcgeo) (2.0.7)\n",
      "Requirement already satisfied: pyyaml>=5.3 in c:\\users\\shabiha\\anaconda3\\envs\\geo\\lib\\site-packages (from jupyter-events>=0.9.0->jupyter-server<3,>=2.4.0->notebook>=4.4.1->widgetsnbextension~=3.6.6->ipywidgets<9,>=7.6.0->ipyleaflet->arcgeo) (6.0.1)\n",
      "Requirement already satisfied: rfc3339-validator in c:\\users\\shabiha\\anaconda3\\envs\\geo\\lib\\site-packages (from jupyter-events>=0.9.0->jupyter-server<3,>=2.4.0->notebook>=4.4.1->widgetsnbextension~=3.6.6->ipywidgets<9,>=7.6.0->ipyleaflet->arcgeo) (0.1.4)\n",
      "Requirement already satisfied: rfc3986-validator>=0.1.1 in c:\\users\\shabiha\\anaconda3\\envs\\geo\\lib\\site-packages (from jupyter-events>=0.9.0->jupyter-server<3,>=2.4.0->notebook>=4.4.1->widgetsnbextension~=3.6.6->ipywidgets<9,>=7.6.0->ipyleaflet->arcgeo) (0.1.1)\n",
      "Requirement already satisfied: beautifulsoup4 in c:\\users\\shabiha\\anaconda3\\envs\\geo\\lib\\site-packages (from nbconvert>=6.4.4->jupyter-server<3,>=2.4.0->notebook>=4.4.1->widgetsnbextension~=3.6.6->ipywidgets<9,>=7.6.0->ipyleaflet->arcgeo) (4.12.3)\n",
      "Requirement already satisfied: bleach!=5.0.0 in c:\\users\\shabiha\\anaconda3\\envs\\geo\\lib\\site-packages (from nbconvert>=6.4.4->jupyter-server<3,>=2.4.0->notebook>=4.4.1->widgetsnbextension~=3.6.6->ipywidgets<9,>=7.6.0->ipyleaflet->arcgeo) (6.1.0)\n",
      "Requirement already satisfied: defusedxml in c:\\users\\shabiha\\anaconda3\\envs\\geo\\lib\\site-packages (from nbconvert>=6.4.4->jupyter-server<3,>=2.4.0->notebook>=4.4.1->widgetsnbextension~=3.6.6->ipywidgets<9,>=7.6.0->ipyleaflet->arcgeo) (0.7.1)\n",
      "Requirement already satisfied: jupyterlab-pygments in c:\\users\\shabiha\\anaconda3\\envs\\geo\\lib\\site-packages (from nbconvert>=6.4.4->jupyter-server<3,>=2.4.0->notebook>=4.4.1->widgetsnbextension~=3.6.6->ipywidgets<9,>=7.6.0->ipyleaflet->arcgeo) (0.3.0)\n",
      "Requirement already satisfied: mistune<4,>=2.0.3 in c:\\users\\shabiha\\anaconda3\\envs\\geo\\lib\\site-packages (from nbconvert>=6.4.4->jupyter-server<3,>=2.4.0->notebook>=4.4.1->widgetsnbextension~=3.6.6->ipywidgets<9,>=7.6.0->ipyleaflet->arcgeo) (3.0.2)\n",
      "Requirement already satisfied: nbclient>=0.5.0 in c:\\users\\shabiha\\anaconda3\\envs\\geo\\lib\\site-packages (from nbconvert>=6.4.4->jupyter-server<3,>=2.4.0->notebook>=4.4.1->widgetsnbextension~=3.6.6->ipywidgets<9,>=7.6.0->ipyleaflet->arcgeo) (0.9.0)\n",
      "Requirement already satisfied: pandocfilters>=1.4.1 in c:\\users\\shabiha\\anaconda3\\envs\\geo\\lib\\site-packages (from nbconvert>=6.4.4->jupyter-server<3,>=2.4.0->notebook>=4.4.1->widgetsnbextension~=3.6.6->ipywidgets<9,>=7.6.0->ipyleaflet->arcgeo) (1.5.1)\n",
      "Requirement already satisfied: tinycss2 in c:\\users\\shabiha\\anaconda3\\envs\\geo\\lib\\site-packages (from nbconvert>=6.4.4->jupyter-server<3,>=2.4.0->notebook>=4.4.1->widgetsnbextension~=3.6.6->ipywidgets<9,>=7.6.0->ipyleaflet->arcgeo) (1.2.1)\n",
      "Requirement already satisfied: fastjsonschema in c:\\users\\shabiha\\anaconda3\\envs\\geo\\lib\\site-packages (from nbformat>=5.3.0->jupyter-server<3,>=2.4.0->notebook>=4.4.1->widgetsnbextension~=3.6.6->ipywidgets<9,>=7.6.0->ipyleaflet->arcgeo) (2.19.1)\n",
      "Requirement already satisfied: charset-normalizer<4,>=2 in c:\\users\\shabiha\\anaconda3\\envs\\geo\\lib\\site-packages (from requests>=2.31->jupyterlab-server<3,>=2.22.1->notebook>=4.4.1->widgetsnbextension~=3.6.6->ipywidgets<9,>=7.6.0->ipyleaflet->arcgeo) (3.3.2)\n",
      "Requirement already satisfied: urllib3<3,>=1.21.1 in c:\\users\\shabiha\\anaconda3\\envs\\geo\\lib\\site-packages (from requests>=2.31->jupyterlab-server<3,>=2.22.1->notebook>=4.4.1->widgetsnbextension~=3.6.6->ipywidgets<9,>=7.6.0->ipyleaflet->arcgeo) (2.0.7)\n",
      "Requirement already satisfied: certifi>=2017.4.17 in c:\\users\\shabiha\\anaconda3\\envs\\geo\\lib\\site-packages (from requests>=2.31->jupyterlab-server<3,>=2.22.1->notebook>=4.4.1->widgetsnbextension~=3.6.6->ipywidgets<9,>=7.6.0->ipyleaflet->arcgeo) (2024.2.2)\n",
      "Requirement already satisfied: argon2-cffi-bindings in c:\\users\\shabiha\\anaconda3\\envs\\geo\\lib\\site-packages (from argon2-cffi->jupyter-server<3,>=2.4.0->notebook>=4.4.1->widgetsnbextension~=3.6.6->ipywidgets<9,>=7.6.0->ipyleaflet->arcgeo) (21.2.0)\n",
      "Requirement already satisfied: debugpy>=1.6.5 in c:\\users\\shabiha\\anaconda3\\envs\\geo\\lib\\site-packages (from ipykernel->jupyterlab<5,>=4.0.2->notebook>=4.4.1->widgetsnbextension~=3.6.6->ipywidgets<9,>=7.6.0->ipyleaflet->arcgeo) (1.8.0)\n",
      "Requirement already satisfied: nest-asyncio in c:\\users\\shabiha\\anaconda3\\envs\\geo\\lib\\site-packages (from ipykernel->jupyterlab<5,>=4.0.2->notebook>=4.4.1->widgetsnbextension~=3.6.6->ipywidgets<9,>=7.6.0->ipyleaflet->arcgeo) (1.6.0)\n",
      "Requirement already satisfied: psutil in c:\\users\\shabiha\\anaconda3\\envs\\geo\\lib\\site-packages (from ipykernel->jupyterlab<5,>=4.0.2->notebook>=4.4.1->widgetsnbextension~=3.6.6->ipywidgets<9,>=7.6.0->ipyleaflet->arcgeo) (5.9.8)\n",
      "Requirement already satisfied: webencodings in c:\\users\\shabiha\\anaconda3\\envs\\geo\\lib\\site-packages (from bleach!=5.0.0->nbconvert>=6.4.4->jupyter-server<3,>=2.4.0->notebook>=4.4.1->widgetsnbextension~=3.6.6->ipywidgets<9,>=7.6.0->ipyleaflet->arcgeo) (0.5.1)\n",
      "Requirement already satisfied: fqdn in c:\\users\\shabiha\\anaconda3\\envs\\geo\\lib\\site-packages (from jsonschema[format-nongpl]>=4.18.0->jupyter-events>=0.9.0->jupyter-server<3,>=2.4.0->notebook>=4.4.1->widgetsnbextension~=3.6.6->ipywidgets<9,>=7.6.0->ipyleaflet->arcgeo) (1.5.1)\n",
      "Requirement already satisfied: isoduration in c:\\users\\shabiha\\anaconda3\\envs\\geo\\lib\\site-packages (from jsonschema[format-nongpl]>=4.18.0->jupyter-events>=0.9.0->jupyter-server<3,>=2.4.0->notebook>=4.4.1->widgetsnbextension~=3.6.6->ipywidgets<9,>=7.6.0->ipyleaflet->arcgeo) (20.11.0)\n",
      "Requirement already satisfied: jsonpointer>1.13 in c:\\users\\shabiha\\anaconda3\\envs\\geo\\lib\\site-packages (from jsonschema[format-nongpl]>=4.18.0->jupyter-events>=0.9.0->jupyter-server<3,>=2.4.0->notebook>=4.4.1->widgetsnbextension~=3.6.6->ipywidgets<9,>=7.6.0->ipyleaflet->arcgeo) (2.4)\n",
      "Requirement already satisfied: uri-template in c:\\users\\shabiha\\anaconda3\\envs\\geo\\lib\\site-packages (from jsonschema[format-nongpl]>=4.18.0->jupyter-events>=0.9.0->jupyter-server<3,>=2.4.0->notebook>=4.4.1->widgetsnbextension~=3.6.6->ipywidgets<9,>=7.6.0->ipyleaflet->arcgeo) (1.3.0)\n",
      "Requirement already satisfied: webcolors>=1.11 in c:\\users\\shabiha\\anaconda3\\envs\\geo\\lib\\site-packages (from jsonschema[format-nongpl]>=4.18.0->jupyter-events>=0.9.0->jupyter-server<3,>=2.4.0->notebook>=4.4.1->widgetsnbextension~=3.6.6->ipywidgets<9,>=7.6.0->ipyleaflet->arcgeo) (1.13)\n",
      "Requirement already satisfied: cffi>=1.0.1 in c:\\users\\shabiha\\anaconda3\\envs\\geo\\lib\\site-packages (from argon2-cffi-bindings->argon2-cffi->jupyter-server<3,>=2.4.0->notebook>=4.4.1->widgetsnbextension~=3.6.6->ipywidgets<9,>=7.6.0->ipyleaflet->arcgeo) (1.16.0)\n",
      "Requirement already satisfied: soupsieve>1.2 in c:\\users\\shabiha\\anaconda3\\envs\\geo\\lib\\site-packages (from beautifulsoup4->nbconvert>=6.4.4->jupyter-server<3,>=2.4.0->notebook>=4.4.1->widgetsnbextension~=3.6.6->ipywidgets<9,>=7.6.0->ipyleaflet->arcgeo) (2.5)\n",
      "Requirement already satisfied: pycparser in c:\\users\\shabiha\\anaconda3\\envs\\geo\\lib\\site-packages (from cffi>=1.0.1->argon2-cffi-bindings->argon2-cffi->jupyter-server<3,>=2.4.0->notebook>=4.4.1->widgetsnbextension~=3.6.6->ipywidgets<9,>=7.6.0->ipyleaflet->arcgeo) (2.21)\n",
      "Requirement already satisfied: arrow>=0.15.0 in c:\\users\\shabiha\\anaconda3\\envs\\geo\\lib\\site-packages (from isoduration->jsonschema[format-nongpl]>=4.18.0->jupyter-events>=0.9.0->jupyter-server<3,>=2.4.0->notebook>=4.4.1->widgetsnbextension~=3.6.6->ipywidgets<9,>=7.6.0->ipyleaflet->arcgeo) (1.3.0)\n",
      "Requirement already satisfied: types-python-dateutil>=2.8.10 in c:\\users\\shabiha\\anaconda3\\envs\\geo\\lib\\site-packages (from arrow>=0.15.0->isoduration->jsonschema[format-nongpl]>=4.18.0->jupyter-events>=0.9.0->jupyter-server<3,>=2.4.0->notebook>=4.4.1->widgetsnbextension~=3.6.6->ipywidgets<9,>=7.6.0->ipyleaflet->arcgeo) (2.8.19.20240106)\n",
      "Note: you may need to restart the kernel to use updated packages.\n"
     ]
    }
   ],
   "source": [
    "pip install arcgeo"
   ]
  },
  {
   "cell_type": "code",
   "execution_count": 4,
   "metadata": {},
   "outputs": [],
   "source": [
    "import arcgeo"
   ]
  },
  {
   "cell_type": "code",
   "execution_count": 7,
   "metadata": {},
   "outputs": [
    {
     "ename": "ImportError",
     "evalue": "cannot import name 'Maps' from 'arcgeo' (c:\\Users\\Shabiha\\anaconda3\\envs\\geo\\Lib\\site-packages\\arcgeo\\__init__.py)",
     "output_type": "error",
     "traceback": [
      "\u001b[1;31m---------------------------------------------------------------------------\u001b[0m",
      "\u001b[1;31mImportError\u001b[0m                               Traceback (most recent call last)",
      "Cell \u001b[1;32mIn[7], line 1\u001b[0m\n\u001b[1;32m----> 1\u001b[0m \u001b[38;5;28;01mfrom\u001b[39;00m \u001b[38;5;21;01marcgeo\u001b[39;00m \u001b[38;5;28;01mimport\u001b[39;00m Maps\n",
      "\u001b[1;31mImportError\u001b[0m: cannot import name 'Maps' from 'arcgeo' (c:\\Users\\Shabiha\\anaconda3\\envs\\geo\\Lib\\site-packages\\arcgeo\\__init__.py)"
     ]
    }
   ],
   "source": [
    "from arcgeo import Maps"
   ]
  },
  {
   "cell_type": "code",
   "execution_count": 6,
   "metadata": {},
   "outputs": [
    {
     "data": {
      "application/vnd.jupyter.widget-view+json": {
       "model_id": "58e93a4779854b7f87d004142ee790d4",
       "version_major": 2,
       "version_minor": 0
      },
      "text/plain": [
       "Map(center=[20, 0], controls=(ZoomControl(options=['position', 'zoom_in_text', 'zoom_in_title', 'zoom_out_text…"
      ]
     },
     "metadata": {},
     "output_type": "display_data"
    }
   ],
   "source": [
    "m = geohey.Map()\n",
    "m"
   ]
  }
 ],
 "metadata": {
  "kernelspec": {
   "display_name": "geo",
   "language": "python",
   "name": "geo"
  },
  "language_info": {
   "codemirror_mode": {
    "name": "ipython",
    "version": 3
   },
   "file_extension": ".py",
   "mimetype": "text/x-python",
   "name": "python",
   "nbconvert_exporter": "python",
   "pygments_lexer": "ipython3",
   "version": "3.11.7"
  }
 },
 "nbformat": 4,
 "nbformat_minor": 2
}
