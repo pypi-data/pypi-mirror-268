{
 "cells": [
  {
   "cell_type": "code",
   "execution_count": 2,
   "id": "efbe309d-672e-40ab-a9cf-b86d641b638e",
   "metadata": {},
   "outputs": [
    {
     "ename": "AttributeError",
     "evalue": "module 'stav' has no attribute 'METRICS_RECALL'",
     "output_type": "error",
     "traceback": [
      "\u001b[0;31m---------------------------------------------------------------------------\u001b[0m",
      "\u001b[0;31mAttributeError\u001b[0m                            Traceback (most recent call last)",
      "Cell \u001b[0;32mIn[2], line 7\u001b[0m\n\u001b[1;32m      2\u001b[0m \u001b[38;5;28;01mimport\u001b[39;00m \u001b[38;5;21;01mstav\u001b[39;00m\n\u001b[1;32m      4\u001b[0m mlflow\u001b[38;5;241m.\u001b[39mset_tracking_uri(uri\u001b[38;5;241m=\u001b[39m\u001b[38;5;124m\"\u001b[39m\u001b[38;5;124mhttp://localhost:8080\u001b[39m\u001b[38;5;124m\"\u001b[39m)\n\u001b[1;32m      6\u001b[0m metric_names \u001b[38;5;241m=\u001b[39m [\n\u001b[0;32m----> 7\u001b[0m     \u001b[43mstav\u001b[49m\u001b[38;5;241;43m.\u001b[39;49m\u001b[43mMETRICS_RECALL\u001b[49m,\n\u001b[1;32m      8\u001b[0m     stav\u001b[38;5;241m.\u001b[39mMETRICS_PRECISION,\n\u001b[1;32m      9\u001b[0m     stav\u001b[38;5;241m.\u001b[39mMETRICS_RMSE,\n\u001b[1;32m     10\u001b[0m ]\n\u001b[1;32m     12\u001b[0m mlflow\u001b[38;5;241m.\u001b[39mlog_param(stav\u001b[38;5;241m.\u001b[39mENERGY_CONSUMPTION, \u001b[38;5;124m\"\u001b[39m\u001b[38;5;124m3.3M GPU\u001b[39m\u001b[38;5;124m\"\u001b[39m)\n\u001b[1;32m     14\u001b[0m mlflow\u001b[38;5;241m.\u001b[39mlog_param(stav\u001b[38;5;241m.\u001b[39mAI_PROVIDER, \u001b[38;5;124m\"\u001b[39m\u001b[38;5;124mAcme Corporation\u001b[39m\u001b[38;5;124m\"\u001b[39m)\n",
      "\u001b[0;31mAttributeError\u001b[0m: module 'stav' has no attribute 'METRICS_RECALL'"
     ]
    }
   ],
   "source": [
    "import mlflow\n",
    "import stav\n",
    "\n",
    "mlflow.set_tracking_uri(uri=\"http://localhost:8080\")\n",
    "\n",
    "metric_names = [\n",
    "    stav.METRICS_RECALL,\n",
    "    stav.METRICS_PRECISION,\n",
    "    stav.METRICS_RMSE,\n",
    "]\n",
    "\n",
    "mlflow.log_param(stav.ENERGY_CONSUMPTION, \"3.3M GPU\")\n",
    "\n",
    "mlflow.log_param(stav.AI_PROVIDER, \"Acme Corporation\")\n",
    "mlflow.log_param(stav.AI_DEPLOYER, \"Sirius Cybernetics\")\n",
    "mlflow.log_artifact(\"use_intructions.txt\", artifact_path=stav.INSTRUCTIONS_OF_USE)"
   ]
  },
  {
   "cell_type": "code",
   "execution_count": null,
   "id": "3e6f2646-46a5-4b15-8cd3-30f1ff649952",
   "metadata": {},
   "outputs": [],
   "source": [
    "stav."
   ]
  }
 ],
 "metadata": {
  "kernelspec": {
   "display_name": "Python 3 (ipykernel)",
   "language": "python",
   "name": "python3"
  },
  "language_info": {
   "codemirror_mode": {
    "name": "ipython",
    "version": 3
   },
   "file_extension": ".py",
   "mimetype": "text/x-python",
   "name": "python",
   "nbconvert_exporter": "python",
   "pygments_lexer": "ipython3",
   "version": "3.11.7"
  }
 },
 "nbformat": 4,
 "nbformat_minor": 5
}
