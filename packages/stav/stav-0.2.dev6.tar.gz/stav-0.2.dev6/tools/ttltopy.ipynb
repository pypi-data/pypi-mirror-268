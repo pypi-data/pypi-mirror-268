{
 "cells": [
  {
   "cell_type": "code",
   "execution_count": null,
   "id": "7b849b8c-8496-4fa2-9eb0-aa7914783250",
   "metadata": {},
   "outputs": [
    {
     "data": {
      "text/plain": [
       "<Graph identifier=N29f4a121c1da4e53a6f4627f731ff508 (<class 'rdflib.graph.Graph'>)>"
      ]
     },
     "execution_count": 1,
     "metadata": {},
     "output_type": "execute_result"
    }
   ],
   "source": [
    "# SPDX-FileCopyrightText: 2023 Arthit Suriyawongkul <suriyawa@tcd.ie>\n",
    "# SPDX-License-Identifier: MIT\n",
    "\n",
    "\"\"\"\n",
    "Convert Turlte to Python\n",
    "\"\"\"\n",
    "\n",
    "from rdflib import Graph\n",
    "from urllib.parse import urlparse\n",
    "#import reflection\n",
    "import re\n",
    "\n",
    "_camel_pattern1 = re.compile(r'(.)([A-Z][a-z]+)')\n",
    "_camel_pattern2 = re.compile(r'([a-z0-9])([A-Z])')\n",
    "\n",
    "def camel_to_snake(name: str) -> str:\n",
    "    name = _camel_pattern1.sub(r'\\1_\\2', name)\n",
    "    name = _camel_pattern2.sub(r'\\1_\\2', name)\n",
    "    return name\n",
    "\n",
    "def camel_to_snake_upper(name: str) -> str:\n",
    "    name = camel_to_snake(name).upper()\n",
    "    return name\n",
    "\n",
    "\n",
    "g = Graph()\n",
    "\n",
    "g.parse(\"stav.ttl\")"
   ]
  },
  {
   "cell_type": "code",
   "execution_count": 2,
   "id": "dd1fafc3-8b7f-4f1a-bfbb-8c5bf81c21cf",
   "metadata": {},
   "outputs": [
    {
     "name": "stdout",
     "output_type": "stream",
     "text": [
      "Graph g has 150 statements.\n"
     ]
    }
   ],
   "source": [
    "print(f\"Graph g has {len(g)} statements.\")"
   ]
  },
  {
   "cell_type": "code",
   "execution_count": 3,
   "id": "15c9361b-ad89-474b-b133-0f052ef859a4",
   "metadata": {},
   "outputs": [],
   "source": [
    "class_names = set()\n",
    "\n",
    "for subj, pred, obj in g:\n",
    "    class_name = urlparse(subj).fragment\n",
    "    if class_name:\n",
    "        class_names.add(class_name)"
   ]
  },
  {
   "cell_type": "code",
   "execution_count": 4,
   "id": "a9318a8d-ee04-4965-aa92-1e97362307d7",
   "metadata": {},
   "outputs": [
    {
     "data": {
      "text/plain": [
       "{'AIDeployer',\n",
       " 'AIProvider',\n",
       " 'BaselineProcessDescription',\n",
       " 'ConsumerRightsEvaluationInformation',\n",
       " 'CurrentAndPotentialFutureImpacts',\n",
       " 'DataMinimizationPractices',\n",
       " 'ImpactAssessmentDocumentation',\n",
       " 'InformationCreationObligation',\n",
       " 'InformationSecurityMeasures',\n",
       " 'InformationSubmissionObligation',\n",
       " 'InstallationInstructions',\n",
       " 'InstructionsOfUse',\n",
       " 'IntendedBenefitsOverPreviouslyExistingProcess',\n",
       " 'IntendedPurposes',\n",
       " 'Log',\n",
       " 'MakingAvailableOnTheMarket',\n",
       " 'MarketSurveillenceAuthority',\n",
       " 'PlacingOnTheMarket',\n",
       " 'PreviouslyExistingProcessDocumentation',\n",
       " 'PreviouslyExistingProcessEvaluationDocumentation',\n",
       " 'PreviouslyExistingProcessKnownNegativeImpactInformation',\n",
       " 'PrivacyRisksAndPrivacyMeasuresEvaluationDocumentation',\n",
       " 'PuttingIntoService',\n",
       " 'QualityManagementSystemDocumentationObligation',\n",
       " 'RegisterationObligation',\n",
       " 'SystemEvaluationDocumentation',\n",
       " 'SystemGeneralDescription',\n",
       " 'TechnicalDocumentation',\n",
       " 'TechnicalDocumentationObligation'}"
      ]
     },
     "execution_count": 4,
     "metadata": {},
     "output_type": "execute_result"
    }
   ],
   "source": [
    "class_names"
   ]
  },
  {
   "cell_type": "code",
   "execution_count": 5,
   "id": "c85d8e8f-6d52-4641-bdc9-1257a24cc2ab",
   "metadata": {},
   "outputs": [
    {
     "name": "stdout",
     "output_type": "stream",
     "text": [
      "AI_PROVIDER = \"AIProvider\"\n",
      "PREVIOUSLY_EXISTING_PROCESS_EVALUATION_DOCUMENTATION = \"PreviouslyExistingProcessEvaluationDocumentation\"\n",
      "TECHNICAL_DOCUMENTATION_OBLIGATION = \"TechnicalDocumentationObligation\"\n",
      "BASELINE_PROCESS_DESCRIPTION = \"BaselineProcessDescription\"\n",
      "INSTRUCTIONS_OF_USE = \"InstructionsOfUse\"\n",
      "MAKING_AVAILABLE_ON_THE_MARKET = \"MakingAvailableOnTheMarket\"\n",
      "MARKET_SURVEILLENCE_AUTHORITY = \"MarketSurveillenceAuthority\"\n",
      "SYSTEM_GENERAL_DESCRIPTION = \"SystemGeneralDescription\"\n",
      "CURRENT_AND_POTENTIAL_FUTURE_IMPACTS = \"CurrentAndPotentialFutureImpacts\"\n",
      "TECHNICAL_DOCUMENTATION = \"TechnicalDocumentation\"\n",
      "QUALITY_MANAGEMENT_SYSTEM_DOCUMENTATION_OBLIGATION = \"QualityManagementSystemDocumentationObligation\"\n",
      "PUTTING_INTO_SERVICE = \"PuttingIntoService\"\n",
      "INTENDED_PURPOSES = \"IntendedPurposes\"\n",
      "DATA_MINIMIZATION_PRACTICES = \"DataMinimizationPractices\"\n",
      "PRIVACY_RISKS_AND_PRIVACY_MEASURES_EVALUATION_DOCUMENTATION = \"PrivacyRisksAndPrivacyMeasuresEvaluationDocumentation\"\n",
      "PLACING_ON_THE_MARKET = \"PlacingOnTheMarket\"\n",
      "INSTALLATION_INSTRUCTIONS = \"InstallationInstructions\"\n",
      "SYSTEM_EVALUATION_DOCUMENTATION = \"SystemEvaluationDocumentation\"\n",
      "PREVIOUSLY_EXISTING_PROCESS_KNOWN_NEGATIVE_IMPACT_INFORMATION = \"PreviouslyExistingProcessKnownNegativeImpactInformation\"\n",
      "PREVIOUSLY_EXISTING_PROCESS_DOCUMENTATION = \"PreviouslyExistingProcessDocumentation\"\n",
      "CONSUMER_RIGHTS_EVALUATION_INFORMATION = \"ConsumerRightsEvaluationInformation\"\n",
      "INFORMATION_CREATION_OBLIGATION = \"InformationCreationObligation\"\n",
      "AI_DEPLOYER = \"AIDeployer\"\n",
      "IMPACT_ASSESSMENT_DOCUMENTATION = \"ImpactAssessmentDocumentation\"\n",
      "INTENDED_BENEFITS_OVER_PREVIOUSLY_EXISTING_PROCESS = \"IntendedBenefitsOverPreviouslyExistingProcess\"\n",
      "INFORMATION_SUBMISSION_OBLIGATION = \"InformationSubmissionObligation\"\n",
      "LOG = \"Log\"\n",
      "INFORMATION_SECURITY_MEASURES = \"InformationSecurityMeasures\"\n",
      "REGISTERATION_OBLIGATION = \"RegisterationObligation\"\n",
      "\n",
      "__all__ = [\n",
      "\"AI_PROVIDER\",\n",
      "\"PREVIOUSLY_EXISTING_PROCESS_EVALUATION_DOCUMENTATION\",\n",
      "\"TECHNICAL_DOCUMENTATION_OBLIGATION\",\n",
      "\"BASELINE_PROCESS_DESCRIPTION\",\n",
      "\"INSTRUCTIONS_OF_USE\",\n",
      "\"MAKING_AVAILABLE_ON_THE_MARKET\",\n",
      "\"MARKET_SURVEILLENCE_AUTHORITY\",\n",
      "\"SYSTEM_GENERAL_DESCRIPTION\",\n",
      "\"CURRENT_AND_POTENTIAL_FUTURE_IMPACTS\",\n",
      "\"TECHNICAL_DOCUMENTATION\",\n",
      "\"QUALITY_MANAGEMENT_SYSTEM_DOCUMENTATION_OBLIGATION\",\n",
      "\"PUTTING_INTO_SERVICE\",\n",
      "\"INTENDED_PURPOSES\",\n",
      "\"DATA_MINIMIZATION_PRACTICES\",\n",
      "\"PRIVACY_RISKS_AND_PRIVACY_MEASURES_EVALUATION_DOCUMENTATION\",\n",
      "\"PLACING_ON_THE_MARKET\",\n",
      "\"INSTALLATION_INSTRUCTIONS\",\n",
      "\"SYSTEM_EVALUATION_DOCUMENTATION\",\n",
      "\"PREVIOUSLY_EXISTING_PROCESS_KNOWN_NEGATIVE_IMPACT_INFORMATION\",\n",
      "\"PREVIOUSLY_EXISTING_PROCESS_DOCUMENTATION\",\n",
      "\"CONSUMER_RIGHTS_EVALUATION_INFORMATION\",\n",
      "\"INFORMATION_CREATION_OBLIGATION\",\n",
      "\"AI_DEPLOYER\",\n",
      "\"IMPACT_ASSESSMENT_DOCUMENTATION\",\n",
      "\"INTENDED_BENEFITS_OVER_PREVIOUSLY_EXISTING_PROCESS\",\n",
      "\"INFORMATION_SUBMISSION_OBLIGATION\",\n",
      "\"LOG\",\n",
      "\"INFORMATION_SECURITY_MEASURES\",\n",
      "\"REGISTERATION_OBLIGATION\",\n",
      "]\n"
     ]
    }
   ],
   "source": [
    "for class_name in class_names:\n",
    "    print(f\"{camel_to_snake(class_name)} = \\\"{class_name}\\\"\")\n",
    "\n",
    "print()\n",
    "print(\"__all__ = [\")\n",
    "for class_name in class_names:\n",
    "    print(f\"\\\"{camel_to_snake_upper(class_name)}\\\",\")\n",
    "print(\"]\")"
   ]
  },
  {
   "cell_type": "code",
   "execution_count": 1,
   "id": "2f299ad6-a8b1-4c50-8f8e-6bf3da4ef868",
   "metadata": {},
   "outputs": [],
   "source": [
    "import stav"
   ]
  },
  {
   "cell_type": "code",
   "execution_count": 2,
   "id": "b3279b12-ee3f-4028-9a9f-760c31c21058",
   "metadata": {},
   "outputs": [
    {
     "data": {
      "text/plain": [
       "'AIProvider'"
      ]
     },
     "execution_count": 2,
     "metadata": {},
     "output_type": "execute_result"
    }
   ],
   "source": [
    "stav.AI_PROVIDER"
   ]
  },
  {
   "cell_type": "code",
   "execution_count": null,
   "id": "a18ece2c-d9a4-4808-ae17-047ff0d8da09",
   "metadata": {},
   "outputs": [],
   "source": []
  }
 ],
 "metadata": {
  "kernelspec": {
   "display_name": "Python 3 (ipykernel)",
   "language": "python",
   "name": "python3"
  },
  "language_info": {
   "codemirror_mode": {
    "name": "ipython",
    "version": 3
   },
   "file_extension": ".py",
   "mimetype": "text/x-python",
   "name": "python",
   "nbconvert_exporter": "python",
   "pygments_lexer": "ipython3",
   "version": "3.11.6"
  }
 },
 "nbformat": 4,
 "nbformat_minor": 5
}
