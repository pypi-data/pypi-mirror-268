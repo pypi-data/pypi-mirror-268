{
 "cells": [
  {
   "cell_type": "code",
   "execution_count": 4,
   "id": "efbe309d-672e-40ab-a9cf-b86d641b638e",
   "metadata": {},
   "outputs": [
    {
     "data": {
      "text/plain": [
       "'Sirius Cybernetics'"
      ]
     },
     "execution_count": 4,
     "metadata": {},
     "output_type": "execute_result"
    }
   ],
   "source": [
    "import mlflow\n",
    "import stav\n",
    "\n",
    "mlflow.set_tracking_uri(uri=\"http://localhost:8080\")\n",
    "\n",
    "metric_names = [\n",
    "    stav.METRICS_RECALL,\n",
    "    stav.METRICS_PRECISION,\n",
    "    stav.METRICS_RMSE,\n",
    "    stav.METRICS_ENERGY\n",
    "]\n",
    "\n",
    "mlflow.log_param(stav.ENERGY_CONSUMPTION, \"3.3M GPU\")\n",
    "\n",
    "mlflow.log_param(stav.AI_PROVIDER, \"Acme Corporation\")\n",
    "mlflow.log_param(stav.AI_DEPLOYER, \"Sirius Cybernetics\")"
   ]
  },
  {
   "cell_type": "code",
   "execution_count": null,
   "id": "3e6f2646-46a5-4b15-8cd3-30f1ff649952",
   "metadata": {},
   "outputs": [],
   "source": []
  }
 ],
 "metadata": {
  "kernelspec": {
   "display_name": "Python 3 (ipykernel)",
   "language": "python",
   "name": "python3"
  },
  "language_info": {
   "codemirror_mode": {
    "name": "ipython",
    "version": 3
   },
   "file_extension": ".py",
   "mimetype": "text/x-python",
   "name": "python",
   "nbconvert_exporter": "python",
   "pygments_lexer": "ipython3",
   "version": "3.11.7"
  }
 },
 "nbformat": 4,
 "nbformat_minor": 5
}
