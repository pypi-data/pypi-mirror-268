{
 "cells": [
  {
   "cell_type": "code",
   "execution_count": 1,
   "id": "4523d84a-83d9-4fa3-b547-8874b5d9a369",
   "metadata": {},
   "outputs": [],
   "source": [
    "#!pip install --pre --upgrade stav"
   ]
  },
  {
   "cell_type": "code",
   "execution_count": 2,
   "id": "168910a5-263b-4de0-955c-5f92e8d7529a",
   "metadata": {},
   "outputs": [
    {
     "name": "stderr",
     "output_type": "stream",
     "text": [
      "Registered model 'tracking-quickstart' already exists. Creating a new version of this model...\n",
      "2024/04/16 12:48:38 INFO mlflow.store.model_registry.abstract_store: Waiting up to 300 seconds for model version to finish creation. Model name: tracking-quickstart, version 3\n",
      "Created version '3' of model 'tracking-quickstart'.\n"
     ]
    }
   ],
   "source": [
    "# Training code from\n",
    "# https://mlflow.org/docs/latest/getting-started/intro-quickstart/index.html\n",
    "\n",
    "import mlflow\n",
    "from mlflow.models import infer_signature\n",
    "\n",
    "import pandas as pd\n",
    "from sklearn import datasets\n",
    "from sklearn.model_selection import train_test_split\n",
    "from sklearn.linear_model import LogisticRegression\n",
    "from sklearn.metrics import accuracy_score, precision_score, recall_score, f1_score\n",
    "\n",
    "import stav\n",
    "\n",
    "mlflow.set_tracking_uri(uri=\"http://localhost:8080\")\n",
    "\n",
    "# Load the Iris dataset\n",
    "X, y = datasets.load_iris(return_X_y=True)\n",
    "\n",
    "# Split the data into training and test sets\n",
    "X_train, X_test, y_train, y_test = train_test_split(\n",
    "    X, y, test_size=0.2, random_state=42\n",
    ")\n",
    "\n",
    "# Define the model hyperparameters\n",
    "params = {\n",
    "    \"solver\": \"lbfgs\",\n",
    "    \"max_iter\": 1000,\n",
    "    \"multi_class\": \"auto\",\n",
    "    \"random_state\": 8888,\n",
    "}\n",
    "\n",
    "# Train the model\n",
    "lr = LogisticRegression(**params)\n",
    "lr.fit(X_train, y_train)\n",
    "\n",
    "# Predict on the test set\n",
    "y_pred = lr.predict(X_test)\n",
    "\n",
    "# Calculate metrics\n",
    "accuracy = accuracy_score(y_test, y_pred)\n",
    "\n",
    "with mlflow.start_run():\n",
    "    mlflow.set_tag(stav.INFO_TRAINING, \"Basic LR model for iris data\")\n",
    "    mlflow.set_tag(stav.AI_PROVIDER, \"Acme Corporation\")\n",
    "    mlflow.set_tag(stav.AI_DEPLOYER, \"Sirius Cybernetics\")\n",
    "    mlflow.set_tag(stav.AUTONOMY_TYPE, \"No\")\n",
    "    mlflow.set_tag(stav.USE_SENSITIVE_PERSONAL_INFO, \"No\")\n",
    "    mlflow.set_tag(stav.HYPERPARAMETER, params)\n",
    "    mlflow.log_params(params)\n",
    "\n",
    "    mlflow.log_metric(stav.METRICS_ACCURACY, accuracy)\n",
    "\n",
    "    # Infer the model signature\n",
    "    signature = infer_signature(X_train, lr.predict(X_train))\n",
    "\n",
    "    # Log the model\n",
    "    model_info = mlflow.sklearn.log_model(\n",
    "        sk_model=lr,\n",
    "        artifact_path=\"iris_model\",\n",
    "        signature=signature,\n",
    "        input_example=X_train,\n",
    "        registered_model_name=\"tracking-quickstart\",\n",
    "    )"
   ]
  },
  {
   "cell_type": "code",
   "execution_count": null,
   "id": "89dad25c-130c-45ad-8d1f-f6b3757216d2",
   "metadata": {},
   "outputs": [],
   "source": []
  }
 ],
 "metadata": {
  "kernelspec": {
   "display_name": "Python 3 (ipykernel)",
   "language": "python",
   "name": "python3"
  },
  "language_info": {
   "codemirror_mode": {
    "name": "ipython",
    "version": 3
   },
   "file_extension": ".py",
   "mimetype": "text/x-python",
   "name": "python",
   "nbconvert_exporter": "python",
   "pygments_lexer": "ipython3",
   "version": "3.11.7"
  }
 },
 "nbformat": 4,
 "nbformat_minor": 5
}
