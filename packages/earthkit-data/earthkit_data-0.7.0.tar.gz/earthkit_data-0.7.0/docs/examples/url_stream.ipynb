{
 "cells": [
  {
   "cell_type": "markdown",
   "id": "d3575125-5f56-43e9-8080-4094cf309c31",
   "metadata": {
    "editable": true,
    "raw_mimetype": "",
    "slideshow": {
     "slide_type": ""
    },
    "tags": []
   },
   "source": [
    "## Reading data from URLs as a stream"
   ]
  },
  {
   "cell_type": "code",
   "execution_count": 1,
   "id": "c23ffb07-747c-4535-b608-66b080d6d4e5",
   "metadata": {
    "editable": true,
    "slideshow": {
     "slide_type": ""
    },
    "tags": []
   },
   "outputs": [],
   "source": [
    "import earthkit.data"
   ]
  },
  {
   "cell_type": "raw",
   "id": "e55b54da-4011-442e-99e8-9d1c82773d31",
   "metadata": {
    "editable": true,
    "raw_mimetype": "text/restructuredtext",
    "slideshow": {
     "slide_type": ""
    },
    "tags": []
   },
   "source": [
    "earthkit-data can read GRIB data from a URL as a stream without writing anything to disk. This can be activated with the **stream=True** kwarg when calling :ref:`from_source() <data-sources-url>`."
   ]
  },
  {
   "cell_type": "code",
   "execution_count": 2,
   "id": "1d2b07e3-1820-45ec-88d5-c78765533735",
   "metadata": {
    "editable": true,
    "slideshow": {
     "slide_type": ""
    },
    "tags": []
   },
   "outputs": [],
   "source": [
    "ds = earthkit.data.from_source(\"url\", \n",
    "                       \"https://get.ecmwf.int/repository/test-data/earthkit-data/examples/test4.grib\", \n",
    "                        stream=True)"
   ]
  },
  {
   "cell_type": "code",
   "execution_count": 6,
   "id": "51964579-bf3f-4948-918d-fcd35581950e",
   "metadata": {},
   "outputs": [],
   "source": [
    "for f in ds:\n",
    "    # f is GribField object. It gets deleted when going out of scope\n",
    "    print(f)"
   ]
  },
  {
   "cell_type": "markdown",
   "id": "7f595ec8-008f-4198-8a3a-f8346fbfe09c",
   "metadata": {},
   "source": [
    "### Stream options"
   ]
  },
  {
   "cell_type": "raw",
   "id": "328b1d7b-500d-4014-8346-b6d47c40ee86",
   "metadata": {
    "editable": true,
    "raw_mimetype": "text/restructuredtext",
    "slideshow": {
     "slide_type": ""
    },
    "tags": []
   },
   "source": [
    "To control how the stream is read use :ref:`batch_size <data-sources-url>` and :ref:`group_by <data-sources-url>`. E.g. the following code reads the GRIB data in messages of 2."
   ]
  },
  {
   "cell_type": "code",
   "execution_count": 4,
   "id": "b7c9a685-6b38-4236-ae74-a14445e8bb95",
   "metadata": {
    "editable": true,
    "slideshow": {
     "slide_type": ""
    },
    "tags": []
   },
   "outputs": [
    {
     "name": "stdout",
     "output_type": "stream",
     "text": [
      "len=2\n",
      " GribField(t,500,20070101,1200,0,0)\n",
      " GribField(z,500,20070101,1200,0,0)\n",
      "len=2\n",
      " GribField(t,850,20070101,1200,0,0)\n",
      " GribField(z,850,20070101,1200,0,0)\n"
     ]
    }
   ],
   "source": [
    "ds = earthkit.data.from_source(\"url\", \n",
    "                       \"https://get.ecmwf.int/repository/test-data/earthkit-data/examples/test4.grib\", \n",
    "                        stream=True, batch_size=2)\n",
    "\n",
    "for f in ds:\n",
    "    # f is a fieldlist\n",
    "    print(f\"len={len(f)}\")\n",
    "    for g in f:\n",
    "        print(f\" {g}\")"
   ]
  },
  {
   "cell_type": "markdown",
   "id": "cb7d74b5-73e0-4e57-9d80-e45a9dc725d8",
   "metadata": {
    "editable": true,
    "slideshow": {
     "slide_type": ""
    },
    "tags": []
   },
   "source": [
    "### Multiple URLs"
   ]
  },
  {
   "cell_type": "markdown",
   "id": "6d5efce5-c9d0-4edf-a2cf-312ced9339b5",
   "metadata": {
    "editable": true,
    "slideshow": {
     "slide_type": ""
    },
    "tags": []
   },
   "source": [
    "The stream option works even when the input is a list of URLs."
   ]
  },
  {
   "cell_type": "code",
   "execution_count": 5,
   "id": "891af3e5-5aa5-451f-b7bb-a86eaf7c8ffe",
   "metadata": {},
   "outputs": [
    {
     "name": "stdout",
     "output_type": "stream",
     "text": [
      "len=3\n",
      " GribField(t,500,20070101,1200,0,0)\n",
      " GribField(z,500,20070101,1200,0,0)\n",
      " GribField(t,850,20070101,1200,0,0)\n",
      "len=3\n",
      " GribField(z,850,20070101,1200,0,0)\n",
      " GribField(t,1000,20180801,1200,0,0)\n",
      " GribField(u,1000,20180801,1200,0,0)\n",
      "len=3\n",
      " GribField(v,1000,20180801,1200,0,0)\n",
      " GribField(t,850,20180801,1200,0,0)\n",
      " GribField(u,850,20180801,1200,0,0)\n",
      "len=1\n",
      " GribField(v,850,20180801,1200,0,0)\n"
     ]
    }
   ],
   "source": [
    "ds = earthkit.data.from_source(\"url\", \n",
    "                       [\"https://get.ecmwf.int/repository/test-data/earthkit-data/examples/test4.grib\", \n",
    "                       \"https://get.ecmwf.int/repository/test-data/earthkit-data/examples/test6.grib\"], \n",
    "                        stream=True, batch_size=3)\n",
    "\n",
    "for f in ds:\n",
    "    # f is a fieldlist\n",
    "    print(f\"len={len(f)}\")\n",
    "    for g in f:\n",
    "        print(f\" {g}\")"
   ]
  },
  {
   "cell_type": "code",
   "execution_count": null,
   "id": "d287fb70-66fb-4b2f-8c07-a3cca7c3035d",
   "metadata": {},
   "outputs": [],
   "source": []
  }
 ],
 "metadata": {
  "kernelspec": {
   "display_name": "dev",
   "language": "python",
   "name": "dev"
  },
  "language_info": {
   "codemirror_mode": {
    "name": "ipython",
    "version": 3
   },
   "file_extension": ".py",
   "mimetype": "text/x-python",
   "name": "python",
   "nbconvert_exporter": "python",
   "pygments_lexer": "ipython3",
   "version": "3.10.13"
  }
 },
 "nbformat": 4,
 "nbformat_minor": 5
}
