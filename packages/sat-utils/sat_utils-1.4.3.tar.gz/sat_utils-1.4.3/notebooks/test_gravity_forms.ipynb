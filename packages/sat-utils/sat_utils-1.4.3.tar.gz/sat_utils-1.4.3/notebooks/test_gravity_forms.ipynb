{
 "cells": [
  {
   "cell_type": "code",
   "execution_count": 1,
   "id": "b1db26d3-9f3f-48b5-9880-1bf64c61bdac",
   "metadata": {
    "tags": []
   },
   "outputs": [],
   "source": [
    "import os, sys\n",
    "from pathlib import Path\n",
    "PROJECTPATH = '/home/jmgibso3/ncstate/projects/sat-utils/'\n",
    "sys.path.insert(0, PROJECTPATH)\n",
    "os.chdir(PROJECTPATH)"
   ]
  },
  {
   "cell_type": "code",
   "execution_count": 2,
   "id": "81212050-3259-4c17-9844-5d2230cfcce0",
   "metadata": {
    "tags": []
   },
   "outputs": [],
   "source": [
    "from urllib.parse import urlencode\n",
    "from sat import gravity_forms\n",
    "import json"
   ]
  },
  {
   "cell_type": "code",
   "execution_count": 3,
   "id": "1f4728d2-26b1-4cbb-b856-2e9b458b619d",
   "metadata": {
    "tags": []
   },
   "outputs": [],
   "source": [
    "gravity = gravity_forms.GravityForms()"
   ]
  },
  {
   "cell_type": "code",
   "execution_count": 4,
   "id": "fce9b5d2-d3ad-4f9e-b5ef-8ebc2743692f",
   "metadata": {
    "tags": []
   },
   "outputs": [
    {
     "ename": "TypeError",
     "evalue": "sat.gravity_forms.Form() argument after ** must be a mapping, not str",
     "output_type": "error",
     "traceback": [
      "\u001b[0;31m---------------------------------------------------------------------------\u001b[0m",
      "\u001b[0;31mTypeError\u001b[0m                                 Traceback (most recent call last)",
      "Cell \u001b[0;32mIn[4], line 1\u001b[0m\n\u001b[0;32m----> 1\u001b[0m form \u001b[38;5;241m=\u001b[39m \u001b[43mgravity\u001b[49m\u001b[38;5;241;43m.\u001b[39;49m\u001b[43mget_form\u001b[49m\u001b[43m(\u001b[49m\u001b[38;5;241;43m3\u001b[39;49m\u001b[43m)\u001b[49m\n\u001b[1;32m      2\u001b[0m form\n",
      "File \u001b[0;32m~/ncstate/projects/sat-utils/sat/gravity_forms.py:205\u001b[0m, in \u001b[0;36mGravityForms.get_form\u001b[0;34m(self, form_id)\u001b[0m\n\u001b[1;32m    198\u001b[0m \u001b[38;5;250m\u001b[39m\u001b[38;5;124;03m\"\"\"\u001b[39;00m\n\u001b[1;32m    199\u001b[0m \u001b[38;5;124;03mGets and returns a form.\u001b[39;00m\n\u001b[1;32m    200\u001b[0m \n\u001b[1;32m    201\u001b[0m \u001b[38;5;124;03mParameters:\u001b[39;00m\n\u001b[1;32m    202\u001b[0m \u001b[38;5;124;03m- form_id: The ID of the form.\u001b[39;00m\n\u001b[1;32m    203\u001b[0m \u001b[38;5;124;03m\"\"\"\u001b[39;00m\n\u001b[1;32m    204\u001b[0m response \u001b[38;5;241m=\u001b[39m \u001b[38;5;28mself\u001b[39m\u001b[38;5;241m.\u001b[39mget(\u001b[38;5;124mf\u001b[39m\u001b[38;5;124m\"\u001b[39m\u001b[38;5;124m/forms/\u001b[39m\u001b[38;5;132;01m{\u001b[39;00mform_id\u001b[38;5;132;01m}\u001b[39;00m\u001b[38;5;124m\"\u001b[39m)\n\u001b[0;32m--> 205\u001b[0m entry \u001b[38;5;241m=\u001b[39m Form(\u001b[38;5;241m*\u001b[39m\u001b[38;5;241m*\u001b[39mresponse)\n\u001b[1;32m    206\u001b[0m \u001b[38;5;28;01mreturn\u001b[39;00m entry\n",
      "\u001b[0;31mTypeError\u001b[0m: sat.gravity_forms.Form() argument after ** must be a mapping, not str"
     ]
    }
   ],
   "source": [
    "form = gravity.get_form(3)\n",
    "form"
   ]
  },
  {
   "cell_type": "code",
   "execution_count": 5,
   "id": "0b3e9de6-4170-4538-9e3b-d99d3ae2ceec",
   "metadata": {
    "tags": []
   },
   "outputs": [
    {
     "data": {
      "text/plain": [
       "[<sat.gravity_forms.Form at 0x7c38e8160f70>,\n",
       " <sat.gravity_forms.Form at 0x7c38e93f7b20>,\n",
       " <sat.gravity_forms.Form at 0x7c38e93f67d0>,\n",
       " <sat.gravity_forms.Form at 0x7c38e93f6950>,\n",
       " <sat.gravity_forms.Form at 0x7c38e93f7010>,\n",
       " <sat.gravity_forms.Form at 0x7c38e93f6b60>]"
      ]
     },
     "execution_count": 5,
     "metadata": {},
     "output_type": "execute_result"
    }
   ],
   "source": [
    "gravity.get_forms()"
   ]
  },
  {
   "cell_type": "code",
   "execution_count": 14,
   "id": "250b3874-8dcd-47d9-b321-41d767778bd9",
   "metadata": {
    "tags": []
   },
   "outputs": [],
   "source": [
    "sponsors = gravity.get_entries(form_id=2)\n",
    "cards = gravity.get_entries(form_id=3)"
   ]
  },
  {
   "cell_type": "code",
   "execution_count": 18,
   "id": "d6edf62e-0f57-4404-ba59-da841194bec1",
   "metadata": {
    "tags": []
   },
   "outputs": [
    {
     "data": {
      "text/plain": [
       "{'id': '20454',\n",
       " 'form_id': '2',\n",
       " 'created_by': '5757',\n",
       " 'date_created': '2024-02-28 13:14:08',\n",
       " 'date_updated': '2024-02-28 13:14:08',\n",
       " 'is_starred': '0',\n",
       " 'is_read': '0',\n",
       " 'ip': '152.1.166.139',\n",
       " 'source_url': 'https://onecard.ncsu.edu/get-card/card-request-form/',\n",
       " 'post_id': None,\n",
       " 'user_agent': 'Mozilla/5.0 (Windows NT 10.0; Win64; x64) AppleWebKit/537.36 (KHTML, like Gecko) Chrome/122.0.0.0 Safari/537.36',\n",
       " 'status': 'active',\n",
       " 'is_fulfilled': None,\n",
       " 'details': {'date_updated': '2024-02-28 13:14:08',\n",
       "  'currency': 'USD',\n",
       "  'payment_status': None,\n",
       "  'payment_date': None,\n",
       "  'payment_amount': None,\n",
       "  'payment_method': None,\n",
       "  'transaction_id': None,\n",
       "  'transaction_type': None,\n",
       "  '22': 'Kimberly Mahl',\n",
       "  '23': 'kkmahl',\n",
       "  '21': 'kkmahl@ncsu.edu',\n",
       "  '32': '20447,20448,20449,20450,20451,20452,20453',\n",
       "  '7': 'Corporate Partner',\n",
       "  '16': 'Osher Lifelong Learning Institute',\n",
       "  '17': '(919) 515-5782',\n",
       "  '18': 'olli_info@ncsu.edu',\n",
       "  '19': '',\n",
       "  '29': '',\n",
       "  '8': '',\n",
       "  '13': '',\n",
       "  '27': '',\n",
       "  '24': '',\n",
       "  '25': '',\n",
       "  '12': '',\n",
       "  '14': '',\n",
       "  '15': '',\n",
       "  '20': '',\n",
       "  '26': '',\n",
       "  '33': '',\n",
       "  '34': '',\n",
       "  '36': '',\n",
       "  'gpnf_entry_parent': False,\n",
       "  'gpnf_entry_parent_form': False,\n",
       "  'gpnf_entry_nested_form_field': False}}"
      ]
     },
     "execution_count": 18,
     "metadata": {},
     "output_type": "execute_result"
    }
   ],
   "source": [
    "sponsors[0].__dict__"
   ]
  },
  {
   "cell_type": "code",
   "execution_count": 19,
   "id": "a184a4f1-c213-4f66-92a5-0a05b158fbf4",
   "metadata": {
    "tags": []
   },
   "outputs": [
    {
     "data": {
      "text/plain": [
       "{'id': '20453',\n",
       " 'form_id': '3',\n",
       " 'created_by': '5757',\n",
       " 'date_created': '2024-02-28 13:13:19',\n",
       " 'date_updated': '2024-02-28 13:13:19',\n",
       " 'is_starred': '0',\n",
       " 'is_read': '0',\n",
       " 'ip': '152.1.166.139',\n",
       " 'source_url': 'https://onecard.ncsu.edu/get-card/card-request-form/',\n",
       " 'post_id': None,\n",
       " 'user_agent': 'Mozilla/5.0 (Windows NT 10.0; Win64; x64) AppleWebKit/537.36 (KHTML, like Gecko) Chrome/122.0.0.0 Safari/537.36',\n",
       " 'status': 'active',\n",
       " 'is_fulfilled': None,\n",
       " 'details': {'date_updated': '2024-02-28 13:13:19',\n",
       "  'currency': 'USD',\n",
       "  'payment_status': None,\n",
       "  'payment_date': None,\n",
       "  'payment_amount': None,\n",
       "  'payment_method': None,\n",
       "  'transaction_id': None,\n",
       "  'transaction_type': None,\n",
       "  '2.3': 'Christina',\n",
       "  '2.6': 'Harvey',\n",
       "  '3': 'cnharvey48@gmail.com',\n",
       "  '4': '100038329',\n",
       "  'gpnf_entry_parent': '20454',\n",
       "  'gpnf_entry_parent_form': '2',\n",
       "  'gpnf_entry_nested_form_field': '32',\n",
       "  '2.2': '',\n",
       "  '2.4': '',\n",
       "  '2.8': '',\n",
       "  '5': ''}}"
      ]
     },
     "execution_count": 19,
     "metadata": {},
     "output_type": "execute_result"
    }
   ],
   "source": [
    "cards[0].__dict__"
   ]
  },
  {
   "cell_type": "code",
   "execution_count": 20,
   "id": "58ab3076-2274-4fa8-9517-3baa3bc0053b",
   "metadata": {
    "tags": []
   },
   "outputs": [],
   "source": [
    "sponsor = gravity.get_entry('20454')"
   ]
  },
  {
   "cell_type": "code",
   "execution_count": 24,
   "id": "198abbfe-6d57-414c-b1cd-e1004a14f4d6",
   "metadata": {
    "tags": []
   },
   "outputs": [
    {
     "name": "stdout",
     "output_type": "stream",
     "text": [
      "Got page: 1 of 200 results.\n",
      "Got page: 2 of 200 results.\n",
      "Got page: 3 of 200 results.\n",
      "Got page: 4 of 200 results.\n",
      "Got page: 5 of 200 results.\n",
      "Got page: 6 of 200 results.\n",
      "Got page: 7 of 200 results.\n",
      "Got page: 8 of 200 results.\n",
      "Got page: 9 of 200 results.\n",
      "Got page: 10 of 200 results.\n",
      "Got page: 11 of 200 results.\n",
      "Got page: 12 of 200 results.\n",
      "Got page: 13 of 200 results.\n",
      "Got page: 14 of 200 results.\n",
      "Got page: 15 of 200 results.\n",
      "Got page: 16 of 200 results.\n",
      "Got page: 17 of 200 results.\n",
      "Got page: 18 of 200 results.\n",
      "Got page: 19 of 200 results.\n",
      "Got page: 20 of 200 results.\n",
      "Got page: 21 of 200 results.\n",
      "Got page: 22 of 200 results.\n",
      "Got page: 23 of 200 results.\n",
      "Got page: 24 of 200 results.\n",
      "Got page: 25 of 200 results.\n",
      "Got page: 26 of 200 results.\n",
      "Got page: 27 of 200 results.\n",
      "Got page: 28 of 200 results.\n",
      "Got page: 29 of 200 results.\n",
      "Got page: 30 of 200 results.\n",
      "Got page: 31 of 200 results.\n",
      "Got page: 32 of 200 results.\n",
      "Got page: 33 of 200 results.\n",
      "Got page: 34 of 200 results.\n",
      "Got page: 35 of 200 results.\n",
      "Got page: 36 of 200 results.\n",
      "Got page: 37 of 200 results.\n",
      "Got page: 38 of 200 results.\n",
      "Got page: 39 of 200 results.\n",
      "Got page: 40 of 200 results.\n",
      "Got page: 41 of 200 results.\n",
      "Got page: 42 of 200 results.\n",
      "Got page: 43 of 200 results.\n",
      "Got page: 44 of 200 results.\n",
      "Got page: 45 of 200 results.\n",
      "Got page: 46 of 200 results.\n",
      "Got page: 47 of 200 results.\n",
      "Got page: 48 of 200 results.\n",
      "Got page: 49 of 200 results.\n",
      "Got page: 50 of 200 results.\n",
      "Got page: 51 of 200 results.\n",
      "Got page: 52 of 150 results.\n",
      "Got page: 53 of 0 results.\n",
      "No more pages\n"
     ]
    }
   ],
   "source": [
    "count = 1\n",
    "while True:\n",
    "    ents = gravity.get_entries(page=count, page_size=200, form_id=3)\n",
    "    print(f\"Got page: {count} of {len(ents)} results.\")\n",
    "    if not ents:\n",
    "        print(\"No more pages\")\n",
    "        break\n",
    "    count += 1"
   ]
  },
  {
   "cell_type": "code",
   "execution_count": 4,
   "id": "f693a3cf-1b5d-46b3-bd1c-46af24722d4f",
   "metadata": {
    "tags": []
   },
   "outputs": [],
   "source": [
    "keys = [('23', 'kkmahl', '=')]"
   ]
  },
  {
   "cell_type": "code",
   "execution_count": 6,
   "id": "a49d9930-2427-483b-8206-e1d84f683bcf",
   "metadata": {
    "tags": []
   },
   "outputs": [
    {
     "data": {
      "text/plain": [
       "{'id': '20150',\n",
       " 'form_id': '2',\n",
       " 'created_by': '5757',\n",
       " 'date_created': '2024-02-09 13:18:20',\n",
       " 'date_updated': '2024-02-09 13:18:20',\n",
       " 'is_starred': '0',\n",
       " 'is_read': '0',\n",
       " 'ip': '152.1.166.139',\n",
       " 'source_url': 'https://onecard.ncsu.edu/get-card/card-request-form/',\n",
       " 'post_id': None,\n",
       " 'user_agent': 'Mozilla/5.0 (Windows NT 10.0; Win64; x64) AppleWebKit/537.36 (KHTML, like Gecko) Chrome/121.0.0.0 Safari/537.36',\n",
       " 'status': 'active',\n",
       " 'is_fulfilled': None,\n",
       " 'details': {'date_updated': '2024-02-09 13:18:20',\n",
       "  'currency': 'USD',\n",
       "  'payment_status': None,\n",
       "  'payment_date': None,\n",
       "  'payment_amount': None,\n",
       "  'payment_method': None,\n",
       "  'transaction_id': None,\n",
       "  'transaction_type': None,\n",
       "  '22': 'Kimberly Mahl',\n",
       "  '23': 'kkmahl',\n",
       "  '21': 'kkmahl@ncsu.edu',\n",
       "  '32': '20149',\n",
       "  '7': 'Corporate Partner',\n",
       "  '16': 'Osher Lifelong Learning Institute',\n",
       "  '17': '(919) 515-5782',\n",
       "  '18': 'olli_info@ncsu.edu',\n",
       "  '19': '',\n",
       "  '29': '',\n",
       "  '8': '',\n",
       "  '13': '',\n",
       "  '27': '',\n",
       "  '24': '',\n",
       "  '25': '',\n",
       "  '12': '',\n",
       "  '14': '',\n",
       "  '15': '',\n",
       "  '20': '',\n",
       "  '26': '',\n",
       "  '33': '',\n",
       "  '34': '',\n",
       "  '36': '',\n",
       "  'gpnf_entry_parent': False,\n",
       "  'gpnf_entry_parent_form': False,\n",
       "  'gpnf_entry_nested_form_field': False}}"
      ]
     },
     "execution_count": 6,
     "metadata": {},
     "output_type": "execute_result"
    }
   ],
   "source": [
    "filters = gravity.field_filters(keys)\n",
    "res = gravity.search_entry(field_filters=filters, form_id='2')\n",
    "res[3].__dict__"
   ]
  },
  {
   "cell_type": "code",
   "execution_count": 17,
   "id": "4bc3461d-0f23-4a8a-a8ea-09add3c9c6c5",
   "metadata": {
    "tags": []
   },
   "outputs": [],
   "source": [
    "#res = 'https://onecard.ncsu.edu/wp-json/gf/v2/forms/2/entries?search={\"field_filters\": [{\"key\": \"23\", \"value\": \"kkmahl\", \"operator\": \"=\"}]}&'"
   ]
  },
  {
   "cell_type": "code",
   "execution_count": 18,
   "id": "b2c95d99-ffbb-4a61-9ab5-572f85f00683",
   "metadata": {
    "tags": []
   },
   "outputs": [],
   "source": [
    "resp = gravity.session.get(res)"
   ]
  },
  {
   "cell_type": "code",
   "execution_count": null,
   "id": "2cb60d9a-ed13-46af-8496-212bae49b18d",
   "metadata": {
    "tags": []
   },
   "outputs": [],
   "source": []
  },
  {
   "cell_type": "code",
   "execution_count": null,
   "id": "732f2ba0-556e-4933-b9b2-23d15b07ab13",
   "metadata": {},
   "outputs": [],
   "source": []
  }
 ],
 "metadata": {
  "kernelspec": {
   "display_name": "Python 3 (ipykernel)",
   "language": "python",
   "name": "python3"
  },
  "language_info": {
   "codemirror_mode": {
    "name": "ipython",
    "version": 3
   },
   "file_extension": ".py",
   "mimetype": "text/x-python",
   "name": "python",
   "nbconvert_exporter": "python",
   "pygments_lexer": "ipython3",
   "version": "3.10.4"
  }
 },
 "nbformat": 4,
 "nbformat_minor": 5
}
