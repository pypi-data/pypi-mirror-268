{
 "cells": [
  {
   "cell_type": "markdown",
   "metadata": {},
   "source": [
    "# Search for Model Versions and Registered Models\n",
    "\n",
    "## Searching for Model Versions\n",
    "Search for model versions that satisfy the filter criteria."
   ]
  },
  {
   "cell_type": "code",
   "execution_count": null,
   "metadata": {},
   "outputs": [],
   "source": [
    "import mlflow \n",
    "import random\n",
    "from mlflow_for_ml_dev.experiments.exp_utils import get_or_create_experiment \n",
    "from mlflow_for_ml_dev.experiments.exp_utils import print_model_version_info\n",
    "from mlflow_for_ml_dev.experiments.exp_utils import print_registered_model_info\n",
    "from sklearn.ensemble import RandomForestClassifier"
   ]
  },
  {
   "cell_type": "code",
   "execution_count": null,
   "metadata": {},
   "outputs": [],
   "source": [
    "# create an experiment\n",
    "experiment_name = \"searching_for_model_versions\"\n",
    "tags = {\"project_name\":\"UNDEFINED\", \"topic\":\"searching\"}\n",
    "experiment = get_or_create_experiment(experiment_name, tags)"
   ]
  },
  {
   "cell_type": "markdown",
   "metadata": {},
   "source": [
    "### Create Testing Data"
   ]
  },
  {
   "cell_type": "code",
   "execution_count": null,
   "metadata": {},
   "outputs": [],
   "source": [
    "client = mlflow.MlflowClient()\n",
    "registered_model_names = [\"model_1\", \"model_2\", \"model_3\", \"model_4\", \"model_5\"]\n",
    "    \n",
    "for registered_model_name in registered_model_names:\n",
    "    model_tags = {\n",
    "        \"model_type\": random.choice([\"random_forest\", \"logistic_regression\"]),\n",
    "        \"model_owner\": random.choice([\"Alice\", \"Bob\"]),\n",
    "        \"organization\": random.choice([\"Acme\", \"Umbrella\"]),   \n",
    "    }\n",
    "\n",
    "    for i in range(random.randint(1, 50)):\n",
    "        # log a dummy model\n",
    "        with mlflow.start_run(run_name=f\"classifier_{i}\", experiment_id=experiment.experiment_id) as run:\n",
    "            rfc = RandomForestClassifier()\n",
    "            mlflow.sklearn.log_model(rfc, \"model\")\n",
    "            model_uri = f\"runs:/{run.info.run_id}/model\"\n",
    "\n",
    "        result = mlflow.register_model(model_uri=model_uri, name = registered_model_name)\n",
    "        model_version = result.version\n",
    "        if model_version == 1:\n",
    "            # set tags for the registered model\n",
    "            for key, value in model_tags.items():\n",
    "                client.set_registered_model_tag(name = registered_model_name, key = key, value = value)\n",
    "\n",
    "        model_version_tags = {\n",
    "            \"validation_status\":random.choice([\"pending\", \"in progress\", \"completed\", \"failed\"]),    \n",
    "        }\n",
    "        # set tags for the model version\n",
    "        for key, value in model_version_tags.items():\n",
    "            client.set_model_version_tag(name = registered_model_name, version = model_version, key = key, value = value)\n",
    "        \n"
   ]
  },
  {
   "cell_type": "markdown",
   "metadata": {},
   "source": [
    "```python\n",
    "search_model_versions(\n",
    "    max_results: Optional[int] = None,\n",
    "    filter_string: Optional[str] = None,\n",
    "    order_by: Optional[List[str]] = None\n",
    ") -> List[mlflow.entities.model_registry.model_version.ModelVersion]\n",
    "```\n",
    "\n",
    "The model version search results may not have aliases populated for performance reasons.\n",
    "\n",
    "**Args**:\n",
    "\n",
    "* filter_string: Filter query string\n",
    "        defaults to searching for all model versions. The following identifiers, comparators,\n",
    "        and logical operators are supported.\n",
    "\n",
    "    * Identifiers\n",
    "        *  `name`: model name.\n",
    "        * ``source_path``: model version source path.\n",
    "        * ``run_id``: The id of the mlflow run that generates the model version.\n",
    "        * ``tags.<tag_key>``: model version tag. If ``tag_key`` contains spaces, it must be wrapped with backticks (e.g., ``\"tags.`extra key`\"``).\n",
    "\n",
    "    * Comparators\n",
    "        * ``=``: Equal to.\n",
    "        * ``!=``: Not equal to.\n",
    "        * ``LIKE``: Case-sensitive pattern match.\n",
    "        * ``ILIKE``: Case-insensitive pattern match.\n",
    "        * ``IN``: In a value list. Only ``run_id`` identifier supports ``IN`` comparator.\n",
    "\n",
    "    * Logical operators\n",
    "        * ``AND``: Combines two sub-queries and returns True if both of them are True.\n",
    "\n",
    "* max_results: If passed, specifies the maximum number of models desired. If not passed, all models will be returned.\n",
    "* order_by: List of column names with ASC|DESC annotation, to be used for ordering matching search results.\n",
    "\n",
    "Returns:  A list of :py:class:`mlflow.entities.model_registry.ModelVersion` objects that satisfy the search expressions."
   ]
  },
  {
   "cell_type": "code",
   "execution_count": null,
   "metadata": {},
   "outputs": [],
   "source": [
    "model_versions = mlflow.search_model_versions(filter_string=\"name = 'model_1'\")"
   ]
  },
  {
   "cell_type": "code",
   "execution_count": null,
   "metadata": {},
   "outputs": [],
   "source": [
    "for model_version in model_versions:\n",
    "    print_model_version_info(model_version)"
   ]
  },
  {
   "cell_type": "code",
   "execution_count": null,
   "metadata": {},
   "outputs": [],
   "source": [
    "model_versions = mlflow.search_model_versions(filter_string=\"name = 'model_2' AND tags.validation_status = 'completed'\")"
   ]
  },
  {
   "cell_type": "code",
   "execution_count": null,
   "metadata": {},
   "outputs": [],
   "source": [
    "for model_version in model_versions:\n",
    "    print_model_version_info(model_version=model_version)"
   ]
  },
  {
   "cell_type": "markdown",
   "metadata": {},
   "source": [
    "## Searching for registered Models\n",
    "\n",
    "```python\n",
    "search_registered_models(\n",
    "    max_results: Optional[int] = None,\n",
    "    filter_string: Optional[str] = None,\n",
    "    order_by: Optional[List[str]] = None\n",
    ") -> List[mlflow.entities.model_registry.registered_model.RegisteredModel]\n",
    "```\n",
    "\n",
    "Search for registered models that satisfy the filter criteria.\n",
    "    \n",
    "**Args**:\n",
    "\n",
    "* filter_string: Filter query string (e.g., \"name = 'a_model_name' and tag.key = 'value1'\"), defaults to searching for all registered models. The following identifiers, comparators,   and logical operators are supported.\n",
    "\n",
    "    * Identifiers\n",
    "        * \"name\": registered model name.\n",
    "        * \"tags.<tag_key>\": registered model tag. If \"tag_key\" contains spaces, it must be wrapped with backticks (e.g., \"tags.`extra key`\").\n",
    "\n",
    "    * Comparators\n",
    "        * \"=\": Equal to.\n",
    "        * \"!=\": Not equal to.\n",
    "        * \"LIKE\": Case-sensitive pattern match.\n",
    "        * \"ILIKE\": Case-insensitive pattern match.\n",
    "\n",
    "    * Logical operators\n",
    "        * \"AND\": Combines two sub-queries and returns True if both of them are True.\n",
    "\n",
    "* max_results: If passed, specifies the maximum number of models desired. If not passed, all models will be returned.\n",
    "* order_by: List of column names with ASC|DESC annotation, to be used for ordering matching search results.\n",
    "\n",
    "**Returns**: A list of :py:class:`mlflow.entities.model_registry.RegisteredModel` objects that satisfy the search expressions."
   ]
  },
  {
   "cell_type": "markdown",
   "metadata": {},
   "source": [
    "### Filter Strings Examples"
   ]
  },
  {
   "cell_type": "code",
   "execution_count": null,
   "metadata": {},
   "outputs": [],
   "source": [
    "filter_string = \"tags.model_type = 'random_forest' AND tags.model_owner = 'Alice'\"\n",
    "registered_models = client.search_registered_models(filter_string=filter_string)"
   ]
  },
  {
   "cell_type": "code",
   "execution_count": null,
   "metadata": {},
   "outputs": [],
   "source": [
    "for registered_model in registered_models:\n",
    "    print_registered_model_info(registered_model)   "
   ]
  },
  {
   "cell_type": "code",
   "execution_count": null,
   "metadata": {},
   "outputs": [],
   "source": [
    "filter_string = \"name LIKE '%_5%'\"\n",
    "registered_models = client.search_registered_models(filter_string=filter_string)"
   ]
  },
  {
   "cell_type": "code",
   "execution_count": null,
   "metadata": {},
   "outputs": [],
   "source": [
    "len(registered_models)"
   ]
  },
  {
   "cell_type": "code",
   "execution_count": null,
   "metadata": {},
   "outputs": [],
   "source": [
    "registered_models[0]"
   ]
  }
 ],
 "metadata": {
  "kernelspec": {
   "display_name": ".venv",
   "language": "python",
   "name": "python3"
  },
  "language_info": {
   "codemirror_mode": {
    "name": "ipython",
    "version": 3
   },
   "file_extension": ".py",
   "mimetype": "text/x-python",
   "name": "python",
   "nbconvert_exporter": "python",
   "pygments_lexer": "ipython3",
   "version": "3.11.8"
  }
 },
 "nbformat": 4,
 "nbformat_minor": 2
}
