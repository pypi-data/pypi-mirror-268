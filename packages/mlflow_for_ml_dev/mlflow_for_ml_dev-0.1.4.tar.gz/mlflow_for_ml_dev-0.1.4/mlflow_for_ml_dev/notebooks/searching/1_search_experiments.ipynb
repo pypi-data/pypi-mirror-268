{
 "cells": [
  {
   "cell_type": "markdown",
   "metadata": {},
   "source": [
    "### Search Experiments\n",
    "\n",
    "```python\n",
    "mlflow.search_experiments(view_type: int = 1,\n",
    "                         max_results: Optional[int] = None,\n",
    "                         filter_string: Optional[str] = None,\n",
    "                         order_by: Optional[List[str]] = None\n",
    "                    )\n",
    "```\n",
    "\n",
    "Search for experiments that match the specified search query.\n",
    "\n",
    "Parameters: \n",
    "\n",
    "\n",
    "* view_type – One of enum values ACTIVE_ONLY, DELETED_ONLY, or ALL defined in mlflow.entities.ViewType.\n",
    "\n",
    "* max_results – If passed, specifies the maximum number of experiments desired. If not passed, all experiments will be returned.\n",
    "\n",
    "* filter_string –\n",
    "\n",
    "* order_by –"
   ]
  },
  {
   "cell_type": "markdown",
   "metadata": {},
   "source": [
    "**View type**\n",
    "\n",
    "* mlflow.tracking.client.ViewType.ACTIVE_ONLY\n",
    "* mlflow.tracking.client.ViewType.DELETE_ONLY\n",
    "* mlflow.tracking.client.ViewType.ALL"
   ]
  },
  {
   "cell_type": "code",
   "execution_count": 1,
   "metadata": {},
   "outputs": [],
   "source": [
    "import mlflow \n",
    "from mlflow_for_ml_dev.experiments.exp_utils import print_experiment_info\n",
    "from mlflow_for_ml_dev.experiments.exp_utils import get_or_create_experiment"
   ]
  },
  {
   "cell_type": "code",
   "execution_count": 2,
   "metadata": {},
   "outputs": [],
   "source": [
    "experiment_name = \"searching_for_experiments\"\n",
    "tags = {\"project_name\":\"UNDEFINED\", \"topic\":\"searching\"}\n",
    "experiment = get_or_create_experiment(experiment_name, tags)"
   ]
  },
  {
   "cell_type": "code",
   "execution_count": 3,
   "metadata": {},
   "outputs": [
    {
     "name": "stdout",
     "output_type": "stream",
     "text": [
      "\n",
      " Experiment Information \n",
      "\n",
      "Name: searching_for_experiments\n",
      "Experiment_id: 143076346149369675\n",
      "Artifact Location: file:///C:/Users/manue/projects/mlflow_for_ml_dev/mlruns/143076346149369675\n",
      "Tags: {'project_name': 'UNDEFINED', 'topic': 'searching'}\n",
      "Lifecycle_stage: active\n",
      "\n",
      " \n",
      "\n",
      "\n",
      " Experiment Information \n",
      "\n",
      "Name: wrapping_multiple_models\n",
      "Experiment_id: 336456198001390931\n",
      "Artifact Location: file:///C:/Users/manue/projects/mlflow_for_ml_dev/mlruns/336456198001390931\n",
      "Tags: {'mlflow.note.content': 'This experiment is to show how to wrap multiple models in a single model', 'proejct_name': 'multiple_models', 'topic': 'pyfunc_flavor'}\n",
      "Lifecycle_stage: active\n",
      "\n",
      " \n",
      "\n",
      "\n",
      " Experiment Information \n",
      "\n",
      "Name: model_with_drift_detection\n",
      "Experiment_id: 155500532296160688\n",
      "Artifact Location: file:///C:/Users/manue/projects/mlflow_for_ml_dev/mlruns/155500532296160688\n",
      "Tags: {'mlflow.note.content': 'This experiment is used to track the model with drift detection', 'proejct_name': 'automatic_model_monitoring', 'topic': 'pyfunc_flavor'}\n",
      "Lifecycle_stage: active\n",
      "\n",
      " \n",
      "\n",
      "\n",
      " Experiment Information \n",
      "\n",
      "Name: custom_models\n",
      "Experiment_id: 863552299205989860\n",
      "Artifact Location: file:///C:/Users/manue/projects/mlflow_for_ml_dev/mlruns/863552299205989860\n",
      "Tags: {'mlflow.note.content': 'This experiment is used to store custom models that are not supported by mlflow out of the box. The models are saved using the pyfunc flavor.', 'proejct_name': 'UNDEFINED', 'topic': 'pyfunc_flavor'}\n",
      "Lifecycle_stage: active\n",
      "\n",
      " \n",
      "\n",
      "\n",
      " Experiment Information \n",
      "\n",
      "Name: sklearn_autologging\n",
      "Experiment_id: 222612658479850820\n",
      "Artifact Location: file:///C:/Users/manue/projects/mlflow_for_ml_dev/mlruns/222612658479850820\n",
      "Tags: {'mlflow.note.content': 'This experiment is used to test the autologging feature of mlflow.', 'proejct_name': 'UNDEFINED', 'topic': 'run_management'}\n",
      "Lifecycle_stage: active\n",
      "\n",
      " \n",
      "\n",
      "\n",
      " Experiment Information \n",
      "\n",
      "Name: sklearn_models\n",
      "Experiment_id: 131636705202070974\n",
      "Artifact Location: file:///C:/Users/manue/projects/mlflow_for_ml_dev/mlruns/131636705202070974\n",
      "Tags: {'mlflow.note.content': 'This experiment is used to log sklearn models', 'proejct_name': 'logging_models', 'topic': 'run_management'}\n",
      "Lifecycle_stage: active\n",
      "\n",
      " \n",
      "\n",
      "\n",
      " Experiment Information \n",
      "\n",
      "Name: iris\n",
      "Experiment_id: 300985398650472411\n",
      "Artifact Location: file:///C:/Users/manue/projects/mlflow_for_ml_dev/mlruns/300985398650472411\n",
      "Tags: {'mlflow.note.content': 'iris dataset classification experiment', 'project_name': 'iris_classifier', 'task': 'classification', 'topic': 'run_management'}\n",
      "Lifecycle_stage: active\n",
      "\n",
      " \n",
      "\n",
      "\n",
      " Experiment Information \n",
      "\n",
      "Name: logging_function\n",
      "Experiment_id: 146895313242465577\n",
      "Artifact Location: file:///C:/Users/manue/projects/mlflow_for_ml_dev/mlruns/146895313242465577\n",
      "Tags: {'mlflow.note.content': 'This experiment is used to test the logging function.', 'project_name': 'UNDEFINED', 'topic': 'run_management'}\n",
      "Lifecycle_stage: active\n",
      "\n",
      " \n",
      "\n",
      "\n",
      " Experiment Information \n",
      "\n",
      "Name: creating_runs\n",
      "Experiment_id: 287215692794036981\n",
      "Artifact Location: file:///C:/Users/manue/projects/mlflow_for_ml_dev/mlruns/287215692794036981\n",
      "Tags: {'project_name': 'UNDEFINED', 'topic': 'run_management'}\n",
      "Lifecycle_stage: active\n",
      "\n",
      " \n",
      "\n",
      "\n",
      " Experiment Information \n",
      "\n",
      "Name: Default\n",
      "Experiment_id: 0\n",
      "Artifact Location: file:///C:/Users/manue/projects/mlflow_for_ml_dev/mlruns/0\n",
      "Tags: {}\n",
      "Lifecycle_stage: active\n",
      "\n",
      " \n",
      "\n"
     ]
    }
   ],
   "source": [
    "experiments = mlflow.search_experiments(view_type=mlflow.tracking.client.ViewType.ALL)\n",
    "for experiment in experiments:\n",
    "    print_experiment_info(experiment)"
   ]
  },
  {
   "cell_type": "markdown",
   "metadata": {},
   "source": [
    "We can use the parameter `max_results` to limit the results"
   ]
  },
  {
   "cell_type": "code",
   "execution_count": 4,
   "metadata": {},
   "outputs": [
    {
     "name": "stdout",
     "output_type": "stream",
     "text": [
      "\n",
      " Experiment Information \n",
      "\n",
      "Name: searching_for_experiments\n",
      "Experiment_id: 143076346149369675\n",
      "Artifact Location: file:///C:/Users/manue/projects/mlflow_for_ml_dev/mlruns/143076346149369675\n",
      "Tags: {'project_name': 'UNDEFINED', 'topic': 'searching'}\n",
      "Lifecycle_stage: active\n",
      "\n",
      " \n",
      "\n"
     ]
    }
   ],
   "source": [
    "experiments = mlflow.search_experiments(view_type=mlflow.tracking.client.ViewType.ACTIVE_ONLY, max_results=1)\n",
    "for experiment in experiments:\n",
    "    print_experiment_info(experiment)"
   ]
  },
  {
   "cell_type": "markdown",
   "metadata": {},
   "source": [
    "**Order By**\n",
    "\n",
    "The following fields are supported:\n",
    "\n",
    "* experiment_id: Experiment ID\n",
    "\n",
    "* name: Experiment name\n",
    "\n",
    "* creation_time: Experiment creation time\n"
   ]
  },
  {
   "cell_type": "code",
   "execution_count": 7,
   "metadata": {},
   "outputs": [
    {
     "name": "stdout",
     "output_type": "stream",
     "text": [
      "\n",
      " Experiment Information \n",
      "\n",
      "Name: Default\n",
      "Experiment_id: 0\n",
      "Artifact Location: file:///C:/Users/manue/projects/mlflow_for_ml_dev/mlruns/0\n",
      "Tags: {}\n",
      "Lifecycle_stage: active\n",
      "\n",
      " \n",
      "\n"
     ]
    }
   ],
   "source": [
    "experiments = mlflow.search_experiments(view_type=mlflow.tracking.client.ViewType.ACTIVE_ONLY, max_results=1, order_by=[\"last_update_time ASC\"])\n",
    "for experiment in experiments:\n",
    "    print_experiment_info(experiment)"
   ]
  },
  {
   "cell_type": "markdown",
   "metadata": {},
   "source": [
    "**Filter String**"
   ]
  },
  {
   "cell_type": "code",
   "execution_count": 9,
   "metadata": {},
   "outputs": [
    {
     "name": "stdout",
     "output_type": "stream",
     "text": [
      "\n",
      " Experiment Information \n",
      "\n",
      "Name: sklearn_autologging\n",
      "Experiment_id: 222612658479850820\n",
      "Artifact Location: file:///C:/Users/manue/projects/mlflow_for_ml_dev/mlruns/222612658479850820\n",
      "Tags: {'mlflow.note.content': 'This experiment is used to test the autologging feature of mlflow.', 'proejct_name': 'UNDEFINED', 'topic': 'run_management'}\n",
      "Lifecycle_stage: active\n",
      "\n",
      " \n",
      "\n"
     ]
    }
   ],
   "source": [
    "experiments = mlflow.search_experiments(view_type=mlflow.tracking.client.ViewType.ACTIVE_ONLY, max_results=2, filter_string=\"name = 'sklearn_autologging'\")\n",
    "for experiment in experiments:\n",
    "    print_experiment_info(experiment)"
   ]
  },
  {
   "cell_type": "code",
   "execution_count": 15,
   "metadata": {},
   "outputs": [
    {
     "name": "stdout",
     "output_type": "stream",
     "text": [
      "\n",
      " Experiment Information \n",
      "\n",
      "Name: creating_runs\n",
      "Experiment_id: 287215692794036981\n",
      "Artifact Location: file:///C:/Users/manue/projects/mlflow_for_ml_dev/mlruns/287215692794036981\n",
      "Tags: {'project_name': 'UNDEFINED', 'topic': 'run_management'}\n",
      "Lifecycle_stage: active\n",
      "\n",
      " \n",
      "\n",
      "\n",
      " Experiment Information \n",
      "\n",
      "Name: logging_function\n",
      "Experiment_id: 146895313242465577\n",
      "Artifact Location: file:///C:/Users/manue/projects/mlflow_for_ml_dev/mlruns/146895313242465577\n",
      "Tags: {'mlflow.note.content': 'This experiment is used to test the logging function.', 'project_name': 'UNDEFINED', 'topic': 'run_management'}\n",
      "Lifecycle_stage: active\n",
      "\n",
      " \n",
      "\n"
     ]
    },
    {
     "ename": "",
     "evalue": "",
     "output_type": "error",
     "traceback": [
      "\u001b[1;31mThe Kernel crashed while executing code in the current cell or a previous cell. \n",
      "\u001b[1;31mPlease review the code in the cell(s) to identify a possible cause of the failure. \n",
      "\u001b[1;31mClick <a href='https://aka.ms/vscodeJupyterKernelCrash'>here</a> for more info. \n",
      "\u001b[1;31mView Jupyter <a href='command:jupyter.viewOutput'>log</a> for further details."
     ]
    }
   ],
   "source": [
    "experiments = mlflow.search_experiments(view_type=mlflow.tracking.client.ViewType.ACTIVE_ONLY,\n",
    "                                        max_results=10,\n",
    "                                        filter_string=\"tags.project_name = 'UNDEFINED' AND tags.topic = 'run_management'\",\n",
    "                                        order_by=[\"last_update_time ASC\"]\n",
    "                                    )\n",
    "for experiment in experiments:\n",
    "    print_experiment_info(experiment)"
   ]
  },
  {
   "cell_type": "code",
   "execution_count": null,
   "metadata": {},
   "outputs": [],
   "source": []
  }
 ],
 "metadata": {
  "kernelspec": {
   "display_name": ".venv",
   "language": "python",
   "name": "python3"
  },
  "language_info": {
   "codemirror_mode": {
    "name": "ipython",
    "version": 3
   },
   "file_extension": ".py",
   "mimetype": "text/x-python",
   "name": "python",
   "nbconvert_exporter": "python",
   "pygments_lexer": "ipython3",
   "version": "3.11.8"
  }
 },
 "nbformat": 4,
 "nbformat_minor": 2
}
