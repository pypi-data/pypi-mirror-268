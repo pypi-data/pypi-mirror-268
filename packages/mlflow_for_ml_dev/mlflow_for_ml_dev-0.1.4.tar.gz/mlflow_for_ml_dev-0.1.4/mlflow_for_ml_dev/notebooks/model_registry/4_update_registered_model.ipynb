{
 "cells": [
  {
   "cell_type": "markdown",
   "metadata": {},
   "source": [
    "# Update a Registered Model\n",
    "\n",
    "Registering a model with the minimum information."
   ]
  },
  {
   "cell_type": "code",
   "execution_count": 1,
   "metadata": {},
   "outputs": [],
   "source": [
    "from mlflow_for_ml_dev.experiments.exp_utils import get_or_create_experiment\n",
    "import mlflow \n",
    "\n",
    "from sklearn.ensemble import RandomForestClassifier"
   ]
  },
  {
   "cell_type": "code",
   "execution_count": 2,
   "metadata": {},
   "outputs": [],
   "source": [
    "experiment_name = \"update-registered-model\"\n",
    "tags = {\"project_name\":\"UNDEFINED\", \"topic\":\"model_registry\"}\n",
    "experiment = get_or_create_experiment(experiment_name)"
   ]
  },
  {
   "cell_type": "code",
   "execution_count": 3,
   "metadata": {},
   "outputs": [
    {
     "name": "stderr",
     "output_type": "stream",
     "text": [
      "Successfully registered model 'random-forest-classifier'.\n",
      "Created version '1' of model 'random-forest-classifier'.\n"
     ]
    }
   ],
   "source": [
    "# Instantiate a model\n",
    "rfc = RandomForestClassifier()\n",
    "\n",
    "registered_model_name = \"random-forest-classifier\"\n",
    "with mlflow.start_run(run_name=\"registering-model\") as run:\n",
    "    # Log the model\n",
    "    mlflow.sklearn.log_model(sk_model = rfc, artifact_path = rfc.__class__.__name__, registered_model_name=registered_model_name)   "
   ]
  },
  {
   "cell_type": "markdown",
   "metadata": {},
   "source": [
    "## Adding Model Description"
   ]
  },
  {
   "cell_type": "code",
   "execution_count": 4,
   "metadata": {},
   "outputs": [],
   "source": [
    "client = mlflow.MlflowClient()"
   ]
  },
  {
   "cell_type": "code",
   "execution_count": 5,
   "metadata": {},
   "outputs": [
    {
     "data": {
      "text/plain": [
       "<RegisteredModel: aliases={}, creation_timestamp=1712117833562, description='This is a random forest classifier model', last_updated_timestamp=1712117833597, latest_versions=[<ModelVersion: aliases=[], creation_timestamp=1712117833562, current_stage='None', description=None, last_updated_timestamp=1712117833562, name='random-forest-classifier', run_id='ad78700240584b79a3dbd3264e83f4c9', run_link=None, source='file:///C:/Users/manue/projects/mlflow_for_ml_dev/mlruns/659226913875713543/ad78700240584b79a3dbd3264e83f4c9/artifacts/RandomForestClassifier', status='READY', status_message=None, tags={}, user_id=None, version=1>], name='random-forest-classifier', tags={}>"
      ]
     },
     "execution_count": 5,
     "metadata": {},
     "output_type": "execute_result"
    }
   ],
   "source": [
    "client.update_registered_model(name = registered_model_name, description=\"This is a random forest classifier model\")"
   ]
  },
  {
   "cell_type": "markdown",
   "metadata": {},
   "source": [
    "## Adding Model Tags"
   ]
  },
  {
   "cell_type": "code",
   "execution_count": 6,
   "metadata": {},
   "outputs": [],
   "source": [
    "registered_model_tags = {\n",
    "    \"project_name\":\"UNDEFINED\",\n",
    "    \"task\":\"classification\",\n",
    "    \"framework\":\"sklearn\",\n",
    "}\n",
    "\n",
    "for key, value in registered_model_tags.items():\n",
    "    \n",
    "    client.set_registered_model_tag(name=registered_model_name, key=key, value=value)\n"
   ]
  },
  {
   "cell_type": "markdown",
   "metadata": {},
   "source": [
    "## Set Model Alias"
   ]
  },
  {
   "cell_type": "code",
   "execution_count": 7,
   "metadata": {},
   "outputs": [],
   "source": [
    "model_aliases = [\"Champion\", \"Candidate\",\"Development\"]\n",
    "\n",
    "for model_alias in model_aliases:\n",
    "    client.set_registered_model_alias(name=registered_model_name, alias = model_alias, version=1)\n"
   ]
  },
  {
   "cell_type": "markdown",
   "metadata": {},
   "source": [
    "### Creating a new version"
   ]
  },
  {
   "cell_type": "code",
   "execution_count": 8,
   "metadata": {},
   "outputs": [
    {
     "name": "stderr",
     "output_type": "stream",
     "text": [
      "c:\\Users\\manue\\projects\\mlflow_for_ml_dev\\.venv\\Lib\\site-packages\\_distutils_hack\\__init__.py:11: UserWarning: Distutils was imported before Setuptools, but importing Setuptools also replaces the `distutils` module in `sys.modules`. This may lead to undesirable behaviors or errors. To avoid these issues, avoid using distutils directly, ensure that setuptools is installed in the traditional way (e.g. not an editable install), and/or make sure that setuptools is always imported before distutils.\n",
      "  warnings.warn(\n",
      "c:\\Users\\manue\\projects\\mlflow_for_ml_dev\\.venv\\Lib\\site-packages\\_distutils_hack\\__init__.py:26: UserWarning: Setuptools is replacing distutils.\n",
      "  warnings.warn(\"Setuptools is replacing distutils.\")\n",
      "Registered model 'random-forest-classifier' already exists. Creating a new version of this model...\n",
      "Created version '2' of model 'random-forest-classifier'.\n"
     ]
    }
   ],
   "source": [
    "# Instantiate a model\n",
    "rfc = RandomForestClassifier()\n",
    "\n",
    "registered_model_name = \"random-forest-classifier\"\n",
    "with mlflow.start_run(run_name=\"registering-model\") as run:\n",
    "    # Log the model\n",
    "    mlflow.sklearn.log_model(sk_model = rfc, artifact_path = rfc.__class__.__name__, registered_model_name=registered_model_name)   "
   ]
  },
  {
   "cell_type": "code",
   "execution_count": 9,
   "metadata": {},
   "outputs": [],
   "source": [
    "client.set_registered_model_alias(name=registered_model_name, alias = \"Champion\", version=2)"
   ]
  },
  {
   "cell_type": "markdown",
   "metadata": {},
   "source": [
    "## Renaming Registered Model"
   ]
  },
  {
   "cell_type": "code",
   "execution_count": 10,
   "metadata": {},
   "outputs": [],
   "source": [
    "client.rename_registered_model(name = registered_model_name, new_name=registered_model_name + \"-v2\")"
   ]
  },
  {
   "cell_type": "code",
   "execution_count": 11,
   "metadata": {},
   "outputs": [],
   "source": [
    "client.rename_registered_model(name = registered_model_name + \"-v2\", new_name=registered_model_name)"
   ]
  },
  {
   "cell_type": "code",
   "execution_count": 12,
   "metadata": {},
   "outputs": [],
   "source": [
    "model_aliases = [\"Champion\", \"Candidate\",\"Development\"]\n",
    "\n",
    "for model_alias in model_aliases:\n",
    "    client.set_registered_model_alias(name=registered_model_name, alias = model_alias, version=1)\n",
    "client.set_registered_model_alias(name=registered_model_name, alias = \"Champion\", version=2)"
   ]
  },
  {
   "cell_type": "code",
   "execution_count": null,
   "metadata": {},
   "outputs": [],
   "source": []
  }
 ],
 "metadata": {
  "kernelspec": {
   "display_name": ".venv",
   "language": "python",
   "name": "python3"
  },
  "language_info": {
   "codemirror_mode": {
    "name": "ipython",
    "version": 3
   },
   "file_extension": ".py",
   "mimetype": "text/x-python",
   "name": "python",
   "nbconvert_exporter": "python",
   "pygments_lexer": "ipython3",
   "version": "3.11.8"
  }
 },
 "nbformat": 4,
 "nbformat_minor": 2
}
