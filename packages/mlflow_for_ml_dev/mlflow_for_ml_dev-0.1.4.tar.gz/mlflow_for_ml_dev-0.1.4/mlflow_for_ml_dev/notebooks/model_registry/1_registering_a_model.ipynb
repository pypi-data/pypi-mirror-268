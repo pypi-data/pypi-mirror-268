{
 "cells": [
  {
   "cell_type": "markdown",
   "metadata": {},
   "source": [
    "# MLflow Model Registry\n",
    "\n",
    "\n",
    "The MLflow Model Registry component is a centralized model store, set of APIs, and UI, to collaboratively manage the full lifecycle of an MLflow Model. It provides model lineage (which MLflow experiment and run produced the model), model versioning, model aliasing, model tagging, and annotations.\n",
    "\n",
    "\n",
    "## Concepts\n",
    "\n",
    "* Model\n",
    "* Registered Model\n",
    "* Model Version\n",
    "* Model Alias\n",
    "* Tags\n",
    "* Annotations and descriptions\n",
    "\n",
    "##  Register a Model via UI"
   ]
  },
  {
   "cell_type": "code",
   "execution_count": 1,
   "metadata": {},
   "outputs": [],
   "source": [
    "from mlflow_for_ml_dev.experiments.exp_utils import get_or_create_experiment\n",
    "import mlflow \n",
    "\n",
    "from sklearn.ensemble import RandomForestClassifier"
   ]
  },
  {
   "cell_type": "code",
   "execution_count": 2,
   "metadata": {},
   "outputs": [],
   "source": [
    "experiment_name = \"registering-model-through-ui\"\n",
    "tags = {\"project_name\":\"UNDEFINED\", \"topic\":\"model_registry\"}\n",
    "experiment = get_or_create_experiment(experiment_name, tags=tags)"
   ]
  },
  {
   "cell_type": "code",
   "execution_count": 3,
   "metadata": {},
   "outputs": [],
   "source": [
    "# instantiate a model\n",
    "rfc = RandomForestClassifier()\n",
    "\n",
    "# log the model\n",
    "with mlflow.start_run(run_name=\"logging_model\", experiment_id = experiment.experiment_id) as run:\n",
    "    mlflow.sklearn.log_model(sk_model=rfc,artifact_path= rfc.__class__.__name__)"
   ]
  }
 ],
 "metadata": {
  "kernelspec": {
   "display_name": ".venv",
   "language": "python",
   "name": "python3"
  },
  "language_info": {
   "codemirror_mode": {
    "name": "ipython",
    "version": 3
   },
   "file_extension": ".py",
   "mimetype": "text/x-python",
   "name": "python",
   "nbconvert_exporter": "python",
   "pygments_lexer": "ipython3",
   "version": "3.11.8"
  }
 },
 "nbformat": 4,
 "nbformat_minor": 2
}
