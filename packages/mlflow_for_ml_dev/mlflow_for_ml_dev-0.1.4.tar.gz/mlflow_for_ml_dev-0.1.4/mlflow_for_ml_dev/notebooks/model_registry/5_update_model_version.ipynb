{
 "cells": [
  {
   "cell_type": "markdown",
   "metadata": {},
   "source": [
    "# Update a model version"
   ]
  },
  {
   "cell_type": "code",
   "execution_count": 1,
   "metadata": {},
   "outputs": [],
   "source": [
    "from mlflow_for_ml_dev.experiments.exp_utils import get_or_create_experiment\n",
    "import mlflow "
   ]
  },
  {
   "cell_type": "code",
   "execution_count": 2,
   "metadata": {},
   "outputs": [],
   "source": [
    "experiment_name = \"update-model-version\"\n",
    "tags = {\"project_name\":\"UNDEFINED\", \"topic\":\"model_registry\"}\n",
    "experiment = get_or_create_experiment(experiment_name)"
   ]
  },
  {
   "cell_type": "markdown",
   "metadata": {},
   "source": [
    "# Add Model Version Description"
   ]
  },
  {
   "cell_type": "code",
   "execution_count": 3,
   "metadata": {},
   "outputs": [],
   "source": [
    "client = mlflow.MlflowClient()\n",
    "registered_model_name = \"random-forest-classifier\""
   ]
  },
  {
   "cell_type": "code",
   "execution_count": 4,
   "metadata": {},
   "outputs": [
    {
     "data": {
      "text/plain": [
       "<ModelVersion: aliases=[], creation_timestamp=1712117833562, current_stage='None', description='This is a new description for model version 1', last_updated_timestamp=1712117854285, name='random-forest-classifier', run_id='ad78700240584b79a3dbd3264e83f4c9', run_link=None, source='file:///C:/Users/manue/projects/mlflow_for_ml_dev/mlruns/659226913875713543/ad78700240584b79a3dbd3264e83f4c9/artifacts/RandomForestClassifier', status='READY', status_message=None, tags={}, user_id=None, version=1>"
      ]
     },
     "execution_count": 4,
     "metadata": {},
     "output_type": "execute_result"
    }
   ],
   "source": [
    "# update version 1\n",
    "client.update_model_version(name = registered_model_name, version = 1, description = \"This is a new description for model version 1\")"
   ]
  },
  {
   "cell_type": "code",
   "execution_count": 5,
   "metadata": {},
   "outputs": [
    {
     "data": {
      "text/plain": [
       "<ModelVersion: aliases=[], creation_timestamp=1712117835450, current_stage='None', description='This is a new description for model version 2', last_updated_timestamp=1712117854305, name='random-forest-classifier', run_id='5700e6ec00af44df90613ffd9c4a347e', run_link=None, source='file:///C:/Users/manue/projects/mlflow_for_ml_dev/mlruns/659226913875713543/5700e6ec00af44df90613ffd9c4a347e/artifacts/RandomForestClassifier', status='READY', status_message=None, tags={}, user_id=None, version=2>"
      ]
     },
     "execution_count": 5,
     "metadata": {},
     "output_type": "execute_result"
    }
   ],
   "source": [
    "# update version 2\n",
    "client.update_model_version(name = registered_model_name, version = 2, description = \"This is a new description for model version 2\")"
   ]
  },
  {
   "cell_type": "markdown",
   "metadata": {},
   "source": [
    "# Add Model Version Tag"
   ]
  },
  {
   "cell_type": "code",
   "execution_count": 6,
   "metadata": {},
   "outputs": [],
   "source": [
    "client.set_model_version_tag(name = registered_model_name, version = 1, key = \"validation_status\", value = \"pending\")"
   ]
  },
  {
   "cell_type": "code",
   "execution_count": 7,
   "metadata": {},
   "outputs": [],
   "source": [
    "client.set_model_version_tag(name = registered_model_name, version = 2, key = \"validation_status\", value = \"Ready for Deployment\")"
   ]
  }
 ],
 "metadata": {
  "kernelspec": {
   "display_name": ".venv",
   "language": "python",
   "name": "python3"
  },
  "language_info": {
   "codemirror_mode": {
    "name": "ipython",
    "version": 3
   },
   "file_extension": ".py",
   "mimetype": "text/x-python",
   "name": "python",
   "nbconvert_exporter": "python",
   "pygments_lexer": "ipython3",
   "version": "3.11.8"
  }
 },
 "nbformat": 4,
 "nbformat_minor": 2
}
