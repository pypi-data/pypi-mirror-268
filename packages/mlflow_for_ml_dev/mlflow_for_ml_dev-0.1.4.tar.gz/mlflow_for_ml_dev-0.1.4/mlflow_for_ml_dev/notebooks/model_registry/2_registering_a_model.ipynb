{
 "cells": [
  {
   "cell_type": "markdown",
   "metadata": {},
   "source": [
    "# MLflow Model Registry\n",
    "\n",
    "##  Register a Model via API\n",
    "\n",
    "### Providing `registered_model_name` paramter"
   ]
  },
  {
   "cell_type": "code",
   "execution_count": null,
   "metadata": {},
   "outputs": [],
   "source": [
    "from mlflow_for_ml_dev.experiments.exp_utils import get_or_create_experiment \n",
    "import mlflow \n",
    "\n",
    "from sklearn.ensemble import RandomForestClassifier"
   ]
  },
  {
   "cell_type": "code",
   "execution_count": null,
   "metadata": {},
   "outputs": [],
   "source": [
    "experiment_name = \"registering-model-through-api\"\n",
    "tags = {\"project_name\":\"UNDEFINED\", \"topic\":\"model_registry\"}\n",
    "experiment = get_or_create_experiment(experiment_name = experiment_name, tags = tags)"
   ]
  },
  {
   "cell_type": "code",
   "execution_count": null,
   "metadata": {},
   "outputs": [],
   "source": [
    "# instantiate a model\n",
    "rfc = RandomForestClassifier(n_estimators=100)\n",
    "\n",
    "with mlflow.start_run(run_name=\"logging_model\", experiment_id=experiment.experiment_id) as run:\n",
    "    # log the model\n",
    "    mlflow.sklearn.log_model(sk_model = rfc, artifact_path= rfc.__class__.__name__, registered_model_name=\"registered-model-api\")"
   ]
  },
  {
   "cell_type": "markdown",
   "metadata": {},
   "source": [
    "### Using `mlflow.register_model()`"
   ]
  },
  {
   "cell_type": "code",
   "execution_count": null,
   "metadata": {},
   "outputs": [],
   "source": [
    "# instantiate a model\n",
    "rfc = RandomForestClassifier(n_estimators=100)\n",
    "\n",
    "with mlflow.start_run(run_name=\"logging_model_api\", experiment_id=experiment.experiment_id) as run:\n",
    "    # log the model\n",
    "    mlflow.sklearn.log_model(sk_model = rfc, artifact_path= rfc.__class__.__name__)"
   ]
  },
  {
   "cell_type": "code",
   "execution_count": null,
   "metadata": {},
   "outputs": [],
   "source": [
    "model_uri = f\"runs:/{run.info.run_id}/{rfc.__class__.__name__}\""
   ]
  },
  {
   "cell_type": "code",
   "execution_count": null,
   "metadata": {},
   "outputs": [],
   "source": [
    "model_name = \"registered-model-using-mlflow-module\"\n",
    "tags = {\"project_name\":\"UNDEFINED\", \"topic\":\"model_registry\"}\n",
    "result = mlflow.register_model(model_uri=model_uri, name = model_name, tags=tags)"
   ]
  }
 ],
 "metadata": {
  "kernelspec": {
   "display_name": ".venv",
   "language": "python",
   "name": "python3"
  },
  "language_info": {
   "codemirror_mode": {
    "name": "ipython",
    "version": 3
   },
   "file_extension": ".py",
   "mimetype": "text/x-python",
   "name": "python",
   "nbconvert_exporter": "python",
   "pygments_lexer": "ipython3",
   "version": "3.11.8"
  }
 },
 "nbformat": 4,
 "nbformat_minor": 2
}
