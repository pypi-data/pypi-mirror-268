{
 "cells": [
  {
   "cell_type": "markdown",
   "metadata": {},
   "source": [
    "# Creating custom Pyfunc models\n",
    "\n",
    "MLflow’s persistence modules provide convenience functions for creating models with the pyfunc flavor in a variety of machine learning frameworks (scikit-learn, Keras, Pytorch, and more); however, they do not cover every use case. For example, you may want to create an MLflow model with the pyfunc flavor using a framework that MLflow does not natively support. Alternatively, you may want to build an MLflow model that executes custom logic when evaluating queries, such as preprocessing and postprocessing routines. Therefore, mlflow.pyfunc provides utilities for creating pyfunc models from arbitrary code and model data.\n",
    "\n",
    "## Function-based Model & Class-based Model\n",
    "\n",
    "### Function-based Model\n",
    "\n",
    "If you’re looking to serialize a simple python function without additional dependent methods, you can simply log a predict method via the keyword argument python_model.\n",
    "\n",
    "\n"
   ]
  },
  {
   "cell_type": "code",
   "execution_count": null,
   "metadata": {},
   "outputs": [],
   "source": [
    "from mlflow_for_ml_dev.experiments.exp_utils import get_or_create_experiment\n",
    "import mlflow \n",
    "import pandas as pd\n"
   ]
  },
  {
   "cell_type": "code",
   "execution_count": null,
   "metadata": {},
   "outputs": [],
   "source": [
    "# create experiment\n",
    "experiment_name = \"custom_models\"\n",
    "experiment = get_or_create_experiment(\n",
    "    experiment_name = experiment_name,\n",
    "    tags = {\n",
    "        \"proejct_name\": \"UNDEFINED\",\n",
    "        \"topic\":\"pyfunc_flavor\",\n",
    "        \"mlflow.note.content\": \"This experiment is used to store custom models that are not supported by mlflow out of the box. The models are saved using the pyfunc flavor.\"\n",
    "    }\n",
    ")"
   ]
  },
  {
   "cell_type": "code",
   "execution_count": null,
   "metadata": {},
   "outputs": [],
   "source": [
    "# Define a simple function to log\n",
    "def predict(model_input):\n",
    "    \"\"\"\n",
    "    Predicts the input multiplied by 2\n",
    "\n",
    "    :param model_input: The input to the model\n",
    "    :return: The input multiplied by 2\n",
    "    \"\"\"\n",
    "    return model_input.apply(lambda x: x * 2)\n",
    "\n",
    "\n",
    "# Save the function as a model\n",
    "with mlflow.start_run(run_name=\"function_model\"):\n",
    "    mlflow.pyfunc.log_model(\"model\", python_model=predict, pip_requirements=[\"pandas\"])\n",
    "    run_id = mlflow.active_run().info.run_id\n",
    "\n",
    "# Load the model from the tracking server and perform inference\n",
    "model = mlflow.pyfunc.load_model(f\"runs:/{run_id}/model\")\n",
    "x_new = pd.Series([1,2,3,4,5])\n",
    "\n",
    "prediction = model.predict(x_new)\n",
    "print(prediction)"
   ]
  },
  {
   "cell_type": "markdown",
   "metadata": {},
   "source": [
    "### Class-based Model\n",
    "\n",
    "If you’re looking to serialize a more complex object, for instance a class that handles preprocessing, complex prediction logic, or custom serialization, you should subclass the PythonModel class.\n",
    "\n",
    "--------\n",
    "```python\n",
    "import mlflow\n",
    "import pandas as pd\n",
    "\n",
    "class MyModel(mlflow.pyfunc.PythonModel):\n",
    "    def predict(self, context, model_input, params=None):\n",
    "        return [x*2 for x in model_input]\n",
    "\n",
    "# Save the function as a model\n",
    "with mlflow.start_run():\n",
    "    mlflow.pyfunc.log_model(\"model\", python_model=MyModel(), pip_requirements=[\"pandas\"])\n",
    "    run_id = mlflow.active_run().info.run_id\n",
    "\n",
    "# Load the model from the tracking server and perform inference\n",
    "model = mlflow.pyfunc.load_model(f\"runs:/{run_id}/model\")\n",
    "x_new = pd.Series([1, 2, 3])\n",
    "\n",
    "print(f\"Prediction:\n",
    "    {model.predict(x_new)}\")\n",
    "```\n",
    "--------\n",
    "\n",
    "Basic Guidelines for a PythonModel\n",
    "\n",
    "The guidelines for this approach are as follows:\n",
    "\n",
    "* Your class must be a subclass of mlflow.pyfunc.PythonModel\n",
    "\n",
    "* Your class must implement a predict method\n",
    "\n",
    "* The predict method must adhere to the requirements of the Inference API.\n",
    "\n",
    "* The predict method must have reference to context as the first named argument\n",
    "\n",
    "* If you wish to provide parameters with your model, these must be defined as part of the model signature. The signature must be saved along with the model.\n",
    "\n",
    "* If you intend to have additional functionality execute when loading the model (such as loading additional dependent files), you may decide to define the load_context method in your class.\n",
    "\n"
   ]
  },
  {
   "cell_type": "code",
   "execution_count": null,
   "metadata": {},
   "outputs": [],
   "source": [
    "class CustomModel(mlflow.pyfunc.PythonModel):\n",
    "    def __init__(self):\n",
    "        pass\n",
    "\n",
    "    def predict(self, context, model_input):\n",
    "        return model_input.apply(lambda x: x * 2)"
   ]
  },
  {
   "cell_type": "code",
   "execution_count": null,
   "metadata": {},
   "outputs": [],
   "source": [
    "with mlflow.start_run(run_name=\"class_model\") as run:\n",
    "    print(run.info.run_id)\n",
    "    mlflow.pyfunc.log_model(\"model\", python_model=CustomModel(), pip_requirements=[\"pandas\"])\n",
    "    "
   ]
  },
  {
   "cell_type": "code",
   "execution_count": null,
   "metadata": {},
   "outputs": [
    {
     "ename": "",
     "evalue": "",
     "output_type": "error",
     "traceback": [
      "\u001b[1;31mThe Kernel crashed while executing code in the current cell or a previous cell. \n",
      "\u001b[1;31mPlease review the code in the cell(s) to identify a possible cause of the failure. \n",
      "\u001b[1;31mClick <a href='https://aka.ms/vscodeJupyterKernelCrash'>here</a> for more info. \n",
      "\u001b[1;31mView Jupyter <a href='command:jupyter.viewOutput'>log</a> for further details."
     ]
    }
   ],
   "source": [
    "loaded_model = mlflow.pyfunc.load_model(f\"runs:/{run.info.run_id}/model\")\n",
    "prediction = loaded_model.predict(x_new)\n",
    "print(prediction)"
   ]
  }
 ],
 "metadata": {
  "kernelspec": {
   "display_name": ".venv",
   "language": "python",
   "name": "python3"
  },
  "language_info": {
   "codemirror_mode": {
    "name": "ipython",
    "version": 3
   },
   "file_extension": ".py",
   "mimetype": "text/x-python",
   "name": "python",
   "nbconvert_exporter": "python",
   "pygments_lexer": "ipython3",
   "version": "3.11.8"
  }
 },
 "nbformat": 4,
 "nbformat_minor": 2
}
