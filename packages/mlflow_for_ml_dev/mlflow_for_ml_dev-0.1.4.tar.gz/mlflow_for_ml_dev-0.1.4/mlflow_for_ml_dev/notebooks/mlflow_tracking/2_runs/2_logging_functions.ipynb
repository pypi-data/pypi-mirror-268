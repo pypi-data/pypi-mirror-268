{
 "cells": [
  {
   "cell_type": "markdown",
   "metadata": {},
   "source": [
    "# Logging Metrics"
   ]
  },
  {
   "cell_type": "code",
   "execution_count": null,
   "metadata": {},
   "outputs": [],
   "source": [
    "from mlflow_for_ml_dev.experiments.exp_utils import get_or_create_experiment\n",
    "import mlflow"
   ]
  },
  {
   "cell_type": "code",
   "execution_count": null,
   "metadata": {},
   "outputs": [],
   "source": [
    "experiment_name = \"logging_function\"\n",
    "tags = {\"project_name\":\"UNDEFINED\", \"topic\":\"run_management\", \"mlflow.note.content\":\"This experiment is used to test the logging function.\"}\n",
    "experiment = get_or_create_experiment(experiment_name, tags)"
   ]
  },
  {
   "cell_type": "code",
   "execution_count": null,
   "metadata": {},
   "outputs": [],
   "source": [
    "with mlflow.start_run(run_name=\"logging_metrics\", experiment_id=experiment.experiment_id) as run:\n",
    "    print(\"Run ID:\", run.info.run_id)\n",
    "\n",
    "    # logging a single metric\n",
    "    mlflow.log_metric(\"m1\", 2.0, step=0)\n",
    "\n",
    "    # logging multiple metrics\n",
    "    mlflow.log_metrics({\"m2\": 3.0, \"m3\": 4.0})"
   ]
  },
  {
   "cell_type": "code",
   "execution_count": null,
   "metadata": {},
   "outputs": [],
   "source": [
    "with mlflow.start_run(run_name=\"logging_metrics\", run_id=run.info.run_id, experiment_id=experiment.experiment_id) as run:\n",
    "    print(\"Run ID:\", run.info.run_id)\n",
    "\n",
    "    # logging a single metric\n",
    "    mlflow.log_metric(\"m1\", 2.0, step=1)\n",
    "\n",
    "    # logging multiple metrics\n",
    "    mlflow.log_metrics({\"m2\": 3.0, \"m3\": 4.0})"
   ]
  },
  {
   "cell_type": "code",
   "execution_count": null,
   "metadata": {},
   "outputs": [],
   "source": [
    "client = mlflow.MlflowClient()"
   ]
  },
  {
   "cell_type": "code",
   "execution_count": null,
   "metadata": {},
   "outputs": [],
   "source": [
    "client.get_metric_history(run.info.run_id, \"m1\")"
   ]
  },
  {
   "cell_type": "markdown",
   "metadata": {},
   "source": [
    "# Logging Parameters"
   ]
  },
  {
   "cell_type": "code",
   "execution_count": null,
   "metadata": {},
   "outputs": [],
   "source": [
    "with mlflow.start_run(run_name=\"logging_params\", experiment_id=experiment.experiment_id) as run:\n",
    "    print(\"Run ID:\", run.info.run_id)\n",
    "\n",
    "    # logging a single parameter\n",
    "    mlflow.log_param(\"p1\", 2.0)\n",
    "\n",
    "    # logging multiple parameters\n",
    "    mlflow.log_params({\"p2\": 3.0, \"p3\": 4.0})"
   ]
  },
  {
   "cell_type": "markdown",
   "metadata": {},
   "source": [
    "# Logging Dict"
   ]
  },
  {
   "cell_type": "code",
   "execution_count": null,
   "metadata": {},
   "outputs": [],
   "source": [
    "with mlflow.start_run(run_name=\"logging_dict\", experiment_id=experiment.experiment_id) as run:\n",
    "    print(\"Run ID:\", run.info.run_id)\n",
    "\n",
    "    # logging a dictionary\n",
    "    mlflow.log_dict(dictionary={\"m1\": 2.0, \"m2\": 3.0, \"m3\": 4.0}, artifact_file=\"files/metrics.json\")"
   ]
  },
  {
   "cell_type": "code",
   "execution_count": null,
   "metadata": {},
   "outputs": [],
   "source": [
    "with mlflow.start_run(run_name=\"logging_dict\", experiment_id=experiment.experiment_id) as run:\n",
    "    print(\"Run ID:\", run.info.run_id)\n",
    "\n",
    "    # logging a dictionary\n",
    "    mlflow.log_dict(dictionary={\"m1\": 2.0, \"m2\": 3.0, \"m3\": 4.0}, artifact_file=\"files/metrics.yaml\")"
   ]
  },
  {
   "cell_type": "markdown",
   "metadata": {},
   "source": [
    "# Logging Artifacts"
   ]
  },
  {
   "cell_type": "code",
   "execution_count": null,
   "metadata": {},
   "outputs": [],
   "source": [
    "with mlflow.start_run(run_name=\"logging_artifact\", experiment_id=experiment.experiment_id) as run:\n",
    "    print(\"Run ID:\", run.info.run_id)\n",
    "\n",
    "    # logging an artifact\n",
    "    mlflow.log_artifact(local_path=\"../../images/mlflow_run.jpeg\",artifact_path=\"images\")"
   ]
  },
  {
   "cell_type": "code",
   "execution_count": null,
   "metadata": {},
   "outputs": [],
   "source": [
    "with mlflow.start_run(run_name=\"logging_artifacts\", experiment_id=experiment.experiment_id) as run:\n",
    "    print(\"Run ID:\", run.info.run_id)\n",
    "\n",
    "    # logging an artifact\n",
    "    mlflow.log_artifacts(local_dir=\"../../images\",artifact_path=\"images\")"
   ]
  },
  {
   "cell_type": "markdown",
   "metadata": {},
   "source": [
    "# Logging Figure\n",
    "\n",
    "Log a figure as an artifact. The following figure objects are supported:\n",
    "\n",
    "* matplotlib.figure.Figure\n",
    "\n",
    "* plotly.graph_objects.Figure"
   ]
  },
  {
   "cell_type": "code",
   "execution_count": null,
   "metadata": {},
   "outputs": [],
   "source": [
    "import matplotlib.pyplot as plt\n",
    "\n",
    "fig, ax = plt.subplots()\n",
    "ax.plot([0, 1], [2, 3])\n",
    "\n",
    "with mlflow.start_run(run_name=\"logging_figure\", experiment_id=experiment.experiment_id) as run:\n",
    "    print(\"Run ID:\", run.info.run_id)\n",
    "\n",
    "    # logging a figure\n",
    "    mlflow.log_figure(fig, artifact_file=\"figure.png\")\n"
   ]
  },
  {
   "cell_type": "markdown",
   "metadata": {},
   "source": [
    "# Logging Image\n",
    "\n",
    "Log an image as an artifact. The following image objects are supported:\n",
    "\n",
    "* numpy.ndarray\n",
    "\n",
    "* PIL.Image.Image"
   ]
  },
  {
   "cell_type": "code",
   "execution_count": null,
   "metadata": {},
   "outputs": [],
   "source": [
    "import numpy as np\n",
    "\n",
    "image = np.random.randint(0, 256, size=(100, 100, 3), dtype=np.uint8)\n",
    "\n",
    "with mlflow.start_run(run_name=\"logging_image\", experiment_id=experiment.experiment_id) as run:\n",
    "    print(\"Run ID:\", run.info.run_id)\n",
    "\n",
    "    # logging an image\n",
    "    mlflow.log_image(image, artifact_file=\"image.png\")\n"
   ]
  },
  {
   "cell_type": "markdown",
   "metadata": {},
   "source": [
    "# Logging Table\n",
    "\n",
    "Log a table to MLflow Tracking as a JSON artifact. If the artifact_file already exists in the run, the data would be appended to the existing artifact_file.\n",
    "\n",
    "* data – Dictionary or pandas.DataFrame to log.\n",
    "\n",
    "* artifact_file – The run-relative artifact file path in posixpath format to which the table is saved (e.g. “dir/file.json”)."
   ]
  },
  {
   "cell_type": "code",
   "execution_count": null,
   "metadata": {},
   "outputs": [],
   "source": [
    "import mlflow\n",
    "\n",
    "table_dict = {\n",
    "    \"inputs\": [\"What is MLflow?\", \"What is Databricks?\"],\n",
    "    \"outputs\": [\"MLflow is ...\", \"Databricks is ...\"],\n",
    "    \"toxicity\": [0.0, 0.0],\n",
    "}\n",
    "with mlflow.start_run(run_name=\"logging_table\", experiment_id=experiment.experiment_id) as run:\n",
    "    print(\"Run ID:\", run.info.run_id)\n",
    "\n",
    "    # Log the dictionary as a table\n",
    "    mlflow.log_table(data=table_dict, artifact_file=\"results.json\")"
   ]
  },
  {
   "cell_type": "markdown",
   "metadata": {},
   "source": [
    "# Logging Text\n",
    "\n",
    "Log text as an artifact."
   ]
  },
  {
   "cell_type": "code",
   "execution_count": null,
   "metadata": {},
   "outputs": [
    {
     "ename": "",
     "evalue": "",
     "output_type": "error",
     "traceback": [
      "\u001b[1;31mThe Kernel crashed while executing code in the current cell or a previous cell. \n",
      "\u001b[1;31mPlease review the code in the cell(s) to identify a possible cause of the failure. \n",
      "\u001b[1;31mClick <a href='https://aka.ms/vscodeJupyterKernelCrash'>here</a> for more info. \n",
      "\u001b[1;31mView Jupyter <a href='command:jupyter.viewOutput'>log</a> for further details."
     ]
    }
   ],
   "source": [
    "with mlflow.start_run(run_name=\"logging_text\", experiment_id=experiment.experiment_id) as run:\n",
    "\n",
    "    print(\"Run ID:\", run.info.run_id)\n",
    "    # Log text to a file under the run's root artifact directory\n",
    "    mlflow.log_text(\"text1\", \"file1.txt\")\n",
    "\n",
    "    # Log text in a subdirectory of the run's root artifact directory\n",
    "    mlflow.log_text(\"text2\", \"dir/file2.txt\")\n",
    "\n",
    "    # Log HTML text\n",
    "    mlflow.log_text(\"<h1>header</h1>\", \"index.html\")"
   ]
  }
 ],
 "metadata": {
  "kernelspec": {
   "display_name": ".venv",
   "language": "python",
   "name": "python3"
  },
  "language_info": {
   "codemirror_mode": {
    "name": "ipython",
    "version": 3
   },
   "file_extension": ".py",
   "mimetype": "text/x-python",
   "name": "python",
   "nbconvert_exporter": "python",
   "pygments_lexer": "ipython3",
   "version": "3.11.8"
  }
 },
 "nbformat": 4,
 "nbformat_minor": 2
}
