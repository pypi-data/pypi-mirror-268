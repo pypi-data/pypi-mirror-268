{
 "cells": [
  {
   "cell_type": "markdown",
   "metadata": {},
   "source": [
    "# MLflow AutoLogging\n",
    "\n",
    "Enables (or disables) and configures autologging for scikit-learn estimators."
   ]
  },
  {
   "cell_type": "markdown",
   "metadata": {},
   "source": [
    ">```python\n",
    ">mlflow.sklearn.autolog(log_input_examples=False, log_model_signatures=True, log_models=True, log_datasets=True, disable=False, exclusive=False, disable_for_unsupported_versions=False, >silent=False, max_tuning_runs=5, log_post_training_metrics=True, serialization_format='cloudpickle', registered_model_name=None, pos_label=None, extra_tags=None)\n"
   ]
  },
  {
   "cell_type": "code",
   "execution_count": null,
   "metadata": {},
   "outputs": [],
   "source": [
    "from sklearn.datasets import load_iris\n",
    "from sklearn.ensemble import RandomForestClassifier\n",
    "from sklearn.model_selection import train_test_split\n",
    "from pprint import pprint\n",
    "import mlflow \n",
    "\n",
    "from mlflow_for_ml_dev.experiments.exp_utils import get_or_create_experiment"
   ]
  },
  {
   "cell_type": "code",
   "execution_count": null,
   "metadata": {},
   "outputs": [],
   "source": [
    "# create experiment\n",
    "experiment_name = \"sklearn_autologging\"\n",
    "experiment = get_or_create_experiment(\n",
    "    experiment_name = experiment_name,\n",
    "    tags = {\n",
    "        \"proejct_name\": \"UNDEFINED\",\n",
    "        \"topic\":\"run_management\",\n",
    "        \"mlflow.note.content\": \"This experiment is used to test the autologging feature of mlflow.\"\n",
    "    }\n",
    ")"
   ]
  },
  {
   "cell_type": "code",
   "execution_count": null,
   "metadata": {},
   "outputs": [],
   "source": [
    "# enable autologging\n",
    "mlflow.sklearn.autolog()\n",
    "\n",
    "# load data\n",
    "iris = load_iris(as_frame=True)\n",
    "X = iris.data\n",
    "y = iris.target\n",
    "\n",
    "# train model\n",
    "rf = RandomForestClassifier()\n",
    "with mlflow.start_run(run_name=\"autologged_run\") as run:\n",
    "    print(f\"MLflow run_id: {run.info.run_id}\")\n",
    "    rf.fit(X, y)"
   ]
  },
  {
   "cell_type": "code",
   "execution_count": null,
   "metadata": {},
   "outputs": [],
   "source": [
    "# get run and fecth logged data\n",
    "run_id = run.info.run_id\n",
    "run = mlflow.get_run(run_id)\n",
    "pprint(run.data.params)\n"
   ]
  },
  {
   "cell_type": "code",
   "execution_count": null,
   "metadata": {},
   "outputs": [],
   "source": [
    "run.data.metrics"
   ]
  },
  {
   "cell_type": "code",
   "execution_count": null,
   "metadata": {},
   "outputs": [],
   "source": [
    "run.data.tags"
   ]
  },
  {
   "cell_type": "code",
   "execution_count": null,
   "metadata": {},
   "outputs": [],
   "source": [
    "model_artifacts = [f.path for f in mlflow.MlflowClient().list_artifacts(run_id, \"model\")]\n",
    "run_artifacts = [f.path for f in mlflow.MlflowClient().list_artifacts(run_id)]\n",
    "print(\"Model artifacts:\")\n",
    "pprint(model_artifacts)\n",
    "print(\"All artifacts:\")\n",
    "pprint(run_artifacts)"
   ]
  },
  {
   "cell_type": "markdown",
   "metadata": {},
   "source": [
    "## Logging Input examples"
   ]
  },
  {
   "cell_type": "code",
   "execution_count": null,
   "metadata": {},
   "outputs": [],
   "source": [
    "# enable autologging\n",
    "mlflow.sklearn.autolog(log_input_examples=True)\n",
    "\n",
    "# load data\n",
    "iris = load_iris(as_frame=True)\n",
    "X = iris.data\n",
    "y = iris.target\n",
    "\n",
    "# train model\n",
    "rf = RandomForestClassifier()\n",
    "with mlflow.start_run(run_name=\"autologged_run\") as run:\n",
    "    print(f\"MLflow run_id: {run.info.run_id}\")\n",
    "    rf.fit(X, y)"
   ]
  },
  {
   "cell_type": "code",
   "execution_count": null,
   "metadata": {},
   "outputs": [
    {
     "ename": "",
     "evalue": "",
     "output_type": "error",
     "traceback": [
      "\u001b[1;31mThe Kernel crashed while executing code in the current cell or a previous cell. \n",
      "\u001b[1;31mPlease review the code in the cell(s) to identify a possible cause of the failure. \n",
      "\u001b[1;31mClick <a href='https://aka.ms/vscodeJupyterKernelCrash'>here</a> for more info. \n",
      "\u001b[1;31mView Jupyter <a href='command:jupyter.viewOutput'>log</a> for further details."
     ]
    }
   ],
   "source": [
    "# enable autologging\n",
    "mlflow.sklearn.autolog(log_input_examples=True)\n",
    "\n",
    "# Autologging must be enabled before scikit-learn metric\n",
    "# APIs are imported from sklearn.metrics. Metric APIs imported before autologging \n",
    "# is enabled do not log metrics to MLflow runs.\n",
    "\n",
    "from sklearn.metrics import balanced_accuracy_score\n",
    "from sklearn.metrics import accuracy_score\n",
    "from sklearn.metrics import recall_score\n",
    "from sklearn.metrics import f1_score\n",
    "\n",
    "# load data\n",
    "iris = load_iris(as_frame=True)\n",
    "X = iris.data\n",
    "y = iris.target\n",
    "\n",
    "x_train, x_test, y_train, y_test = train_test_split(X, y, test_size=0.2)\n",
    "\n",
    "# train model\n",
    "rf = RandomForestClassifier()\n",
    "with mlflow.start_run(run_name=\"autologged_run\") as run:\n",
    "    print(f\"MLflow run_id: {run.info.run_id}\")\n",
    "    rf.fit(x_train, y_train)\n",
    "\n",
    "    # predictions\n",
    "    y_pred = rf.predict(x_test)\n",
    "    balanced_accuracy = balanced_accuracy_score(y_test, y_pred)\n",
    "    print(f\"Balanced accuracy: {balanced_accuracy}\")\n",
    "\n",
    "    # accuracy\n",
    "    accuracy = accuracy_score(y_test, y_pred)\n",
    "\n",
    "    # recall\n",
    "    recall = recall_score(y_test, y_pred, average=\"weighted\")\n",
    "\n",
    "    # f1\n",
    "    f1 = f1_score(y_test, y_pred, average=\"weighted\")"
   ]
  }
 ],
 "metadata": {
  "kernelspec": {
   "display_name": ".venv",
   "language": "python",
   "name": "python3"
  },
  "language_info": {
   "codemirror_mode": {
    "name": "ipython",
    "version": 3
   },
   "file_extension": ".py",
   "mimetype": "text/x-python",
   "name": "python",
   "nbconvert_exporter": "python",
   "pygments_lexer": "ipython3",
   "version": "3.11.8"
  }
 },
 "nbformat": 4,
 "nbformat_minor": 2
}
