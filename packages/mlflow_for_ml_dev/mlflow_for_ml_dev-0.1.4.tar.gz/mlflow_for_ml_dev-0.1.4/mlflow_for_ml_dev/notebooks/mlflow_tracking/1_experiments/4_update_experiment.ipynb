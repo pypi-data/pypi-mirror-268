{
 "cells": [
  {
   "cell_type": "markdown",
   "metadata": {},
   "source": [
    "# Update Experiment"
   ]
  },
  {
   "cell_type": "markdown",
   "metadata": {},
   "source": [
    "## Renaming Experiment\n",
    "\n",
    "`rename_experiment(experiment_id: str, new_name: str) → None[source]`\n",
    "\n",
    "Parameters:\n",
    "\n",
    "* experiment_id – The experiment ID returned from create_experiment."
   ]
  },
  {
   "cell_type": "code",
   "execution_count": null,
   "metadata": {},
   "outputs": [],
   "source": [
    "import mlflow \n",
    "from mlflow_for_ml_dev.experiments.exp_utils import get_or_create_experiment\n",
    "from mlflow_for_ml_dev.experiments.exp_utils import print_experiment_info"
   ]
  },
  {
   "cell_type": "code",
   "execution_count": null,
   "metadata": {},
   "outputs": [],
   "source": [
    "experiment_name = \"first_experiment\"\n",
    "tags = {\"project_name\":\"first_project\", \"topic\":\"experiment_management\"}\n",
    "experiment = get_or_create_experiment(experiment_name, tags)"
   ]
  },
  {
   "cell_type": "code",
   "execution_count": null,
   "metadata": {},
   "outputs": [],
   "source": [
    "print_experiment_info(experiment)"
   ]
  },
  {
   "cell_type": "code",
   "execution_count": null,
   "metadata": {},
   "outputs": [],
   "source": [
    "client = mlflow.MlflowClient()\n",
    "new_experiment_name = \"first_experiment_renamed\"\n",
    "client.rename_experiment(experiment_id = experiment.experiment_id, new_name = new_experiment_name)"
   ]
  },
  {
   "cell_type": "code",
   "execution_count": null,
   "metadata": {},
   "outputs": [],
   "source": [
    "print_experiment_info(mlflow.get_experiment_by_name(new_experiment_name))"
   ]
  },
  {
   "cell_type": "code",
   "execution_count": null,
   "metadata": {},
   "outputs": [],
   "source": [
    "client.rename_experiment(experiment_id = experiment.experiment_id, new_name = experiment_name)\n",
    "print_experiment_info(mlflow.get_experiment_by_name(experiment_name))"
   ]
  },
  {
   "cell_type": "markdown",
   "metadata": {},
   "source": [
    "## Updating Tags\n",
    "\n",
    "* `mlflow.set_experiment_tags(tags: Dict[str, Any]) → None`\n",
    "\n",
    " Set tags for the current active experiment.\n",
    "\n",
    "\n",
    "* `mlflow.set_experiment_tag(key: str, value: Any) → None`\n",
    "\n",
    "Set a tag on the current experiment. Value is converted to a string.\n",
    "\n",
    "\n",
    "* `client.set_experiment_tag(experiment_id: str, key: str, value: Any)→ None`\n",
    "\n",
    "Set a tag on the experiment with the specified ID. Value is converted to a string.\n",
    "\n"
   ]
  },
  {
   "cell_type": "code",
   "execution_count": null,
   "metadata": {},
   "outputs": [],
   "source": [
    "mlflow.set_experiment_tag(key = \"newtag\", value = \"new tag value\")\n",
    "mlflow.get_experiment_by_name(experiment_name).tags"
   ]
  },
  {
   "cell_type": "code",
   "execution_count": null,
   "metadata": {},
   "outputs": [],
   "source": [
    "# specify experiment_id\n",
    "client.set_experiment_tag(experiment_id = experiment.experiment_id, key = \"anothertag\", value = \"new another tag value\")"
   ]
  },
  {
   "cell_type": "markdown",
   "metadata": {},
   "source": [
    "### Add Experiment Description"
   ]
  },
  {
   "cell_type": "code",
   "execution_count": null,
   "metadata": {},
   "outputs": [
    {
     "ename": "",
     "evalue": "",
     "output_type": "error",
     "traceback": [
      "\u001b[1;31mThe Kernel crashed while executing code in the current cell or a previous cell. \n",
      "\u001b[1;31mPlease review the code in the cell(s) to identify a possible cause of the failure. \n",
      "\u001b[1;31mClick <a href='https://aka.ms/vscodeJupyterKernelCrash'>here</a> for more info. \n",
      "\u001b[1;31mView Jupyter <a href='command:jupyter.viewOutput'>log</a> for further details."
     ]
    }
   ],
   "source": [
    "client.set_experiment_tag(experiment_id = experiment.experiment_id, key = \"mlflow.note.content\", value = \"Experiment Description\")"
   ]
  },
  {
   "cell_type": "code",
   "execution_count": null,
   "metadata": {},
   "outputs": [],
   "source": []
  }
 ],
 "metadata": {
  "kernelspec": {
   "display_name": ".venv",
   "language": "python",
   "name": "python3"
  },
  "language_info": {
   "codemirror_mode": {
    "name": "ipython",
    "version": 3
   },
   "file_extension": ".py",
   "mimetype": "text/x-python",
   "name": "python",
   "nbconvert_exporter": "python",
   "pygments_lexer": "ipython3",
   "version": "3.11.8"
  }
 },
 "nbformat": 4,
 "nbformat_minor": 2
}
