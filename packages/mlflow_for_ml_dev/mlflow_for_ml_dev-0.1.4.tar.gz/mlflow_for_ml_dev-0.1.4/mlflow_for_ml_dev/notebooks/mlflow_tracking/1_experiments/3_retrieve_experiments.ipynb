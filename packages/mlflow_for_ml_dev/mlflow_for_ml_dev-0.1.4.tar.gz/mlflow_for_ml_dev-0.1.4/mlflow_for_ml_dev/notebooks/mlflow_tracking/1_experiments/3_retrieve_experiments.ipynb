{
 "cells": [
  {
   "cell_type": "markdown",
   "metadata": {},
   "source": [
    "# MLflow Experiments\n",
    "\n",
    "While MLflow does provide a default experiment, it primarily serves as a ‘catch-all’ safety net for runs initiated without a specified active experiment. However, it’s not recommended for regular use. Instead, creating unique experiments for specific collections of runs offers numerous advantages."
   ]
  },
  {
   "cell_type": "code",
   "execution_count": null,
   "metadata": {},
   "outputs": [],
   "source": [
    "import mlflow \n",
    "from mlflow_for_ml_dev.utils.utils import get_root_project\n",
    "from mlflow_for_ml_dev.experiments.exp_utils import print_experiment_info\n",
    "from mlflow_for_ml_dev.experiments.exp_utils import get_or_create_experiment"
   ]
  },
  {
   "cell_type": "code",
   "execution_count": null,
   "metadata": {},
   "outputs": [],
   "source": [
    "experiment_name = \"first_experiment\"\n",
    "tags = {\"project_name\":\"first_project\", \"topic\":\"experiment_management\"}\n",
    "experiment = get_or_create_experiment(experiment_name, tags)"
   ]
  },
  {
   "cell_type": "markdown",
   "metadata": {},
   "source": [
    "## Retrieving Experiments"
   ]
  },
  {
   "cell_type": "markdown",
   "metadata": {},
   "source": [
    "### Get Experiment\n",
    "\n",
    "`get_experiment(experiment_id: str) → Experiment`\n",
    "\n",
    "Retrieve an experiment by experiment_id from the backend store\n",
    "\n",
    "Parameters:\n",
    "\n",
    "* experiment_id – The experiment ID returned from create_experiment.\n",
    "\n",
    "Returns:\n",
    "\n",
    "* mlflow.entities.Experiment\n"
   ]
  },
  {
   "cell_type": "code",
   "execution_count": null,
   "metadata": {},
   "outputs": [],
   "source": [
    "experiment = mlflow.get_experiment(experiment_id=experiment.experiment_id)\n",
    "print_experiment_info(experiment)"
   ]
  },
  {
   "cell_type": "markdown",
   "metadata": {},
   "source": [
    "### Get Experiment by name\n",
    "\n",
    "`get_experiment_by_name(name: str) → Optional[Experiment]`\n",
    "\n",
    "Retrieve an experiment by experiment name from the backend store\n",
    "\n",
    "Parameters:\n",
    "\n",
    "* name – The case sensitive experiment name.\n",
    "\n",
    "Returns:\n",
    "\n",
    "* An instance of mlflow.entities.Experiment if an experiment with the specified name exists, otherwise None.\n"
   ]
  },
  {
   "cell_type": "code",
   "execution_count": null,
   "metadata": {},
   "outputs": [],
   "source": [
    "experiment = mlflow.get_experiment_by_name(name=experiment_name)\n",
    "print_experiment_info(experiment)"
   ]
  }
 ],
 "metadata": {
  "kernelspec": {
   "display_name": ".venv",
   "language": "python",
   "name": "python3"
  },
  "language_info": {
   "codemirror_mode": {
    "name": "ipython",
    "version": 3
   },
   "file_extension": ".py",
   "mimetype": "text/x-python",
   "name": "python",
   "nbconvert_exporter": "python",
   "pygments_lexer": "ipython3",
   "version": "3.11.8"
  }
 },
 "nbformat": 4,
 "nbformat_minor": 2
}
