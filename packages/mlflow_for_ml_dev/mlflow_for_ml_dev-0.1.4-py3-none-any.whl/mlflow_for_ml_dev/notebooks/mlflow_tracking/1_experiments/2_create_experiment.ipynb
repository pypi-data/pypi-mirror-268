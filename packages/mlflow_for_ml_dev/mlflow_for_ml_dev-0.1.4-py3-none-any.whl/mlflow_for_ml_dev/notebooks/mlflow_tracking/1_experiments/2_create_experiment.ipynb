{
 "cells": [
  {
   "cell_type": "markdown",
   "metadata": {},
   "source": [
    "\n",
    "**Using MLflow Client**\n",
    "\n",
    "`create_experiment(name: str, artifact_location: Optional[str] = None, tags: Optional[Dict[str, Any]] = None)->str`\n",
    "\n",
    "Parameters\n",
    "\n",
    "* **name** – The experiment name. Must be unique.\n",
    "\n",
    "* **artifact_location** – The location to store run artifacts. If not provided, the server picks an appropriate default.\n",
    "\n",
    "* **tags** – A dictionary of key-value pairs."
   ]
  },
  {
   "cell_type": "code",
   "execution_count": null,
   "metadata": {},
   "outputs": [],
   "source": [
    "import mlflow \n",
    "from mlflow_for_ml_dev.utils.utils import get_root_project\n",
    "from mlflow_for_ml_dev.experiments.exp_utils import print_experiment_info"
   ]
  },
  {
   "cell_type": "code",
   "execution_count": null,
   "metadata": {},
   "outputs": [],
   "source": [
    "root_folder = get_root_project()\n",
    "tracking_uri = (root_folder / \"mlruns\").as_uri()\n",
    "mlflow.set_tracking_uri(tracking_uri)"
   ]
  },
  {
   "cell_type": "code",
   "execution_count": null,
   "metadata": {},
   "outputs": [],
   "source": [
    "client = mlflow.tracking.MlflowClient()"
   ]
  },
  {
   "cell_type": "code",
   "execution_count": null,
   "metadata": {},
   "outputs": [],
   "source": [
    "tags = {\"project_name\":\"first_project\", \"topic\":\"experiment_management\"}\n",
    "experiment_id = client.create_experiment(name=\"first_experiment\", tags=tags)"
   ]
  },
  {
   "cell_type": "code",
   "execution_count": null,
   "metadata": {},
   "outputs": [],
   "source": [
    "# Fetch experiment metadata information\n",
    "experiment = client.get_experiment(experiment_id)\n",
    "print_experiment_info(experiment)"
   ]
  },
  {
   "cell_type": "markdown",
   "metadata": {},
   "source": [
    "**Dealing with existing experiments**"
   ]
  },
  {
   "cell_type": "code",
   "execution_count": null,
   "metadata": {},
   "outputs": [],
   "source": [
    "try:\n",
    "    experiment_id = client.create_experiment(name=\"first_experiment\", tags=tags)\n",
    "except mlflow.exceptions.MlflowException as e:\n",
    "    print(e)"
   ]
  }
 ],
 "metadata": {
  "kernelspec": {
   "display_name": ".venv",
   "language": "python",
   "name": "python3"
  },
  "language_info": {
   "codemirror_mode": {
    "name": "ipython",
    "version": 3
   },
   "file_extension": ".py",
   "mimetype": "text/x-python",
   "name": "python",
   "nbconvert_exporter": "python",
   "pygments_lexer": "ipython3",
   "version": "3.11.8"
  }
 },
 "nbformat": 4,
 "nbformat_minor": 2
}
