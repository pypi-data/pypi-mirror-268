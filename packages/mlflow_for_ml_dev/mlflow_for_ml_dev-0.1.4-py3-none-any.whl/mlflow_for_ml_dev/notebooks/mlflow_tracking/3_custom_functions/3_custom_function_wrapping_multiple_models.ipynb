{
 "cells": [
  {
   "cell_type": "markdown",
   "metadata": {},
   "source": [
    "## Using Parameters to wrap multiple models in a single MLflow model."
   ]
  },
  {
   "cell_type": "code",
   "execution_count": null,
   "metadata": {},
   "outputs": [],
   "source": [
    "from mlflow_for_ml_dev.experiments.exp_utils import get_or_create_experiment\n",
    "from mlflow_for_ml_dev.utils.utils import get_root_project\n",
    "\n",
    "from mlflow_for_ml_dev.experiments.custom_models import MultiModel\n",
    "\n",
    "from sklearn.ensemble import RandomForestClassifier\n",
    "from sklearn.ensemble import GradientBoostingClassifier\n",
    "\n",
    "from sklearn.datasets import load_iris\n",
    "from sklearn.model_selection import train_test_split\n",
    "import mlflow\n",
    "from mlflow.models.signature import infer_signature\n",
    "\n",
    "from mlflow.models.signature import ModelSignature\n",
    "from mlflow.models.signature import Schema\n",
    "from mlflow.types.schema import ColSpec\n",
    "from mlflow.types.schema import TensorSpec\n",
    "from mlflow.types.schema import ParamSpec\n",
    "from mlflow.types.schema import ParamSchema\n",
    "import numpy as np"
   ]
  },
  {
   "cell_type": "code",
   "execution_count": null,
   "metadata": {},
   "outputs": [],
   "source": [
    "# create experiment\n",
    "experiment_name = \"wrapping_multiple_models\"\n",
    "experiment = get_or_create_experiment(\n",
    "    experiment_name = experiment_name,\n",
    "    tags = {\n",
    "        \"proejct_name\": \"multiple_models\",\n",
    "        \"topic\":\"pyfunc_flavor\",\n",
    "        \"mlflow.note.content\": \"This experiment is to show how to wrap multiple models in a single model\"\n",
    "    }\n",
    ")"
   ]
  },
  {
   "cell_type": "markdown",
   "metadata": {},
   "source": [
    "# Load Iris Dataset"
   ]
  },
  {
   "cell_type": "code",
   "execution_count": null,
   "metadata": {},
   "outputs": [],
   "source": [
    "iris = load_iris(as_frame=True)\n",
    "\n",
    "X = iris.data\n",
    "y = iris.target\n",
    "\n",
    "x_train, x_test, y_train, y_test = train_test_split(X, y, test_size=0.2, random_state=42)"
   ]
  },
  {
   "cell_type": "markdown",
   "metadata": {},
   "source": [
    "## Defining signature of the model\n",
    "\n",
    "We can build the model signature using the corresponding classes from mlflow. "
   ]
  },
  {
   "cell_type": "code",
   "execution_count": null,
   "metadata": {},
   "outputs": [],
   "source": [
    "# defining input schema. In this case, we are using all the features as input\n",
    "input_schema = Schema([ColSpec(name=feature_name, type=\"float\") for feature_name in x_train.columns])\n",
    "\n",
    "# defining output schema. In this case, we are using the target as output\n",
    "output_schema = Schema([TensorSpec(name=\"model_id\", shape=(-1,), type=np.dtype(np.int32))]) \n",
    "\n",
    "# defining param schema. In this case, we are using the model_id as a parameter\n",
    "param_schema = ParamSchema(params = [ParamSpec(name=\"model_id\", dtype=\"string\", default=\"rfc\")])\n",
    "\n",
    "# defining the model signature\n",
    "model_signature = ModelSignature(inputs=input_schema, outputs=output_schema, params=param_schema)\n",
    "print(model_signature)"
   ]
  },
  {
   "cell_type": "markdown",
   "metadata": {},
   "source": [
    "We can infer the schema from the input and outputs of the model."
   ]
  },
  {
   "cell_type": "code",
   "execution_count": null,
   "metadata": {},
   "outputs": [],
   "source": [
    "models = {\"rfc\":RandomForestClassifier(),\"gbc\": GradientBoostingClassifier()}\n",
    "\n",
    "model = MultiModel(models)\n",
    "\n",
    "# fitting the models\n",
    "model.fit_estimators(x_train, y_train)\n",
    "\n",
    "# getting the model predictions (output)\n",
    "output = model.predict(None, x_test,params={\"model_id\":\"rfc\"})\n",
    "\n",
    "# defining the model signature\n",
    "model_signature = infer_signature(model_input=x_train,model_output= output, params={\"model_id\":\"rfc\"})\n",
    "\n",
    "print(model_signature)"
   ]
  },
  {
   "cell_type": "markdown",
   "metadata": {},
   "source": [
    "### Training and Logging the model with Signature"
   ]
  },
  {
   "cell_type": "code",
   "execution_count": null,
   "metadata": {},
   "outputs": [],
   "source": [
    "models = {\"rfc\":RandomForestClassifier(),\"gbc\": GradientBoostingClassifier()}\n",
    "multi_model = MultiModel(models=models)\n",
    "\n",
    "project_dir = get_root_project()\n",
    "code_path = project_dir / \"mlflow_for_ml_dev/experiments/custom_models.py\"\n",
    "# start mlflow run \n",
    "with mlflow.start_run(run_name=\"multi_model\", experiment_id=experiment.experiment_id) as run:\n",
    "    multi_model.fit_estimators(x_train, y_train)\n",
    "    mlflow.pyfunc.log_model(artifact_path=\"multi_model\", python_model=multi_model, signature=model_signature, code_path=[code_path])"
   ]
  },
  {
   "cell_type": "markdown",
   "metadata": {},
   "source": [
    "## Scoring model\n",
    "\n",
    "Now we can use the same mlflow model to score both the Random Forest Classifier and Gradient Boost Classifier"
   ]
  },
  {
   "cell_type": "code",
   "execution_count": null,
   "metadata": {},
   "outputs": [],
   "source": [
    "loaded_model = mlflow.pyfunc.load_model(model_uri=f\"runs:/{run.info.run_id}/multi_model\")"
   ]
  },
  {
   "cell_type": "code",
   "execution_count": null,
   "metadata": {},
   "outputs": [],
   "source": [
    "loaded_model.predict(x_test, params={\"model_id\":\"rfc\"})"
   ]
  },
  {
   "cell_type": "code",
   "execution_count": null,
   "metadata": {},
   "outputs": [
    {
     "ename": "",
     "evalue": "",
     "output_type": "error",
     "traceback": [
      "\u001b[1;31mThe Kernel crashed while executing code in the current cell or a previous cell. \n",
      "\u001b[1;31mPlease review the code in the cell(s) to identify a possible cause of the failure. \n",
      "\u001b[1;31mClick <a href='https://aka.ms/vscodeJupyterKernelCrash'>here</a> for more info. \n",
      "\u001b[1;31mView Jupyter <a href='command:jupyter.viewOutput'>log</a> for further details."
     ]
    }
   ],
   "source": [
    "loaded_model.predict(x_test, params={\"model_id\":\"gbc\"})"
   ]
  }
 ],
 "metadata": {
  "kernelspec": {
   "display_name": ".venv",
   "language": "python",
   "name": "python3"
  },
  "language_info": {
   "codemirror_mode": {
    "name": "ipython",
    "version": 3
   },
   "file_extension": ".py",
   "mimetype": "text/x-python",
   "name": "python",
   "nbconvert_exporter": "python",
   "pygments_lexer": "ipython3",
   "version": "3.11.8"
  }
 },
 "nbformat": 4,
 "nbformat_minor": 2
}
