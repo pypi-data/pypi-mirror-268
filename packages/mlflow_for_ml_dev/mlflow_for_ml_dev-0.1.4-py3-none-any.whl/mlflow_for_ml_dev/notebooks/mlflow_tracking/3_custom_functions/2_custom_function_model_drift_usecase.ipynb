{
 "cells": [
  {
   "cell_type": "markdown",
   "metadata": {},
   "source": [
    "# Classifier with automatically Drift Detection Implementation"
   ]
  },
  {
   "cell_type": "code",
   "execution_count": null,
   "metadata": {},
   "outputs": [],
   "source": [
    "from mlflow_for_ml_dev.experiments.exp_utils import get_or_create_experiment\n",
    "from sklearn.datasets import make_classification\n",
    "import tempfile\n",
    "import pandas as pd\n",
    "import mlflow "
   ]
  },
  {
   "cell_type": "code",
   "execution_count": null,
   "metadata": {},
   "outputs": [],
   "source": [
    "# create experiment\n",
    "experiment_name = \"model_with_drift_detection\"\n",
    "experiment = get_or_create_experiment(\n",
    "    experiment_name = experiment_name,\n",
    "    tags = {\n",
    "        \"proejct_name\": \"automatic_model_monitoring\",\n",
    "        \"topic\":\"pyfunc_flavor\",\n",
    "        \"mlflow.note.content\": \"This experiment is used to track the model with drift detection\"\n",
    "    }\n",
    ")"
   ]
  },
  {
   "cell_type": "markdown",
   "metadata": {},
   "source": [
    "### Create demo dataset"
   ]
  },
  {
   "cell_type": "code",
   "execution_count": null,
   "metadata": {},
   "outputs": [],
   "source": [
    "x , y = make_classification(n_samples=1000, n_features=20, n_informative=2, n_redundant=10, n_clusters_per_class=1)\n",
    "\n",
    "feature_names = [f\"feature_{i}\" for i in range(x.shape[1])]\n",
    "\n",
    "df = pd.DataFrame(x, columns=feature_names)\n",
    "df[\"target\"] = y"
   ]
  },
  {
   "cell_type": "markdown",
   "metadata": {},
   "source": [
    "### Create custom model"
   ]
  },
  {
   "cell_type": "code",
   "execution_count": null,
   "metadata": {},
   "outputs": [],
   "source": [
    "from mlflow_for_ml_dev.utils.utils import get_root_project\n",
    "from mlflow_for_ml_dev.experiments.custom_models import CustomClassifier\n",
    "\n",
    "\n",
    "# start run\n",
    "with mlflow.start_run(run_name=\"custom_classifier\", experiment_id=experiment.experiment_id) as run:\n",
    "    # train model\n",
    "    custom_clf = CustomClassifier(run_id = run.info.run_id)\n",
    "    custom_clf.fit_estimator(df[feature_names], df[\"target\"])\n",
    "\n",
    "    # save dataset\n",
    "    df.to_csv(\"training_data.csv\", index=False)\n",
    "\n",
    "    mlflow.pyfunc.log_model(python_model=custom_clf,\n",
    "                            artifact_path=custom_clf.__class__.__name__,\n",
    "                            code_path=[(get_root_project() / \"mlflow_for_ml_dev\" / \"experiments\" /\"custom_models.py\" ).as_posix()],\n",
    "                            artifacts={\"x_ref_path\":\"training_data.csv\"})"
   ]
  },
  {
   "cell_type": "code",
   "execution_count": null,
   "metadata": {},
   "outputs": [],
   "source": [
    "loaded_model = mlflow.pyfunc.load_model(\"runs:/\" + run.info.run_id + \"/\" + \"CustomClassifier\")"
   ]
  },
  {
   "cell_type": "code",
   "execution_count": null,
   "metadata": {},
   "outputs": [
    {
     "ename": "",
     "evalue": "",
     "output_type": "error",
     "traceback": [
      "\u001b[1;31mThe Kernel crashed while executing code in the current cell or a previous cell. \n",
      "\u001b[1;31mPlease review the code in the cell(s) to identify a possible cause of the failure. \n",
      "\u001b[1;31mClick <a href='https://aka.ms/vscodeJupyterKernelCrash'>here</a> for more info. \n",
      "\u001b[1;31mView Jupyter <a href='command:jupyter.viewOutput'>log</a> for further details."
     ]
    }
   ],
   "source": [
    "loaded_model.predict(df[feature_names])"
   ]
  },
  {
   "cell_type": "code",
   "execution_count": null,
   "metadata": {},
   "outputs": [],
   "source": []
  },
  {
   "cell_type": "code",
   "execution_count": null,
   "metadata": {},
   "outputs": [],
   "source": []
  },
  {
   "cell_type": "code",
   "execution_count": null,
   "metadata": {},
   "outputs": [],
   "source": []
  }
 ],
 "metadata": {
  "kernelspec": {
   "display_name": "Python 3 (ipykernel)",
   "language": "python",
   "name": "python3"
  },
  "language_info": {
   "codemirror_mode": {
    "name": "ipython",
    "version": 3
   },
   "file_extension": ".py",
   "mimetype": "text/x-python",
   "name": "python",
   "nbconvert_exporter": "python",
   "pygments_lexer": "ipython3",
   "version": "3.11.8"
  }
 },
 "nbformat": 4,
 "nbformat_minor": 4
}
