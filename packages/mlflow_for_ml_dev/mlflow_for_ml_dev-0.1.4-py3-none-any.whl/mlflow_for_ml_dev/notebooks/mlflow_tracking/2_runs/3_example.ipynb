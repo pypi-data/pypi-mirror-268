{
 "cells": [
  {
   "cell_type": "markdown",
   "metadata": {},
   "source": [
    "# Example: Iris classifier"
   ]
  },
  {
   "cell_type": "code",
   "execution_count": null,
   "metadata": {},
   "outputs": [],
   "source": [
    "#Load packages\n",
    "import os\n",
    "import mlflow\n",
    "from sklearn.datasets import load_iris\n",
    "from sklearn.model_selection import train_test_split\n",
    "from sklearn.ensemble import RandomForestClassifier\n",
    "from sklearn.metrics import balanced_accuracy_score\n",
    "from sklearn.metrics import ConfusionMatrixDisplay\n",
    "from sklearn.metrics import classification_report\n",
    "from sklearn import tree\n",
    "import pandas as pd\n",
    "import numpy as np\n",
    "import matplotlib.pyplot as plt\n",
    "\n",
    "from mlflow_for_ml_dev.experiments.exp_utils import get_or_create_experiment"
   ]
  },
  {
   "cell_type": "markdown",
   "metadata": {},
   "source": [
    "## Loading and Exploring Dataset"
   ]
  },
  {
   "cell_type": "code",
   "execution_count": null,
   "metadata": {},
   "outputs": [],
   "source": [
    "## Load data\n",
    "data = load_iris(as_frame=True)\n"
   ]
  },
  {
   "cell_type": "code",
   "execution_count": null,
   "metadata": {},
   "outputs": [],
   "source": [
    "data.data"
   ]
  },
  {
   "cell_type": "code",
   "execution_count": null,
   "metadata": {},
   "outputs": [],
   "source": [
    "data.target"
   ]
  },
  {
   "cell_type": "code",
   "execution_count": null,
   "metadata": {},
   "outputs": [],
   "source": [
    "# split dataset into training and testing data\n",
    "x_train, x_test, y_train, y_test = train_test_split(data.data, data.target, test_size=0.2, random_state=42)"
   ]
  },
  {
   "cell_type": "markdown",
   "metadata": {},
   "source": [
    "## Modelling"
   ]
  },
  {
   "cell_type": "code",
   "execution_count": null,
   "metadata": {},
   "outputs": [],
   "source": [
    "experiment = get_or_create_experiment(\n",
    "    experiment_name=\"iris\",\n",
    "    tags={\n",
    "        \"mlflow.note.content\": \"iris dataset classification experiment\",\n",
    "        \"project_name\":\"iris_classifier\",\n",
    "        \"task\": \"classification\",\n",
    "        \"topic\": \"run_management\",\n",
    "    }\n",
    ")"
   ]
  },
  {
   "cell_type": "code",
   "execution_count": null,
   "metadata": {},
   "outputs": [],
   "source": [
    "# start mlflow run\n",
    "with mlflow.start_run(run_name = \"iris_classifier\", experiment_id=experiment.experiment_id) as run:\n",
    "\n",
    "    print(\"Run ID:\", run.info.run_id)\n",
    "    #create instance of random forest classifier\n",
    "    rfc = RandomForestClassifier()\n",
    "\n",
    "    # train model\n",
    "    rfc.fit(x_train, y_train)\n",
    "\n",
    "    # predict\n",
    "    y_pred = rfc.predict(x_test)\n",
    "    classification_report_ = classification_report(y_test, y_pred, output_dict=True)\n",
    "    accuracy_score = balanced_accuracy_score(y_test, y_pred)\n",
    "    confusion_matrix = ConfusionMatrixDisplay.from_estimator(rfc, x_test, y_test)\n",
    "\n",
    "    # log metrics as json file\n",
    "    mlflow.log_dict(classification_report_, \"files/classification_report.json\")\n",
    "    \n",
    "    # log metrics\n",
    "    mlflow.log_metric(\"accuracy\", accuracy_score)\n",
    "\n",
    "    # log figure \n",
    "    mlflow.log_figure(confusion_matrix.figure_, \"confusion_matrix.png\")\n",
    "\n",
    "    # log params\n",
    "    mlflow.log_params(rfc.get_params())\n",
    "\n",
    "    # log model\n",
    "    mlflow.sklearn.log_model(sk_model=rfc, artifact_path=\"model\", metadata={\"some_key\": \"some_value\"})"
   ]
  },
  {
   "cell_type": "markdown",
   "metadata": {},
   "source": [
    "**Get plot of first estimators**"
   ]
  },
  {
   "cell_type": "code",
   "execution_count": null,
   "metadata": {},
   "outputs": [],
   "source": [
    "# code taken from this post https://stackoverflow.com/questions/40155128/plot-trees-for-a-random-forest-in-python-with-scikit-learn\n",
    "fn = data.feature_names\n",
    "cn = data.target_names\n",
    "fig, axes = plt.subplots(nrows = 1,ncols = 5,figsize = (10,2), dpi=900)\n",
    "for index in range(0, 5):\n",
    "    tree.plot_tree(rfc.estimators_[index],\n",
    "                   feature_names = fn, \n",
    "                   class_names=cn,\n",
    "                   filled = True,\n",
    "                   ax = axes[index])\n",
    "\n",
    "    axes[index].set_title('Estimator: ' + str(index), fontsize = 11)\n",
    "\n",
    "\n",
    "# create directory for artifacts\n",
    "os.makedirs('./artifacts_example', exist_ok=True)\n",
    "\n",
    "# save figure\n",
    "fig.savefig('./artifacts_example/rf_5trees.png')"
   ]
  },
  {
   "cell_type": "markdown",
   "metadata": {},
   "source": [
    "**Get feature Importance Plot**"
   ]
  },
  {
   "cell_type": "code",
   "execution_count": null,
   "metadata": {},
   "outputs": [],
   "source": [
    "importances = rfc.feature_importances_\n",
    "std = np.std([tree.feature_importances_ for tree in rfc.estimators_], axis=0)\n",
    "forest_importances = pd.Series(importances, index=fn)\n",
    "\n",
    "fig, ax = plt.subplots()\n",
    "forest_importances.plot.bar(yerr=std, ax=ax)\n",
    "ax.set_title(\"Feature importances using MDI\")\n",
    "ax.set_ylabel(\"Mean decrease in impurity\")\n",
    "fig.tight_layout()\n",
    "\n",
    "# save figure\n",
    "fig.savefig(\"./artifacts_example/feature_importance.png\")"
   ]
  },
  {
   "cell_type": "code",
   "execution_count": null,
   "metadata": {},
   "outputs": [],
   "source": [
    "x_test[\"target\"] = y_test\n",
    "x_test[\"prediction\"] = y_pred\n",
    "\n",
    "# save predictions\n",
    "x_test.to_csv(\"./artifacts_example/predictions.csv\", index=False)"
   ]
  },
  {
   "cell_type": "code",
   "execution_count": null,
   "metadata": {},
   "outputs": [
    {
     "ename": "",
     "evalue": "",
     "output_type": "error",
     "traceback": [
      "\u001b[1;31mThe Kernel crashed while executing code in the current cell or a previous cell. \n",
      "\u001b[1;31mPlease review the code in the cell(s) to identify a possible cause of the failure. \n",
      "\u001b[1;31mClick <a href='https://aka.ms/vscodeJupyterKernelCrash'>here</a> for more info. \n",
      "\u001b[1;31mView Jupyter <a href='command:jupyter.viewOutput'>log</a> for further details."
     ]
    }
   ],
   "source": [
    "# log artifacts\n",
    "with mlflow.start_run(run_id=run.info.run_id, experiment_id=experiment.experiment_id):\n",
    "\n",
    "    # Log individual artifacts\n",
    "    mlflow.log_artifact(local_path = \"./artifacts_example/rf_5trees.png\", artifact_path=\"artifacts\")\n",
    "    mlflow.log_artifact(local_path = \"./artifacts_example/feature_importance.png\", artifact_path=\"artifacts\")\n",
    "    mlflow.log_artifact(local_path = \"./artifacts_example/predictions.csv\", artifact_path=\"artifacts\")\n",
    "\n",
    "    # Log all artifacts in a directory\n",
    "    mlflow.log_artifacts(local_dir = \"./artifacts_example\", artifact_path=\"all_artifacts\")"
   ]
  },
  {
   "cell_type": "code",
   "execution_count": null,
   "metadata": {},
   "outputs": [],
   "source": []
  }
 ],
 "metadata": {
  "kernelspec": {
   "display_name": ".venv",
   "language": "python",
   "name": "python3"
  },
  "language_info": {
   "codemirror_mode": {
    "name": "ipython",
    "version": 3
   },
   "file_extension": ".py",
   "mimetype": "text/x-python",
   "name": "python",
   "nbconvert_exporter": "python",
   "pygments_lexer": "ipython3",
   "version": "3.11.8"
  }
 },
 "nbformat": 4,
 "nbformat_minor": 2
}
