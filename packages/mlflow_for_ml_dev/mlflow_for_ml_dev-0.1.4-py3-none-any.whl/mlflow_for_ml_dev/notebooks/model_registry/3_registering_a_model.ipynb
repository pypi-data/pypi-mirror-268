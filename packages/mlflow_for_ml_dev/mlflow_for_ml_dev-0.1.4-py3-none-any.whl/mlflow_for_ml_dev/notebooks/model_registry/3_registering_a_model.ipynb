{
 "cells": [
  {
   "cell_type": "markdown",
   "metadata": {},
   "source": [
    "# MLflow Model Registry\n",
    "\n",
    "##  Register a Model via MLflow Client\n",
    "\n",
    "### Using the client."
   ]
  },
  {
   "cell_type": "code",
   "execution_count": null,
   "metadata": {},
   "outputs": [],
   "source": [
    "from mlflow_for_ml_dev.experiments.exp_utils import get_or_create_experiment\n",
    "import mlflow\n",
    "from sklearn.ensemble import RandomForestClassifier"
   ]
  },
  {
   "cell_type": "code",
   "execution_count": null,
   "metadata": {},
   "outputs": [],
   "source": [
    "experiment_name = \"registering-model-through-api\"\n",
    "tags = {\"project_name\":\"UNDEFINED\", \"topic\":\"model_registry\"}\n",
    "experiment = get_or_create_experiment(experiment_name = experiment_name, tags = tags)"
   ]
  },
  {
   "cell_type": "code",
   "execution_count": null,
   "metadata": {},
   "outputs": [],
   "source": [
    "rfc = RandomForestClassifier()\n",
    "\n",
    "with mlflow.start_run(run_name = \"logging_model\",experiment_id=experiment.experiment_id) as run:\n",
    "    mlflow.sklearn.log_model(rfc, \"model\")"
   ]
  },
  {
   "cell_type": "markdown",
   "metadata": {},
   "source": [
    "#### Create Empty registered model"
   ]
  },
  {
   "cell_type": "code",
   "execution_count": null,
   "metadata": {},
   "outputs": [],
   "source": [
    "model_name = \"registered-model-through-client\"\n",
    "model_tags = {\"framework\":\"sklearn\", \"task\":\"classification\", \"purpose\":\"testing\"}\n",
    "\n",
    "client = mlflow.MlflowClient()\n",
    "result = client.create_registered_model(name = model_name, tags=model_tags, description=\"Model Registered using MLflow Client\")"
   ]
  },
  {
   "cell_type": "code",
   "execution_count": null,
   "metadata": {},
   "outputs": [],
   "source": [
    "print(type(result))"
   ]
  },
  {
   "cell_type": "markdown",
   "metadata": {},
   "source": [
    "#### Create Model Version"
   ]
  },
  {
   "cell_type": "code",
   "execution_count": null,
   "metadata": {},
   "outputs": [],
   "source": [
    "version_tags = {\"validation_status\":\"pending\"}\n",
    "model_version = client.create_model_version(\n",
    "    name = model_name,\n",
    "    source = run.info.artifact_uri,\n",
    "    run_id = run.info.run_id,\n",
    "    tags = version_tags,\n",
    "    description = \"Model Version created using MLflow Client\")"
   ]
  },
  {
   "cell_type": "code",
   "execution_count": null,
   "metadata": {},
   "outputs": [],
   "source": []
  }
 ],
 "metadata": {
  "kernelspec": {
   "display_name": ".venv",
   "language": "python",
   "name": "python3"
  },
  "language_info": {
   "codemirror_mode": {
    "name": "ipython",
    "version": 3
   },
   "file_extension": ".py",
   "mimetype": "text/x-python",
   "name": "python",
   "nbconvert_exporter": "python",
   "pygments_lexer": "ipython3",
   "version": "3.11.8"
  }
 },
 "nbformat": 4,
 "nbformat_minor": 2
}
