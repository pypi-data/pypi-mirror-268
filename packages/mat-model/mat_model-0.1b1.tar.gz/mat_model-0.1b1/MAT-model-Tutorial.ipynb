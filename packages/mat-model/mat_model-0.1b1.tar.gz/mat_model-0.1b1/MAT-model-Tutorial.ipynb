{
 "cells": [
  {
   "cell_type": "markdown",
   "metadata": {},
   "source": [
    "# MAT-model: Model Classes for Multiple Aspect Trajectory Data Mining \\[MAT-Tools Framework\\]\n",
    "\n",
    "Sample Code in python notebook to use `mat-model` as a python library.\n",
    "\n",
    "The present package offers a tool, to support the user in the task of modeling multiple aspect trajectories. It integrates into a unique framework for multiple aspects trajectories and in general for multidimensional sequence data mining methods.\n",
    "\n",
    "Created on Apr, 2024\n",
    "Copyright (C) 2023, License GPL Version 3 or superior (see LICENSE file)"
   ]
  },
  {
   "cell_type": "code",
   "execution_count": 9,
   "metadata": {
    "tags": []
   },
   "outputs": [
    {
     "name": "stdout",
     "output_type": "stream",
     "text": [
      "Collecting mat-model==0.1b0\n",
      "  Downloading mat_model-0.1b0-py3-none-any.whl.metadata (5.0 kB)\n",
      "Requirement already satisfied: glob2 in /Users/tarlisportela/miniforge3/lib/python3.9/site-packages (from mat-model==0.1b0) (0.7)\n",
      "Requirement already satisfied: numpy in /Users/tarlisportela/miniforge3/lib/python3.9/site-packages (from mat-model==0.1b0) (1.22.4)\n",
      "Requirement already satisfied: pandas in /Users/tarlisportela/miniforge3/lib/python3.9/site-packages (from mat-model==0.1b0) (1.3.4)\n",
      "Requirement already satisfied: python-dateutil>=2.7.3 in /Users/tarlisportela/miniforge3/lib/python3.9/site-packages (from pandas->mat-model==0.1b0) (2.8.2)\n",
      "Requirement already satisfied: pytz>=2017.3 in /Users/tarlisportela/miniforge3/lib/python3.9/site-packages (from pandas->mat-model==0.1b0) (2022.1)\n",
      "Requirement already satisfied: six>=1.5 in /Users/tarlisportela/miniforge3/lib/python3.9/site-packages (from python-dateutil>=2.7.3->pandas->mat-model==0.1b0) (1.15.0)\n",
      "Downloading mat_model-0.1b0-py3-none-any.whl (15 kB)\n",
      "Installing collected packages: mat-model\n",
      "  Attempting uninstall: mat-model\n",
      "    Found existing installation: mat-model 0.1b12\n",
      "    Uninstalling mat-model-0.1b12:\n",
      "      Successfully uninstalled mat-model-0.1b12\n",
      "Successfully installed mat-model-0.1b0\n"
     ]
    }
   ],
   "source": [
    "#!pip install mat-model\n",
    "!pip install --upgrade mat-model"
   ]
  },
  {
   "cell_type": "code",
   "execution_count": 7,
   "metadata": {},
   "outputs": [],
   "source": [
    "import matmodel"
   ]
  },
  {
   "cell_type": "markdown",
   "metadata": {},
   "source": [
    "\\# By Tarlis Portela (2023)"
   ]
  }
 ],
 "metadata": {
  "kernelspec": {
   "display_name": "Python 3 (ipykernel)",
   "language": "python",
   "name": "python3"
  },
  "language_info": {
   "codemirror_mode": {
    "name": "ipython",
    "version": 3
   },
   "file_extension": ".py",
   "mimetype": "text/x-python",
   "name": "python",
   "nbconvert_exporter": "python",
   "pygments_lexer": "ipython3",
   "version": "3.9.13"
  }
 },
 "nbformat": 4,
 "nbformat_minor": 4
}
